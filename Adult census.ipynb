{
 "cells": [
  {
   "cell_type": "markdown",
   "id": "d03ac0d7-23f0-4b12-bf2f-e1bb76eff3c6",
   "metadata": {},
   "source": [
    "# Initialization\n"
   ]
  },
  {
   "cell_type": "code",
   "execution_count": 1,
   "id": "bded23d6-27cd-424f-96ce-bb7250a14673",
   "metadata": {},
   "outputs": [
    {
     "name": "stdout",
     "output_type": "stream",
     "text": [
      "Requirement already satisfied: cassandra-driver in c:\\users\\kuldeep\\anaconda3\\lib\\site-packages (3.25.0)\n",
      "Requirement already satisfied: geomet<0.3,>=0.1 in c:\\users\\kuldeep\\anaconda3\\lib\\site-packages (from cassandra-driver) (0.2.1.post1)\n",
      "Requirement already satisfied: six>=1.9 in c:\\users\\kuldeep\\anaconda3\\lib\\site-packages (from cassandra-driver) (1.16.0)\n",
      "Requirement already satisfied: click in c:\\users\\kuldeep\\anaconda3\\lib\\site-packages (from geomet<0.3,>=0.1->cassandra-driver) (8.0.4)\n",
      "Requirement already satisfied: colorama in c:\\users\\kuldeep\\anaconda3\\lib\\site-packages (from click->geomet<0.3,>=0.1->cassandra-driver) (0.4.4)\n"
     ]
    }
   ],
   "source": [
    "# Installing cassandra drivers\n",
    "!pip install cassandra-driver"
   ]
  },
  {
   "cell_type": "code",
   "execution_count": 2,
   "id": "a6deeec2-06d7-41d7-98b7-acfd739c0cca",
   "metadata": {},
   "outputs": [
    {
     "name": "stdout",
     "output_type": "stream",
     "text": [
      "3.25.0\n"
     ]
    }
   ],
   "source": [
    "#Confirming version\n",
    "import cassandra\n",
    "print (cassandra.__version__)"
   ]
  },
  {
   "cell_type": "code",
   "execution_count": 3,
   "id": "1a63430f-4cf8-4660-b7db-a4bb217e5910",
   "metadata": {},
   "outputs": [],
   "source": [
    "# Importing required libraries\n",
    "import numpy as np\n",
    "import pandas as pd\n",
    "import matplotlib.pyplot as plt\n",
    "import seaborn as sns\n",
    "\n",
    "# Ignoring warnings\n",
    "import warnings \n",
    "warnings.filterwarnings(action='ignore')"
   ]
  },
  {
   "cell_type": "code",
   "execution_count": 4,
   "id": "d3a45cba-f573-48f6-97f4-696ca9ccc7bc",
   "metadata": {},
   "outputs": [
    {
     "name": "stdout",
     "output_type": "stream",
     "text": [
      "4.0.0.6816\n"
     ]
    }
   ],
   "source": [
    "# Connecting to cassandra DB\n",
    "client_id = 'AsRlDWZTUgamzlbxUeZqPPOc'\n",
    "client_secret = '-jZZYxLDSUFdYQ-h_G_Bu4huiKTz465bwp+lNoLI,N0F82Lrwt0KLqDbbBQ9EMQYs_.9ZYPpqGBQM5a+b8z3vaQUGqkLxIhhYQbQ.ljqtJJSa5LbuHw7tSLe9-SZobrS'\n",
    "from cassandra.cluster import Cluster\n",
    "from cassandra.auth import PlainTextAuthProvider\n",
    "\n",
    "cloud_config= {'secure_connect_bundle': 'secure-connect-adult-census.zip'}\n",
    "auth_provider = PlainTextAuthProvider(client_id, client_secret)\n",
    "cluster = Cluster(cloud=cloud_config, auth_provider=auth_provider)\n",
    "session = cluster.connect()\n",
    "\n",
    "row = session.execute(\"select release_version from system.local\").one()\n",
    "if row:\n",
    "      print(row[0])\n",
    "else:\n",
    "      print(\"An error occurred.\")"
   ]
  },
  {
   "cell_type": "code",
   "execution_count": 5,
   "id": "71436360-e88a-4d98-a9ec-32c11b3522cd",
   "metadata": {},
   "outputs": [
    {
     "data": {
      "text/plain": [
       "Index(['age', 'workclass', 'fnlwgt', 'education', 'education_num',\n",
       "       'marital_status', 'occupation', 'relationship', 'race', 'sex',\n",
       "       'capital_gain', 'capital_loss', 'hours_per_week', 'country', 'salary'],\n",
       "      dtype='object')"
      ]
     },
     "execution_count": 5,
     "metadata": {},
     "output_type": "execute_result"
    }
   ],
   "source": [
    "#Creating a pandas dataframe\n",
    "df = pd.DataFrame(list(session.execute(\"select * from kuldeep.adult_data;\")))\n",
    "\n",
    "# getting different columns\n",
    "df.columns"
   ]
  },
  {
   "cell_type": "code",
   "execution_count": 6,
   "id": "801504f4-549f-4a23-b17b-6a1015b97de6",
   "metadata": {},
   "outputs": [
    {
     "data": {
      "text/html": [
       "<div>\n",
       "<style scoped>\n",
       "    .dataframe tbody tr th:only-of-type {\n",
       "        vertical-align: middle;\n",
       "    }\n",
       "\n",
       "    .dataframe tbody tr th {\n",
       "        vertical-align: top;\n",
       "    }\n",
       "\n",
       "    .dataframe thead th {\n",
       "        text-align: right;\n",
       "    }\n",
       "</style>\n",
       "<table border=\"1\" class=\"dataframe\">\n",
       "  <thead>\n",
       "    <tr style=\"text-align: right;\">\n",
       "      <th></th>\n",
       "      <th>age</th>\n",
       "      <th>workclass</th>\n",
       "      <th>fnlwgt</th>\n",
       "      <th>education</th>\n",
       "      <th>education_num</th>\n",
       "      <th>marital_status</th>\n",
       "      <th>occupation</th>\n",
       "      <th>relationship</th>\n",
       "      <th>race</th>\n",
       "      <th>sex</th>\n",
       "      <th>capital_gain</th>\n",
       "      <th>capital_loss</th>\n",
       "      <th>hours_per_week</th>\n",
       "      <th>country</th>\n",
       "      <th>salary</th>\n",
       "    </tr>\n",
       "  </thead>\n",
       "  <tbody>\n",
       "    <tr>\n",
       "      <th>0</th>\n",
       "      <td>60</td>\n",
       "      <td>Private</td>\n",
       "      <td>193235</td>\n",
       "      <td>Assoc-acdm</td>\n",
       "      <td>12</td>\n",
       "      <td>Married-civ-spouse</td>\n",
       "      <td>Adm-clerical</td>\n",
       "      <td>Husband</td>\n",
       "      <td>White</td>\n",
       "      <td>Male</td>\n",
       "      <td>0</td>\n",
       "      <td>0</td>\n",
       "      <td>24</td>\n",
       "      <td>United-States</td>\n",
       "      <td>&lt;=50K</td>\n",
       "    </tr>\n",
       "    <tr>\n",
       "      <th>1</th>\n",
       "      <td>19</td>\n",
       "      <td>Private</td>\n",
       "      <td>349620</td>\n",
       "      <td>10th</td>\n",
       "      <td>6</td>\n",
       "      <td>Never-married</td>\n",
       "      <td>Machine-op-inspct</td>\n",
       "      <td>Own-child</td>\n",
       "      <td>White</td>\n",
       "      <td>Female</td>\n",
       "      <td>0</td>\n",
       "      <td>0</td>\n",
       "      <td>40</td>\n",
       "      <td>United-States</td>\n",
       "      <td>&lt;=50K</td>\n",
       "    </tr>\n",
       "    <tr>\n",
       "      <th>2</th>\n",
       "      <td>47</td>\n",
       "      <td>Private</td>\n",
       "      <td>185399</td>\n",
       "      <td>HS-grad</td>\n",
       "      <td>9</td>\n",
       "      <td>Married-civ-spouse</td>\n",
       "      <td>Other-service</td>\n",
       "      <td>Wife</td>\n",
       "      <td>White</td>\n",
       "      <td>Female</td>\n",
       "      <td>0</td>\n",
       "      <td>0</td>\n",
       "      <td>38</td>\n",
       "      <td>United-States</td>\n",
       "      <td>&lt;=50K</td>\n",
       "    </tr>\n",
       "    <tr>\n",
       "      <th>3</th>\n",
       "      <td>41</td>\n",
       "      <td>Local-gov</td>\n",
       "      <td>180096</td>\n",
       "      <td>Bachelors</td>\n",
       "      <td>13</td>\n",
       "      <td>Married-civ-spouse</td>\n",
       "      <td>Prof-specialty</td>\n",
       "      <td>Husband</td>\n",
       "      <td>White</td>\n",
       "      <td>Male</td>\n",
       "      <td>0</td>\n",
       "      <td>0</td>\n",
       "      <td>35</td>\n",
       "      <td>United-States</td>\n",
       "      <td>&lt;=50K</td>\n",
       "    </tr>\n",
       "    <tr>\n",
       "      <th>4</th>\n",
       "      <td>39</td>\n",
       "      <td>Local-gov</td>\n",
       "      <td>189911</td>\n",
       "      <td>11th</td>\n",
       "      <td>7</td>\n",
       "      <td>Divorced</td>\n",
       "      <td>Adm-clerical</td>\n",
       "      <td>Unmarried</td>\n",
       "      <td>White</td>\n",
       "      <td>Female</td>\n",
       "      <td>0</td>\n",
       "      <td>0</td>\n",
       "      <td>40</td>\n",
       "      <td>United-States</td>\n",
       "      <td>&lt;=50K</td>\n",
       "    </tr>\n",
       "    <tr>\n",
       "      <th>5</th>\n",
       "      <td>40</td>\n",
       "      <td>Private</td>\n",
       "      <td>147206</td>\n",
       "      <td>HS-grad</td>\n",
       "      <td>9</td>\n",
       "      <td>Married-civ-spouse</td>\n",
       "      <td>Craft-repair</td>\n",
       "      <td>Husband</td>\n",
       "      <td>White</td>\n",
       "      <td>Male</td>\n",
       "      <td>0</td>\n",
       "      <td>0</td>\n",
       "      <td>40</td>\n",
       "      <td>United-States</td>\n",
       "      <td>&gt;50K</td>\n",
       "    </tr>\n",
       "    <tr>\n",
       "      <th>6</th>\n",
       "      <td>20</td>\n",
       "      <td>Private</td>\n",
       "      <td>494784</td>\n",
       "      <td>HS-grad</td>\n",
       "      <td>9</td>\n",
       "      <td>Never-married</td>\n",
       "      <td>Sales</td>\n",
       "      <td>Other-relative</td>\n",
       "      <td>Black</td>\n",
       "      <td>Female</td>\n",
       "      <td>0</td>\n",
       "      <td>0</td>\n",
       "      <td>35</td>\n",
       "      <td>United-States</td>\n",
       "      <td>&lt;=50K</td>\n",
       "    </tr>\n",
       "    <tr>\n",
       "      <th>7</th>\n",
       "      <td>17</td>\n",
       "      <td>Private</td>\n",
       "      <td>230789</td>\n",
       "      <td>9th</td>\n",
       "      <td>5</td>\n",
       "      <td>Never-married</td>\n",
       "      <td>Sales</td>\n",
       "      <td>Own-child</td>\n",
       "      <td>Black</td>\n",
       "      <td>Male</td>\n",
       "      <td>0</td>\n",
       "      <td>0</td>\n",
       "      <td>22</td>\n",
       "      <td>United-States</td>\n",
       "      <td>&lt;=50K</td>\n",
       "    </tr>\n",
       "    <tr>\n",
       "      <th>8</th>\n",
       "      <td>32</td>\n",
       "      <td>Private</td>\n",
       "      <td>425622</td>\n",
       "      <td>HS-grad</td>\n",
       "      <td>9</td>\n",
       "      <td>Married-civ-spouse</td>\n",
       "      <td>Transport-moving</td>\n",
       "      <td>Husband</td>\n",
       "      <td>White</td>\n",
       "      <td>Male</td>\n",
       "      <td>0</td>\n",
       "      <td>0</td>\n",
       "      <td>55</td>\n",
       "      <td>United-States</td>\n",
       "      <td>&lt;=50K</td>\n",
       "    </tr>\n",
       "    <tr>\n",
       "      <th>9</th>\n",
       "      <td>43</td>\n",
       "      <td>Self-emp-inc</td>\n",
       "      <td>62026</td>\n",
       "      <td>Prof-school</td>\n",
       "      <td>15</td>\n",
       "      <td>Married-civ-spouse</td>\n",
       "      <td>Exec-managerial</td>\n",
       "      <td>Husband</td>\n",
       "      <td>White</td>\n",
       "      <td>Male</td>\n",
       "      <td>99999</td>\n",
       "      <td>0</td>\n",
       "      <td>40</td>\n",
       "      <td>United-States</td>\n",
       "      <td>&gt;50K</td>\n",
       "    </tr>\n",
       "  </tbody>\n",
       "</table>\n",
       "</div>"
      ],
      "text/plain": [
       "   age      workclass  fnlwgt     education  education_num  \\\n",
       "0   60        Private  193235    Assoc-acdm             12   \n",
       "1   19        Private  349620          10th              6   \n",
       "2   47        Private  185399       HS-grad              9   \n",
       "3   41      Local-gov  180096     Bachelors             13   \n",
       "4   39      Local-gov  189911          11th              7   \n",
       "5   40        Private  147206       HS-grad              9   \n",
       "6   20        Private  494784       HS-grad              9   \n",
       "7   17        Private  230789           9th              5   \n",
       "8   32        Private  425622       HS-grad              9   \n",
       "9   43   Self-emp-inc   62026   Prof-school             15   \n",
       "\n",
       "        marital_status          occupation     relationship    race      sex  \\\n",
       "0   Married-civ-spouse        Adm-clerical          Husband   White     Male   \n",
       "1        Never-married   Machine-op-inspct        Own-child   White   Female   \n",
       "2   Married-civ-spouse       Other-service             Wife   White   Female   \n",
       "3   Married-civ-spouse      Prof-specialty          Husband   White     Male   \n",
       "4             Divorced        Adm-clerical        Unmarried   White   Female   \n",
       "5   Married-civ-spouse        Craft-repair          Husband   White     Male   \n",
       "6        Never-married               Sales   Other-relative   Black   Female   \n",
       "7        Never-married               Sales        Own-child   Black     Male   \n",
       "8   Married-civ-spouse    Transport-moving          Husband   White     Male   \n",
       "9   Married-civ-spouse     Exec-managerial          Husband   White     Male   \n",
       "\n",
       "   capital_gain  capital_loss  hours_per_week         country  salary  \n",
       "0             0             0              24   United-States   <=50K  \n",
       "1             0             0              40   United-States   <=50K  \n",
       "2             0             0              38   United-States   <=50K  \n",
       "3             0             0              35   United-States   <=50K  \n",
       "4             0             0              40   United-States   <=50K  \n",
       "5             0             0              40   United-States    >50K  \n",
       "6             0             0              35   United-States   <=50K  \n",
       "7             0             0              22   United-States   <=50K  \n",
       "8             0             0              55   United-States   <=50K  \n",
       "9         99999             0              40   United-States    >50K  "
      ]
     },
     "execution_count": 6,
     "metadata": {},
     "output_type": "execute_result"
    }
   ],
   "source": [
    "# Visualising data\n",
    "df.head(10)"
   ]
  },
  {
   "cell_type": "code",
   "execution_count": 7,
   "id": "3dc47d12-bc05-4fec-8c01-c78304d5e123",
   "metadata": {},
   "outputs": [
    {
     "name": "stdout",
     "output_type": "stream",
     "text": [
      "<class 'pandas.core.frame.DataFrame'>\n",
      "RangeIndex: 32537 entries, 0 to 32536\n",
      "Data columns (total 15 columns):\n",
      " #   Column          Non-Null Count  Dtype \n",
      "---  ------          --------------  ----- \n",
      " 0   age             32537 non-null  int64 \n",
      " 1   workclass       32537 non-null  object\n",
      " 2   fnlwgt          32537 non-null  int64 \n",
      " 3   education       32537 non-null  object\n",
      " 4   education_num   32537 non-null  int64 \n",
      " 5   marital_status  32537 non-null  object\n",
      " 6   occupation      32537 non-null  object\n",
      " 7   relationship    32537 non-null  object\n",
      " 8   race            32537 non-null  object\n",
      " 9   sex             32537 non-null  object\n",
      " 10  capital_gain    32537 non-null  int64 \n",
      " 11  capital_loss    32537 non-null  int64 \n",
      " 12  hours_per_week  32537 non-null  int64 \n",
      " 13  country         32537 non-null  object\n",
      " 14  salary          32537 non-null  object\n",
      "dtypes: int64(6), object(9)\n",
      "memory usage: 3.7+ MB\n"
     ]
    }
   ],
   "source": [
    "# Checking Data type of different columns\n",
    "df.info()"
   ]
  },
  {
   "cell_type": "code",
   "execution_count": 8,
   "id": "26f64608-6c6d-4268-be40-cbff0e262302",
   "metadata": {},
   "outputs": [
    {
     "data": {
      "text/plain": [
       "age               0\n",
       "workclass         0\n",
       "fnlwgt            0\n",
       "education         0\n",
       "education_num     0\n",
       "marital_status    0\n",
       "occupation        0\n",
       "relationship      0\n",
       "race              0\n",
       "sex               0\n",
       "capital_gain      0\n",
       "capital_loss      0\n",
       "hours_per_week    0\n",
       "country           0\n",
       "salary            0\n",
       "dtype: int64"
      ]
     },
     "execution_count": 8,
     "metadata": {},
     "output_type": "execute_result"
    }
   ],
   "source": [
    "#Checking for null values\n",
    "df.isnull().sum()"
   ]
  },
  {
   "cell_type": "markdown",
   "id": "b8670528-c96e-409e-812f-1aa40a6c28cf",
   "metadata": {},
   "source": [
    "# Column wise data analysis"
   ]
  },
  {
   "cell_type": "code",
   "execution_count": 9,
   "id": "7bd305e7-d429-4c48-a90d-7c8480e88123",
   "metadata": {},
   "outputs": [
    {
     "data": {
      "text/plain": [
       "<AxesSubplot:xlabel='age', ylabel='Count'>"
      ]
     },
     "execution_count": 9,
     "metadata": {},
     "output_type": "execute_result"
    },
    {
     "data": {
      "image/png": "[encoded data removed]",
      "text/plain": [
       "<Figure size 432x288 with 1 Axes>"
      ]
     },
     "metadata": {
      "needs_background": "light"
     },
     "output_type": "display_data"
    }
   ],
   "source": [
    "# Analyzing age column\n",
    "\n",
    "# Age distribution\n",
    "sns.histplot(data=df.age,kde=True)"
   ]
  },
  {
   "cell_type": "markdown",
   "id": "c3879508-5d41-4c85-bd3d-406a757076e5",
   "metadata": {},
   "source": [
    "Data in age column is right skewed "
   ]
  },
  {
   "cell_type": "code",
   "execution_count": 10,
   "id": "f77a9e88-2fa9-454d-a11b-3f72f3606daa",
   "metadata": {},
   "outputs": [
    {
     "name": "stdout",
     "output_type": "stream",
     "text": [
      "skewness of age column =  0.5576631514973127\n"
     ]
    },
    {
     "data": {
      "image/png": "[encoded data removed]",
      "text/plain": [
       "<Figure size 1080x576 with 1 Axes>"
      ]
     },
     "metadata": {
      "needs_background": "light"
     },
     "output_type": "display_data"
    }
   ],
   "source": [
    "# Salary dependency on age\n",
    "plt.figure(figsize=(15,8))\n",
    "sns.countplot(data=df,x='age',hue='salary')\n",
    "print('skewness of age column = ',df.age.skew())"
   ]
  },
  {
   "cell_type": "markdown",
   "id": "c2151f19-5158-4fa7-b85e-2a36b11a0bbc",
   "metadata": {},
   "source": [
    "People below the age of 20 are rare to have salary >50k, the number gradually increases with age. less data is available for ages above 40, skewness  of age column needs to be reduced."
   ]
  },
  {
   "cell_type": "code",
   "execution_count": 11,
   "id": "799b3d67-4e99-40f0-a4e9-25fbc38d422d",
   "metadata": {},
   "outputs": [
    {
     "name": "stdout",
     "output_type": "stream",
     "text": [
      "skewness= -0.13226566744674909\n"
     ]
    },
    {
     "data": {
      "image/png": "[encoded data removed]",
      "text/plain": [
       "<Figure size 1080x360 with 1 Axes>"
      ]
     },
     "metadata": {
      "needs_background": "light"
     },
     "output_type": "display_data"
    }
   ],
   "source": [
    "# Taking log of age column to get rid of skewness\n",
    "df.age=np.log(df.age)\n",
    "# checking skewness\n",
    "plt.figure(figsize=(15,5))\n",
    "sns.histplot(data=df,x='age',kde=True)\n",
    "print('skewness=',df.age.skew())"
   ]
  },
  {
   "cell_type": "markdown",
   "id": "ce3ebb45-c51f-4b01-89a4-a5d7d66bbb35",
   "metadata": {},
   "source": [
    "Skewness is significently reduces after taking log"
   ]
  },
  {
   "cell_type": "code",
   "execution_count": 12,
   "id": "b889866c-508c-442f-a0ee-423684d8648b",
   "metadata": {},
   "outputs": [
    {
     "data": {
      "text/plain": [
       "array([4.09434456, 2.94443898, 3.8501476 , 3.71357207, 3.66356165,\n",
       "       3.68887945, 2.99573227, 2.83321334, 3.4657359 , 3.76120012,\n",
       "       3.58351894, 3.25809654, 3.97029191, 3.09104245, 3.95124372,\n",
       "       3.55534806, 3.80666249, 3.36729583, 4.00733319, 3.17805383,\n",
       "       4.07753744, 4.11087386, 3.8286414 , 3.78418963, 3.63758616,\n",
       "       3.91202301, 3.87120101, 3.29583687, 2.89037176, 3.61091791,\n",
       "       3.73766962, 4.14313473, 3.49650756, 3.04452244, 4.06044301,\n",
       "       3.52636052, 3.33220451, 4.12713439, 3.13549422, 3.93182563,\n",
       "       4.15888308, 3.40119738, 3.8918203 , 4.26267988, 4.2341065 ,\n",
       "       3.4339872 , 4.27666612, 4.04305127, 3.21887582, 3.98898405,\n",
       "       4.17438727, 4.18965474, 4.20469262, 4.34380542, 4.35670883,\n",
       "       4.02535169, 4.24849524, 4.4308168 , 4.49980967, 4.21950771,\n",
       "       4.33073334, 4.40671925, 4.29045944, 4.30406509, 4.36944785,\n",
       "       4.31748811, 4.46590812, 4.38202663, 4.39444915, 4.47733681,\n",
       "       4.41884061, 4.44265126, 4.4543473 ])"
      ]
     },
     "execution_count": 12,
     "metadata": {},
     "output_type": "execute_result"
    }
   ],
   "source": [
    "# Checking unique values in age column\n",
    "\n",
    "df.age.unique()"
   ]
  },
  {
   "cell_type": "code",
   "execution_count": 13,
   "id": "6751d8f4-39a2-49b1-a1f5-abc9000214ed",
   "metadata": {},
   "outputs": [
    {
     "data": {
      "text/plain": [
       "array([' Private', ' Local-gov', ' Self-emp-inc', ' State-gov',\n",
       "       ' Self-emp-not-inc', ' ?', ' Federal-gov', ' Without-pay',\n",
       "       ' Never-worked'], dtype=object)"
      ]
     },
     "execution_count": 13,
     "metadata": {},
     "output_type": "execute_result"
    }
   ],
   "source": [
    "# Analyzing workclass column\n",
    "\n",
    "#Checking unique values\n",
    "df.workclass.unique()"
   ]
  },
  {
   "cell_type": "markdown",
   "id": "1c0f4e34-e2ba-4d3f-aef7-4a86f1feba2d",
   "metadata": {},
   "source": [
    "An unknown value '?' is there which needs to be catgorized."
   ]
  },
  {
   "cell_type": "code",
   "execution_count": 14,
   "id": "18b76e09-14a9-4578-b144-6ddbcc5faeda",
   "metadata": {},
   "outputs": [
    {
     "data": {
      "text/plain": [
       "<AxesSubplot:xlabel='workclass', ylabel='Count'>"
      ]
     },
     "execution_count": 14,
     "metadata": {},
     "output_type": "execute_result"
    },
    {
     "data": {
      "image/png": "[encoded data removed]",
      "text/plain": [
       "<Figure size 864x504 with 1 Axes>"
      ]
     },
     "metadata": {
      "needs_background": "light"
     },
     "output_type": "display_data"
    }
   ],
   "source": [
    "# Workclass and count of people\n",
    "\n",
    "plt.figure(figsize=(12,7))\n",
    "sns.histplot(data=df.workclass,kde=True)"
   ]
  },
  {
   "cell_type": "code",
   "execution_count": 15,
   "id": "dc8e385a-53de-4f5a-9e10-031a2d916999",
   "metadata": {},
   "outputs": [
    {
     "data": {
      "text/plain": [
       "1836"
      ]
     },
     "execution_count": 15,
     "metadata": {},
     "output_type": "execute_result"
    }
   ],
   "source": [
    "# getting number of '?'s\n",
    "(df.workclass==' ?').sum()"
   ]
  },
  {
   "cell_type": "markdown",
   "id": "2e536f7e-0caa-41ba-bbe8-1134fdd66875",
   "metadata": {},
   "source": [
    "Total 1836 '?'s"
   ]
  },
  {
   "cell_type": "code",
   "execution_count": 16,
   "id": "d75fd35c-b8b2-446a-b878-957a08aedde5",
   "metadata": {},
   "outputs": [
    {
     "data": {
      "text/plain": [
       "191"
      ]
     },
     "execution_count": 16,
     "metadata": {},
     "output_type": "execute_result"
    }
   ],
   "source": [
    "# Checking how many '?'s have salary >50K\n",
    "\n",
    "(df.salary[df.workclass==' ?']==' >50K').sum()"
   ]
  },
  {
   "cell_type": "markdown",
   "id": "4642a412-0f39-48cf-8784-1b7b644fa002",
   "metadata": {},
   "source": [
    "191 people with unknown workclass (?) have salary >50K"
   ]
  },
  {
   "cell_type": "code",
   "execution_count": 17,
   "id": "7bf075f2-4273-4e04-aa98-7d25a33d3d22",
   "metadata": {},
   "outputs": [
    {
     "data": {
      "text/plain": [
       "array([' Private', ' Local-gov', ' Self-emp-inc', ' State-gov',\n",
       "       ' Self-emp-not-inc', ' Other', ' Federal-gov', ' Without-pay',\n",
       "       ' Never-worked'], dtype=object)"
      ]
     },
     "execution_count": 17,
     "metadata": {},
     "output_type": "execute_result"
    }
   ],
   "source": [
    "# Renaming ' ?' to ' Other' category\n",
    "df.replace(to_replace=[' ?'],value=[' Other'],inplace=True)\n",
    "df.workclass.unique()"
   ]
  },
  {
   "cell_type": "code",
   "execution_count": 18,
   "id": "0b40b8c9-29ef-4f2a-8bd8-5e5b0d3ee79c",
   "metadata": {},
   "outputs": [
    {
     "name": "stdout",
     "output_type": "stream",
     "text": [
      "People who never work and have salary >50k = 0\n",
      "People who are without pay and have salary >50k = 0\n"
     ]
    }
   ],
   "source": [
    "# Checking if people in category 'Never-worked' and 'Without pay' have salary >50K\n",
    "\n",
    "print('People who never work and have salary >50k =',(df.salary[df.workclass==' Never-worked']==' >50K').sum())\n",
    "print('People who are without pay and have salary >50k =',(df.salary[df.workclass==' Without-pay']==' >50K').sum())"
   ]
  },
  {
   "cell_type": "markdown",
   "id": "3dcfaa0a-03ac-44e4-8d82-61c16ec23d14",
   "metadata": {},
   "source": [
    "These two categories can be renamed to category unemployed"
   ]
  },
  {
   "cell_type": "code",
   "execution_count": 19,
   "id": "9b27694e-4ff4-436d-93e2-abf537b251c0",
   "metadata": {},
   "outputs": [
    {
     "data": {
      "text/plain": [
       "array([' Private', ' Local-gov', ' Self-emp-inc', ' State-gov',\n",
       "       ' Self-emp-not-inc', ' Other', ' Federal-gov', ' Unemployed'],\n",
       "      dtype=object)"
      ]
     },
     "execution_count": 19,
     "metadata": {},
     "output_type": "execute_result"
    }
   ],
   "source": [
    "df.replace(to_replace=[' Never-worked',' Without-pay'],value=[' Unemployed',' Unemployed'],inplace=True)\n",
    "\n",
    "# checking unique workclass categories\n",
    "df.workclass.unique()"
   ]
  },
  {
   "cell_type": "code",
   "execution_count": 20,
   "id": "ee1f2b5f-2bae-4543-8055-4dd55d58a299",
   "metadata": {},
   "outputs": [
    {
     "data": {
      "text/plain": [
       "<AxesSubplot:xlabel='workclass', ylabel='Count'>"
      ]
     },
     "execution_count": 20,
     "metadata": {},
     "output_type": "execute_result"
    },
    {
     "data": {
      "image/png": "[encoded data removed]",
      "text/plain": [
       "<Figure size 864x504 with 1 Axes>"
      ]
     },
     "metadata": {
      "needs_background": "light"
     },
     "output_type": "display_data"
    }
   ],
   "source": [
    "# Workclass and count of people after category change\n",
    "\n",
    "plt.figure(figsize=(12,7))\n",
    "sns.histplot(data=df.workclass,kde=True)"
   ]
  },
  {
   "cell_type": "code",
   "execution_count": 21,
   "id": "5541fcfa-e8eb-48e3-a834-6d44f5a2a0ca",
   "metadata": {},
   "outputs": [
    {
     "data": {
      "text/plain": [
       "<AxesSubplot:xlabel='workclass', ylabel='count'>"
      ]
     },
     "execution_count": 21,
     "metadata": {},
     "output_type": "execute_result"
    },
    {
     "data": {
      "image/png": "[encoded data removed]",
      "text/plain": [
       "<Figure size 1080x576 with 1 Axes>"
      ]
     },
     "metadata": {
      "needs_background": "light"
     },
     "output_type": "display_data"
    }
   ],
   "source": [
    "# Salary dependency on workclass\n",
    "plt.figure(figsize=(15,8))\n",
    "sns.countplot(data=df,x='workclass',hue='salary')"
   ]
  },
  {
   "cell_type": "markdown",
   "id": "d6a4b5ea-59f8-4960-ac99-4db81b13592b",
   "metadata": {},
   "source": [
    "People in workclass self-emp-inc are more likely to have a salary >50k. people in government sectors also have high probability of having salary >50k. "
   ]
  },
  {
   "cell_type": "code",
   "execution_count": 22,
   "id": "850a264f-5d89-4410-acb7-40ae19102c23",
   "metadata": {},
   "outputs": [
    {
     "data": {
      "text/plain": [
       "education\n",
       " Preschool        1.0\n",
       " 1st-4th          2.0\n",
       " 5th-6th          3.0\n",
       " 7th-8th          4.0\n",
       " 9th              5.0\n",
       " 10th             6.0\n",
       " 11th             7.0\n",
       " 12th             8.0\n",
       " HS-grad          9.0\n",
       " Some-college    10.0\n",
       " Assoc-voc       11.0\n",
       " Assoc-acdm      12.0\n",
       " Bachelors       13.0\n",
       " Masters         14.0\n",
       " Prof-school     15.0\n",
       " Doctorate       16.0\n",
       "Name: mean, dtype: float64"
      ]
     },
     "execution_count": 22,
     "metadata": {},
     "output_type": "execute_result"
    }
   ],
   "source": [
    "# analyzing education and education_num column\n",
    "# education-num is education rank. putting it in ascending order\n",
    "df.groupby(by='education').describe()['education_num']['mean'].sort_values()"
   ]
  },
  {
   "cell_type": "markdown",
   "id": "ffa43f82-2d37-468d-b69e-d0ee0f6c0c3a",
   "metadata": {},
   "source": [
    "Education column can be dropped and no need to encode education_num column as it shows the rank and hiararchy is education."
   ]
  },
  {
   "cell_type": "code",
   "execution_count": 23,
   "id": "9d9ab8a5-ea24-4ed8-8159-0de7769efb37",
   "metadata": {},
   "outputs": [],
   "source": [
    "# Dropping education column\n",
    "df.drop('education',axis=1,inplace=True)"
   ]
  },
  {
   "cell_type": "code",
   "execution_count": 24,
   "id": "b61cf71f-a73a-4ee5-8985-0ef2f9cc5edf",
   "metadata": {},
   "outputs": [
    {
     "data": {
      "text/plain": [
       "1      0.153671\n",
       "2      0.510188\n",
       "3      1.020377\n",
       "16     1.269324\n",
       "8      1.330793\n",
       "5      1.579740\n",
       "15     1.770292\n",
       "4      1.982359\n",
       "6      2.867505\n",
       "12     3.279344\n",
       "7      3.611273\n",
       "11     4.247472\n",
       "14     5.292436\n",
       "13    16.452039\n",
       "10    22.380674\n",
       "9     32.252513\n",
       "Name: education_num, dtype: float64"
      ]
     },
     "execution_count": 24,
     "metadata": {},
     "output_type": "execute_result"
    }
   ],
   "source": [
    "# Getting percentage of people by education\n",
    "df.education_num.value_counts(normalize=True,ascending=True)*100"
   ]
  },
  {
   "cell_type": "code",
   "execution_count": 25,
   "id": "0779c2e4-3a7b-438f-aa20-3d78cd83926c",
   "metadata": {},
   "outputs": [
    {
     "data": {
      "text/plain": [
       "<AxesSubplot:xlabel='education_num', ylabel='count'>"
      ]
     },
     "execution_count": 25,
     "metadata": {},
     "output_type": "execute_result"
    },
    {
     "data": {
      "image/png": "[encoded data removed]",
      "text/plain": [
       "<Figure size 864x576 with 1 Axes>"
      ]
     },
     "metadata": {
      "needs_background": "light"
     },
     "output_type": "display_data"
    }
   ],
   "source": [
    "plt.figure(figsize=(12,8))\n",
    "sns.countplot(data=df,x='education_num',hue='salary')"
   ]
  },
  {
   "cell_type": "code",
   "execution_count": 26,
   "id": "e03e7db1-1430-474f-967c-b71fe3052e75",
   "metadata": {},
   "outputs": [
    {
     "name": "stdout",
     "output_type": "stream",
     "text": [
      "Unique values in gender column = [' Male' ' Female']\n",
      "Gender wise count :\n",
      "  Male      21775\n",
      " Female    10762\n",
      "Name: sex, dtype: int64\n",
      "Gender wise salary comparision\n"
     ]
    },
    {
     "data": {
      "text/plain": [
       "<AxesSubplot:xlabel='sex', ylabel='count'>"
      ]
     },
     "execution_count": 26,
     "metadata": {},
     "output_type": "execute_result"
    },
    {
     "data": {
      "image/png": "[encoded data removed]",
      "text/plain": [
       "<Figure size 432x288 with 1 Axes>"
      ]
     },
     "metadata": {
      "needs_background": "light"
     },
     "output_type": "display_data"
    }
   ],
   "source": [
    "# Gender wise analysis\n",
    "print('Unique values in gender column =',df.sex.unique())\n",
    "print('Gender wise count :\\n',df.sex.value_counts())\n",
    "print('Gender wise salary comparision')\n",
    "sns.countplot(data=df,x='sex',hue='salary')"
   ]
  },
  {
   "cell_type": "markdown",
   "id": "c3115b2e-f605-4459-bbb2-4248aae34afd",
   "metadata": {},
   "source": [
    "male population is getting more >50k salary."
   ]
  },
  {
   "cell_type": "code",
   "execution_count": 27,
   "id": "15c6d188-9307-4208-bb82-ac0e52c6873f",
   "metadata": {},
   "outputs": [
    {
     "data": {
      "text/plain": [
       "array([0, 1], dtype=int64)"
      ]
     },
     "execution_count": 27,
     "metadata": {},
     "output_type": "execute_result"
    }
   ],
   "source": [
    "# Encoding sex column, male as 0 and female as 1\n",
    "df.replace(to_replace=[' Male',' Female'],value=[0,1],inplace=True)\n",
    "# cheching uniques after encoding\n",
    "df.sex.unique()"
   ]
  },
  {
   "cell_type": "code",
   "execution_count": 28,
   "id": "03f48247-55b2-4a40-bbbe-e4342bfda869",
   "metadata": {},
   "outputs": [
    {
     "data": {
      "text/plain": [
       "array([' White', ' Black', ' Other', ' Asian-Pac-Islander',\n",
       "       ' Amer-Indian-Eskimo'], dtype=object)"
      ]
     },
     "execution_count": 28,
     "metadata": {},
     "output_type": "execute_result"
    }
   ],
   "source": [
    "# Analyzing race column\n",
    "# Getting uniques\n",
    "df.race.unique()"
   ]
  },
  {
   "cell_type": "code",
   "execution_count": 29,
   "id": "f29292fd-9699-49d9-9510-2652c3a61002",
   "metadata": {},
   "outputs": [
    {
     "data": {
      "text/plain": [
       " White                 27795\n",
       " Black                  3122\n",
       " Asian-Pac-Islander     1038\n",
       " Amer-Indian-Eskimo      311\n",
       " Other                   271\n",
       "Name: race, dtype: int64"
      ]
     },
     "execution_count": 29,
     "metadata": {},
     "output_type": "execute_result"
    }
   ],
   "source": [
    "# getting race wise count\n",
    "df.race.value_counts()"
   ]
  },
  {
   "cell_type": "code",
   "execution_count": 30,
   "id": "245b2086-ba3e-4154-8546-ad7ecbea8b96",
   "metadata": {},
   "outputs": [
    {
     "data": {
      "text/plain": [
       "<AxesSubplot:xlabel='race', ylabel='count'>"
      ]
     },
     "execution_count": 30,
     "metadata": {},
     "output_type": "execute_result"
    },
    {
     "data": {
      "image/png": "[encoded data removed]",
      "text/plain": [
       "<Figure size 432x288 with 1 Axes>"
      ]
     },
     "metadata": {
      "needs_background": "light"
     },
     "output_type": "display_data"
    }
   ],
   "source": [
    "# race-salary visualization\n",
    "sns.countplot(data=df,x='race',hue='salary')"
   ]
  },
  {
   "cell_type": "markdown",
   "id": "2ee1c1b8-95a1-4d34-b6c0-ac0eea1a5325",
   "metadata": {},
   "source": [
    "White people are more likely to have >50k salary than other races. "
   ]
  },
  {
   "cell_type": "code",
   "execution_count": 31,
   "id": "77c59564-6056-4c97-aaab-423a7b095da1",
   "metadata": {},
   "outputs": [
    {
     "name": "stdout",
     "output_type": "stream",
     "text": [
      "Unique values in marital_status column = [' Married-civ-spouse' ' Never-married' ' Divorced' ' Separated'\n",
      " ' Widowed' ' Married-spouse-absent' ' Married-AF-spouse']\n",
      "marital_status wise count :\n",
      "  Married-civ-spouse       14970\n",
      " Never-married            10667\n",
      " Divorced                  4441\n",
      " Separated                 1025\n",
      " Widowed                    993\n",
      " Married-spouse-absent      418\n",
      " Married-AF-spouse           23\n",
      "Name: marital_status, dtype: int64\n",
      "marital_status wise salary comparision\n",
      "Unique values in relationship column = [' Husband' ' Own-child' ' Wife' ' Unmarried' ' Other-relative'\n",
      " ' Not-in-family']\n",
      "relationship wise count :\n",
      "  Husband           13187\n",
      " Not-in-family      8292\n",
      " Own-child          5064\n",
      " Unmarried          3445\n",
      " Wife               1568\n",
      " Other-relative      981\n",
      "Name: relationship, dtype: int64\n",
      "relationship wise salary comparision\n"
     ]
    },
    {
     "data": {
      "text/plain": [
       "<AxesSubplot:xlabel='relationship', ylabel='count'>"
      ]
     },
     "execution_count": 31,
     "metadata": {},
     "output_type": "execute_result"
    },
    {
     "data": {
      "image/png": "[encoded data removed]",
      "text/plain": [
       "<Figure size 1080x720 with 2 Axes>"
      ]
     },
     "metadata": {
      "needs_background": "light"
     },
     "output_type": "display_data"
    }
   ],
   "source": [
    "# Analyzing marital status and relationship columns\n",
    "print('Unique values in marital_status column =',df.marital_status.unique())\n",
    "print('marital_status wise count :\\n',df.marital_status.value_counts())\n",
    "print('marital_status wise salary comparision')\n",
    "plt.figure(figsize=(15,10))\n",
    "plt.subplot(211)\n",
    "sns.countplot(data=df,x='marital_status',hue='salary')\n",
    "print('Unique values in relationship column =',df.relationship.unique())\n",
    "print('relationship wise count :\\n',df.relationship.value_counts())\n",
    "print('relationship wise salary comparision')\n",
    "plt.subplot(212)\n",
    "sns.countplot(data=df,x='relationship',hue='salary')"
   ]
  },
  {
   "cell_type": "markdown",
   "id": "5d515cb0-4f86-40e9-8876-2aca4d4514bf",
   "metadata": {},
   "source": [
    "Merital status column and relationship column have similar data as showm in above bar charts. Married people have higher chance of having salary >50k while unmarried people have a lower chance, similarily people who are husband or wife have a higher chance of having salary >50k compared to other people. The relationship column can be dropped and merital status column can be encoded into 0 and 1 where 1 states married and 0 states everythis else."
   ]
  },
  {
   "cell_type": "code",
   "execution_count": 32,
   "id": "8a3593be-6749-41f9-a2ee-9b8a47325142",
   "metadata": {},
   "outputs": [],
   "source": [
    "# Dropping relationship column\n",
    "df.drop('relationship',axis=1,inplace=True)"
   ]
  },
  {
   "cell_type": "code",
   "execution_count": 33,
   "id": "ae6b1e92-fa3c-4ba4-be1b-b0cdcd40e443",
   "metadata": {},
   "outputs": [
    {
     "data": {
      "text/plain": [
       "array([1, 0], dtype=int64)"
      ]
     },
     "execution_count": 33,
     "metadata": {},
     "output_type": "execute_result"
    }
   ],
   "source": [
    "# Encoding marital status column\n",
    "df.replace(to_replace=[' Married-civ-spouse',' Never-married',' Divorced',' Separated',' Widowed',' Married-spouse-absent',' Married-AF-spouse'],value=([1,0,0,0,0,0,0]),inplace=True)\n",
    "# Checking uniques after encoding\n",
    "df.marital_status.unique()"
   ]
  },
  {
   "cell_type": "code",
   "execution_count": 34,
   "id": "5165ed92-978c-4fea-ad94-ef262af0f661",
   "metadata": {},
   "outputs": [
    {
     "data": {
      "text/plain": [
       "Index(['age', 'workclass', 'fnlwgt', 'education_num', 'marital_status',\n",
       "       'occupation', 'race', 'sex', 'capital_gain', 'capital_loss',\n",
       "       'hours_per_week', 'country', 'salary'],\n",
       "      dtype='object')"
      ]
     },
     "execution_count": 34,
     "metadata": {},
     "output_type": "execute_result"
    }
   ],
   "source": [
    "df.columns"
   ]
  },
  {
   "cell_type": "code",
   "execution_count": 35,
   "id": "10fd121a-343b-4f0e-8814-21878271a4ae",
   "metadata": {},
   "outputs": [
    {
     "name": "stdout",
     "output_type": "stream",
     "text": [
      "Unique values in occupation column = [' Adm-clerical' ' Machine-op-inspct' ' Other-service' ' Prof-specialty'\n",
      " ' Craft-repair' ' Sales' ' Transport-moving' ' Exec-managerial'\n",
      " ' Farming-fishing' ' Handlers-cleaners' ' Other' ' Priv-house-serv'\n",
      " ' Tech-support' ' Protective-serv' ' Armed-Forces']\n",
      "occupation wise count :\n",
      "  Prof-specialty       4136\n",
      " Craft-repair         4094\n",
      " Exec-managerial      4065\n",
      " Adm-clerical         3768\n",
      " Sales                3650\n",
      " Other-service        3291\n",
      " Machine-op-inspct    2000\n",
      " Other                1843\n",
      " Transport-moving     1597\n",
      " Handlers-cleaners    1369\n",
      " Farming-fishing       992\n",
      " Tech-support          927\n",
      " Protective-serv       649\n",
      " Priv-house-serv       147\n",
      " Armed-Forces            9\n",
      "Name: occupation, dtype: int64\n",
      "occupation wise salary comparision\n"
     ]
    },
    {
     "data": {
      "text/plain": [
       "<AxesSubplot:xlabel='occupation', ylabel='count'>"
      ]
     },
     "execution_count": 35,
     "metadata": {},
     "output_type": "execute_result"
    },
    {
     "data": {
      "image/png": "[encoded data removed]",
      "text/plain": [
       "<Figure size 1440x504 with 1 Axes>"
      ]
     },
     "metadata": {
      "needs_background": "light"
     },
     "output_type": "display_data"
    }
   ],
   "source": [
    "# Analyzing occupation column\n",
    "print('Unique values in occupation column =',df.occupation.unique())\n",
    "print('occupation wise count :\\n',df.occupation.value_counts())\n",
    "print('occupation wise salary comparision')\n",
    "plt.figure(figsize=(20,7))\n",
    "sns.countplot(data=df,x='occupation',hue='salary')"
   ]
  },
  {
   "cell_type": "code",
   "execution_count": 36,
   "id": "51e3947b-371f-47e7-b12b-06bb15805763",
   "metadata": {},
   "outputs": [
    {
     "data": {
      "text/plain": [
       "Index(['age', 'workclass', 'fnlwgt', 'education_num', 'marital_status',\n",
       "       'occupation', 'race', 'sex', 'capital_gain', 'capital_loss',\n",
       "       'hours_per_week', 'country', 'salary'],\n",
       "      dtype='object')"
      ]
     },
     "execution_count": 36,
     "metadata": {},
     "output_type": "execute_result"
    }
   ],
   "source": [
    "df.columns"
   ]
  },
  {
   "cell_type": "code",
   "execution_count": 37,
   "id": "5916c228-ea05-449a-a227-8bfbd49964e8",
   "metadata": {},
   "outputs": [
    {
     "data": {
      "text/plain": [
       "array([    0,   114,   401,   594,   914,   991,  1055,  1086,  1111,\n",
       "        1151,  1173,  1409,  1424,  1455,  1471,  1506,  1639,  1797,\n",
       "        1831,  1848,  2009,  2036,  2050,  2062,  2105,  2174,  2176,\n",
       "        2202,  2228,  2290,  2329,  2346,  2354,  2387,  2407,  2414,\n",
       "        2463,  2538,  2580,  2597,  2635,  2653,  2829,  2885,  2907,\n",
       "        2936,  2961,  2964,  2977,  2993,  3103,  3137,  3273,  3325,\n",
       "        3411,  3418,  3432,  3456,  3464,  3471,  3674,  3781,  3818,\n",
       "        3887,  3908,  3942,  4064,  4101,  4386,  4416,  4508,  4650,\n",
       "        4687,  4787,  4865,  4931,  4934,  5013,  5060,  5178,  5455,\n",
       "        5556,  5721,  6097,  6360,  6418,  6497,  6514,  6723,  6767,\n",
       "        6849,  7298,  7430,  7443,  7688,  7896,  7978,  8614,  9386,\n",
       "        9562, 10520, 10566, 10605, 11678, 13550, 14084, 14344, 15020,\n",
       "       15024, 15831, 18481, 20051, 22040, 25124, 25236, 27828, 34095,\n",
       "       41310, 99999], dtype=int64)"
      ]
     },
     "execution_count": 37,
     "metadata": {},
     "output_type": "execute_result"
    }
   ],
   "source": [
    "# Analyzing capital gain, capital loss columns\n",
    "#checking unique values\n",
    "df.capital_gain.sort_values().unique()"
   ]
  },
  {
   "cell_type": "code",
   "execution_count": 38,
   "id": "5c41ce8f-e20c-49fd-9233-4fca7c5b51bd",
   "metadata": {},
   "outputs": [
    {
     "data": {
      "text/plain": [
       " >50K     1677\n",
       " <=50K    1035\n",
       "Name: salary, dtype: int64"
      ]
     },
     "execution_count": 38,
     "metadata": {},
     "output_type": "execute_result"
    }
   ],
   "source": [
    "#checking salary of people who made any capital gain\n",
    "df.salary[df.capital_gain>0].value_counts()"
   ]
  },
  {
   "cell_type": "code",
   "execution_count": 39,
   "id": "5ad44dd8-c63d-435a-9e91-31934bb66d8c",
   "metadata": {},
   "outputs": [
    {
     "data": {
      "text/plain": [
       "<AxesSubplot:>"
      ]
     },
     "execution_count": 39,
     "metadata": {},
     "output_type": "execute_result"
    },
    {
     "data": {
      "image/png": "[encoded data removed]",
      "text/plain": [
       "<Figure size 432x288 with 1 Axes>"
      ]
     },
     "metadata": {
      "needs_background": "light"
     },
     "output_type": "display_data"
    }
   ],
   "source": [
    "# Plotting %age of people earning >50k as capital gain increases\n",
    "l1=[]\n",
    "l2=[]\n",
    "a=0\n",
    "while a<(df.capital_gain.max()):\n",
    "    l1.append(((pd.DataFrame(df.salary[df.capital_gain>a].value_counts()).salary[0])/(df.capital_gain>a).sum())*100)\n",
    "    l2.append(a)\n",
    "    a=a+1000\n",
    "sns.lineplot(x=l2,y=l1)"
   ]
  },
  {
   "cell_type": "code",
   "execution_count": 40,
   "id": "1b184f2f-21bb-44f7-9631-ea4f3b01ea60",
   "metadata": {},
   "outputs": [
    {
     "data": {
      "text/plain": [
       "array([   0,  155,  213,  323,  419,  625,  653,  810,  880,  974, 1092,\n",
       "       1138, 1258, 1340, 1380, 1408, 1411, 1485, 1504, 1539, 1564, 1573,\n",
       "       1579, 1590, 1594, 1602, 1617, 1628, 1648, 1651, 1668, 1669, 1672,\n",
       "       1719, 1721, 1726, 1735, 1740, 1741, 1755, 1762, 1816, 1825, 1844,\n",
       "       1848, 1876, 1887, 1902, 1944, 1974, 1977, 1980, 2001, 2002, 2042,\n",
       "       2051, 2057, 2080, 2129, 2149, 2163, 2174, 2179, 2201, 2205, 2206,\n",
       "       2231, 2238, 2246, 2258, 2267, 2282, 2339, 2352, 2377, 2392, 2415,\n",
       "       2444, 2457, 2467, 2472, 2489, 2547, 2559, 2603, 2754, 2824, 3004,\n",
       "       3683, 3770, 3900, 4356], dtype=int64)"
      ]
     },
     "execution_count": 40,
     "metadata": {},
     "output_type": "execute_result"
    }
   ],
   "source": [
    "df.capital_loss.sort_values().unique()"
   ]
  },
  {
   "cell_type": "code",
   "execution_count": 41,
   "id": "61856fdb-1a9a-4a51-a62f-6d098c5fd023",
   "metadata": {},
   "outputs": [
    {
     "data": {
      "text/plain": [
       " >50K     773\n",
       " <=50K    746\n",
       "Name: salary, dtype: int64"
      ]
     },
     "execution_count": 41,
     "metadata": {},
     "output_type": "execute_result"
    }
   ],
   "source": [
    "#checking salary of people who made any capital loss\n",
    "df.salary[df.capital_loss>0].value_counts()"
   ]
  },
  {
   "cell_type": "code",
   "execution_count": 42,
   "id": "d5260e84-c260-491e-bfe7-ae573e54e768",
   "metadata": {},
   "outputs": [
    {
     "data": {
      "text/plain": [
       "<AxesSubplot:>"
      ]
     },
     "execution_count": 42,
     "metadata": {},
     "output_type": "execute_result"
    },
    {
     "data": {
      "image/png": "[encoded data removed]",
      "text/plain": [
       "<Figure size 432x288 with 1 Axes>"
      ]
     },
     "metadata": {
      "needs_background": "light"
     },
     "output_type": "display_data"
    }
   ],
   "source": [
    "# Plotting %age of people earning >50k as capital loss increases\n",
    "l1=[]\n",
    "l2=[]\n",
    "a=0\n",
    "while a<(df.capital_loss.max()):\n",
    "    l1.append(((pd.DataFrame(df.salary[df.capital_loss>a].value_counts()).salary[0])/(df.capital_loss>a).sum())*100)\n",
    "    l2.append(a)\n",
    "    a=a+500\n",
    "sns.lineplot(x=l2,y=l1)"
   ]
  },
  {
   "cell_type": "markdown",
   "id": "0ab3f912-40a5-46d5-8bb8-311f07210325",
   "metadata": {},
   "source": [
    "It is clear from above illustrations, capital gain and capital loss shows strong correlation with salary of a person as it shows a persons abality to invest. Thes two columns are importand but we can combine them and show capital gain as +va and loss as -ve"
   ]
  },
  {
   "cell_type": "code",
   "execution_count": 43,
   "id": "ae4e7a69-520c-40f3-8bf8-a93e1215ca8b",
   "metadata": {},
   "outputs": [],
   "source": [
    "# Combining capital gain and capital loss column\n",
    "df.capital_gain=df.capital_gain-df.capital_loss"
   ]
  },
  {
   "cell_type": "code",
   "execution_count": 44,
   "id": "ca2121a1-d729-45d0-956e-bb5e7c0daed9",
   "metadata": {},
   "outputs": [
    {
     "name": "stdout",
     "output_type": "stream",
     "text": [
      "[    0 99999 -1980  2829 -1974 -2415  4650 -1977 15024  4064  7688  2964\n",
      " -1902  7298  1797  5455 -2001 -1740 25236  8614  5178  9386 -1590 -1579\n",
      " -2824  4386  1055 27828  3781 -1876 14344 -1672 20051  2885  3325  4101\n",
      "  3103 -1741 -1762 -1651  2290 -1887 -2377  -213 -2754  2354  6849 -3683\n",
      " -2051  7443 10605 -2129  4787  6497  3942 -1602 -2559  3137   594  2174\n",
      "  -625 -2444 -1408 -1564 -1719 -1258  4934 -1848 -2339 -1668 -1721  3471\n",
      "  2597 -1340 10520  3908  2105  4508  3674 10566  3432 15831 -1669 -2002\n",
      " -2174  1506  3887  7430 -1485  2176  5013 -2179  4865  5721  1151  1409\n",
      " -2392   114  6723 -1816 13550  3411  2580 -1573  4416  2387 -1617 -2246\n",
      "  7896  1111 -2258 -1092  3464  7978 -1628 14084 34095 -1755  2407  2036\n",
      " -2042  2202 -2547  -653  3418  2009  2635 -2057  2228 -1380  1173 -1825\n",
      "  6360 -2238 -1504 -2603  1639 -1726 25124 -2206  2414 -2231 -2467  2936\n",
      " -3900 -1138  -880  3818  2463 -4356  2346  2977  2329  2050  5556 -1648\n",
      " 15020 -1594  -323 -2149  9562 -2205 -1735  1848  2907 -1844   914  6514\n",
      "  1831  6418  -974   991  -155 -3004 -2457  4931  1455 -1539  -810  -419\n",
      "  6767  2961  3273  2538 -3770  2653  1471  2993 -2489 18481 -2267 -2282\n",
      " 22040 -1944 -2201  1424   401 -2163  2062 -2352 11678  4687  3456  6097\n",
      "  1086 -2080 -1411 -2472  5060 41310]\n"
     ]
    },
    {
     "data": {
      "text/plain": [
       "Index(['age', 'workclass', 'fnlwgt', 'education_num', 'marital_status',\n",
       "       'occupation', 'race', 'sex', 'capital_gain/loss', 'hours_per_week',\n",
       "       'country', 'salary'],\n",
       "      dtype='object')"
      ]
     },
     "execution_count": 44,
     "metadata": {},
     "output_type": "execute_result"
    }
   ],
   "source": [
    "#dropping capital loss column\n",
    "df.drop('capital_loss',axis=1,inplace=True)\n",
    "# checking unique vaules in capital gain column\n",
    "print(df.capital_gain.unique())\n",
    "# renaming capital gain column as capital_gain/loss cloumn\n",
    "df.rename(columns={'capital_gain':'capital_gain/loss'},inplace=True)\n",
    "# checking cloumn names to confirm\n",
    "df.columns"
   ]
  },
  {
   "cell_type": "code",
   "execution_count": 45,
   "id": "5ed5f341-06fd-4c17-b21a-f17e23e05397",
   "metadata": {},
   "outputs": [
    {
     "data": {
      "text/plain": [
       " United-States                 89.599533\n",
       " Mexico                         1.963918\n",
       " Other                          1.788733\n",
       " Philippines                    0.608538\n",
       " Germany                        0.421059\n",
       " Canada                         0.371884\n",
       " Puerto-Rico                    0.350370\n",
       " El-Salvador                    0.325783\n",
       " India                          0.307342\n",
       " Cuba                           0.291975\n",
       " England                        0.276608\n",
       " Jamaica                        0.248947\n",
       " South                          0.245874\n",
       " China                          0.230507\n",
       " Italy                          0.224360\n",
       " Dominican-Republic             0.215140\n",
       " Vietnam                        0.205919\n",
       " Japan                          0.190552\n",
       " Guatemala                      0.190552\n",
       " Poland                         0.184405\n",
       " Columbia                       0.181332\n",
       " Taiwan                         0.156745\n",
       " Haiti                          0.135231\n",
       " Iran                           0.132157\n",
       " Portugal                       0.113717\n",
       " Nicaragua                      0.104496\n",
       " Peru                           0.095276\n",
       " Greece                         0.089129\n",
       " France                         0.089129\n",
       " Ecuador                        0.086056\n",
       " Ireland                        0.073762\n",
       " Hong                           0.061468\n",
       " Cambodia                       0.058395\n",
       " Trinadad&Tobago                0.058395\n",
       " Laos                           0.055322\n",
       " Thailand                       0.055322\n",
       " Yugoslavia                     0.049175\n",
       " Outlying-US(Guam-USVI-etc)     0.043028\n",
       " Hungary                        0.039955\n",
       " Honduras                       0.039955\n",
       " Scotland                       0.036881\n",
       " Holand-Netherlands             0.003073\n",
       "Name: country, dtype: float64"
      ]
     },
     "execution_count": 45,
     "metadata": {},
     "output_type": "execute_result"
    }
   ],
   "source": [
    "# Analyzing country column\n",
    "df.country.value_counts(normalize=True)*100"
   ]
  },
  {
   "cell_type": "markdown",
   "id": "0e280643-751a-40e1-ab67-5073f9a43a7c",
   "metadata": {},
   "source": [
    "Almost 90% people are from US. This column should be deleted as it will only create bias in data"
   ]
  },
  {
   "cell_type": "code",
   "execution_count": 46,
   "id": "3c8c5566-40da-4d5c-bb4d-4cf33df76903",
   "metadata": {},
   "outputs": [],
   "source": [
    "df.drop(columns=('country'),axis=1,inplace=True)"
   ]
  },
  {
   "cell_type": "code",
   "execution_count": 47,
   "id": "c8c357c0-1ade-40e5-86ea-3edd0dcea722",
   "metadata": {},
   "outputs": [
    {
     "data": {
      "text/plain": [
       "40    46.728340\n",
       "50     8.657836\n",
       "45     5.602852\n",
       "60     4.533301\n",
       "35     3.983158\n",
       "        ...    \n",
       "92     0.003073\n",
       "82     0.003073\n",
       "74     0.003073\n",
       "87     0.003073\n",
       "94     0.003073\n",
       "Name: hours_per_week, Length: 94, dtype: float64"
      ]
     },
     "execution_count": 47,
     "metadata": {},
     "output_type": "execute_result"
    }
   ],
   "source": [
    "# Analyzing work hours per week column\n",
    "df.hours_per_week.value_counts(normalize=True)*100"
   ]
  },
  {
   "cell_type": "code",
   "execution_count": 48,
   "id": "bd2658fa-fdd4-469d-857a-e68e3206502c",
   "metadata": {},
   "outputs": [
    {
     "data": {
      "text/plain": [
       "<AxesSubplot:xlabel='hours_per_week', ylabel='count'>"
      ]
     },
     "execution_count": 48,
     "metadata": {},
     "output_type": "execute_result"
    },
    {
     "data": {
      "image/png": "[encoded data removed]",
      "text/plain": [
       "<Figure size 1440x504 with 1 Axes>"
      ]
     },
     "metadata": {
      "needs_background": "light"
     },
     "output_type": "display_data"
    }
   ],
   "source": [
    "plt.figure(figsize=(20,7))\n",
    "sns.countplot(data=df,x='hours_per_week',hue='salary')"
   ]
  },
  {
   "cell_type": "code",
   "execution_count": 49,
   "id": "bc01de6b-5c0e-43c3-b127-55b1eff3113d",
   "metadata": {},
   "outputs": [
    {
     "name": "stdout",
     "output_type": "stream",
     "text": [
      "salary data for people working less than 10 hours a week \n",
      "  <=50K    413\n",
      " >50K      45\n",
      "Name: salary, dtype: int64\n"
     ]
    }
   ],
   "source": [
    "print('salary data for people working less than 10 hours a week \\n',df.salary[df.hours_per_week<10].value_counts())"
   ]
  },
  {
   "cell_type": "code",
   "execution_count": 50,
   "id": "5c6b60b6-5406-4b7c-80a6-57fdc76b684d",
   "metadata": {},
   "outputs": [
    {
     "name": "stdout",
     "output_type": "stream",
     "text": [
      "salary data for people working less than 5 hours a week \n",
      "  <=50K    131\n",
      " >50K      14\n",
      "Name: salary, dtype: int64\n"
     ]
    }
   ],
   "source": [
    "print('salary data for people working less than 5 hours a week \\n',df.salary[df.hours_per_week<5].value_counts())"
   ]
  },
  {
   "cell_type": "markdown",
   "id": "abf78d2d-93c7-4966-b6bd-3cd513d7cc00",
   "metadata": {},
   "source": [
    "We can see that people in all work hour categories have salary >50k, this column seem to be irrelevent and this will add bais to data as maximum people work 40 hours a week and that's why this coulmn should be dropped."
   ]
  },
  {
   "cell_type": "code",
   "execution_count": 51,
   "id": "723e9fd5-5d22-4b8b-b301-dd62f2a50d95",
   "metadata": {},
   "outputs": [
    {
     "data": {
      "text/plain": [
       "Index(['age', 'workclass', 'fnlwgt', 'education_num', 'marital_status',\n",
       "       'occupation', 'race', 'sex', 'capital_gain/loss', 'salary'],\n",
       "      dtype='object')"
      ]
     },
     "execution_count": 51,
     "metadata": {},
     "output_type": "execute_result"
    }
   ],
   "source": [
    "# Dropping hours per week column\n",
    "df.drop(columns='hours_per_week',axis=1,inplace=True)\n",
    "df.columns"
   ]
  },
  {
   "cell_type": "code",
   "execution_count": 52,
   "id": "58dd0a98-3111-4500-b117-064585df2a40",
   "metadata": {},
   "outputs": [
    {
     "data": {
      "text/plain": [
       " White                 85.425823\n",
       " Black                  9.595230\n",
       " Asian-Pac-Islander     3.190214\n",
       " Amer-Indian-Eskimo     0.955835\n",
       " Other                  0.832898\n",
       "Name: race, dtype: float64"
      ]
     },
     "execution_count": 52,
     "metadata": {},
     "output_type": "execute_result"
    }
   ],
   "source": [
    "# Analyzing race column\n",
    "df.race.value_counts(normalize=True)*100"
   ]
  },
  {
   "cell_type": "code",
   "execution_count": 53,
   "id": "d2af7e43-e8da-4104-89c6-6634f13d93a3",
   "metadata": {},
   "outputs": [
    {
     "data": {
      "text/plain": [
       "<AxesSubplot:xlabel='race', ylabel='count'>"
      ]
     },
     "execution_count": 53,
     "metadata": {},
     "output_type": "execute_result"
    },
    {
     "data": {
      "image/png": "[encoded data removed]",
      "text/plain": [
       "<Figure size 432x288 with 1 Axes>"
      ]
     },
     "metadata": {
      "needs_background": "light"
     },
     "output_type": "display_data"
    }
   ],
   "source": [
    "sns.countplot(data=df,x='race',hue='salary')"
   ]
  },
  {
   "cell_type": "code",
   "execution_count": 54,
   "id": "96716168-cf70-4755-9d1e-4ecace165540",
   "metadata": {},
   "outputs": [
    {
     "data": {
      "text/plain": [
       "array([' <=50K', ' >50K'], dtype=object)"
      ]
     },
     "execution_count": 54,
     "metadata": {},
     "output_type": "execute_result"
    }
   ],
   "source": [
    "# Analyzing salary column\n",
    "df.salary.unique()"
   ]
  },
  {
   "cell_type": "markdown",
   "id": "acc4384a-10b9-4fd4-adaa-80dccc89a0c1",
   "metadata": {},
   "source": [
    "We have to categories in salary column, we need to encode it to 0 and 1, salary >50 will be encoded as 1"
   ]
  },
  {
   "cell_type": "code",
   "execution_count": 55,
   "id": "afad43b3-f7bd-427a-b15e-0a7fb756cffa",
   "metadata": {},
   "outputs": [
    {
     "data": {
      "text/plain": [
       "array([0, 1], dtype=int64)"
      ]
     },
     "execution_count": 55,
     "metadata": {},
     "output_type": "execute_result"
    }
   ],
   "source": [
    "# Encoding salary column\n",
    "df.replace(to_replace=[' <=50K', ' >50K'],value=[0,1],inplace=True)\n",
    "df.salary.unique()"
   ]
  },
  {
   "cell_type": "code",
   "execution_count": 56,
   "id": "a92cf449-fb82-478b-8416-caa07f9097bf",
   "metadata": {},
   "outputs": [
    {
     "data": {
      "text/plain": [
       "Index(['age', 'workclass', 'education_num', 'marital_status', 'occupation',\n",
       "       'race', 'sex', 'capital_gain/loss', 'salary'],\n",
       "      dtype='object')"
      ]
     },
     "execution_count": 56,
     "metadata": {},
     "output_type": "execute_result"
    }
   ],
   "source": [
    "# Dropping non useful columns\n",
    "df.drop(columns=['fnlwgt'],axis=1,inplace=True)\n",
    "df.columns"
   ]
  },
  {
   "cell_type": "code",
   "execution_count": 57,
   "id": "cb76117e-b7b8-4a07-8f29-6730ebbe59c1",
   "metadata": {},
   "outputs": [
    {
     "name": "stdout",
     "output_type": "stream",
     "text": [
      "<class 'pandas.core.frame.DataFrame'>\n",
      "RangeIndex: 32537 entries, 0 to 32536\n",
      "Data columns (total 9 columns):\n",
      " #   Column             Non-Null Count  Dtype  \n",
      "---  ------             --------------  -----  \n",
      " 0   age                32537 non-null  float64\n",
      " 1   workclass          32537 non-null  object \n",
      " 2   education_num      32537 non-null  int64  \n",
      " 3   marital_status     32537 non-null  int64  \n",
      " 4   occupation         32537 non-null  object \n",
      " 5   race               32537 non-null  object \n",
      " 6   sex                32537 non-null  int64  \n",
      " 7   capital_gain/loss  32537 non-null  int64  \n",
      " 8   salary             32537 non-null  int64  \n",
      "dtypes: float64(1), int64(5), object(3)\n",
      "memory usage: 2.2+ MB\n"
     ]
    }
   ],
   "source": [
    "#checking column info\n",
    "df.info()"
   ]
  },
  {
   "cell_type": "markdown",
   "id": "00cb2142-5ffc-4306-8452-cc58124f7dc4",
   "metadata": {},
   "source": [
    "We have 3 non numerical columns. we are going to perform one hot encoding on these columns."
   ]
  },
  {
   "cell_type": "code",
   "execution_count": 58,
   "id": "b145cace-1117-410c-98bc-9a57c6972c08",
   "metadata": {},
   "outputs": [],
   "source": [
    "# Performing one hot encoding on workclass column\n",
    "df=pd.get_dummies(df,columns=['workclass','occupation','race'])"
   ]
  },
  {
   "cell_type": "code",
   "execution_count": 59,
   "id": "0d9a5e2b-74e0-409a-8599-d8d96e949ce8",
   "metadata": {},
   "outputs": [
    {
     "data": {
      "text/plain": [
       "(32537, 34)"
      ]
     },
     "execution_count": 59,
     "metadata": {},
     "output_type": "execute_result"
    }
   ],
   "source": [
    "#checking head of data after one hot encoding\n",
    "df.shape"
   ]
  },
  {
   "cell_type": "code",
   "execution_count": 60,
   "id": "6e10f0fc-2ae0-46ee-ab58-c0193bd591c5",
   "metadata": {},
   "outputs": [],
   "source": [
    "# separating target column from data and naming it as Y, naming features as X\n",
    "Y=pd.DataFrame(df.salary)\n",
    "df.drop(columns=['salary'],axis=1,inplace=True)\n",
    "X=df"
   ]
  },
  {
   "cell_type": "code",
   "execution_count": 61,
   "id": "d795ac27-738e-4845-beb0-1e624266197d",
   "metadata": {},
   "outputs": [
    {
     "name": "stdout",
     "output_type": "stream",
     "text": [
      "shape of X = (32537, 33)\n",
      "shape of Y = (32537, 1)\n"
     ]
    }
   ],
   "source": [
    "#checking shape of target and features\n",
    "print('shape of X =',X.shape)\n",
    "print('shape of Y =',Y.shape)"
   ]
  },
  {
   "cell_type": "markdown",
   "id": "b10edd86-7a24-4331-9251-c3e9026d249e",
   "metadata": {},
   "source": [
    "# Model Building"
   ]
  },
  {
   "cell_type": "code",
   "execution_count": 62,
   "id": "2ffe0e38-7f38-4347-90eb-fceaaa5f8c2d",
   "metadata": {},
   "outputs": [
    {
     "name": "stdout",
     "output_type": "stream",
     "text": [
      "Requirement already satisfied: catboost in c:\\users\\kuldeep\\anaconda3\\lib\\site-packages (1.1.1)\n",
      "Requirement already satisfied: matplotlib in c:\\users\\kuldeep\\anaconda3\\lib\\site-packages (from catboost) (3.5.1)\n",
      "Requirement already satisfied: pandas>=0.24.0 in c:\\users\\kuldeep\\anaconda3\\lib\\site-packages (from catboost) (1.4.2)\n",
      "Requirement already satisfied: six in c:\\users\\kuldeep\\anaconda3\\lib\\site-packages (from catboost) (1.16.0)\n",
      "Requirement already satisfied: scipy in c:\\users\\kuldeep\\anaconda3\\lib\\site-packages (from catboost) (1.7.3)\n",
      "Requirement already satisfied: numpy>=1.16.0 in c:\\users\\kuldeep\\anaconda3\\lib\\site-packages (from catboost) (1.21.5)\n",
      "Requirement already satisfied: plotly in c:\\users\\kuldeep\\anaconda3\\lib\\site-packages (from catboost) (5.6.0)\n",
      "Requirement already satisfied: graphviz in c:\\users\\kuldeep\\anaconda3\\lib\\site-packages (from catboost) (0.20.1)\n",
      "Requirement already satisfied: pytz>=2020.1 in c:\\users\\kuldeep\\anaconda3\\lib\\site-packages (from pandas>=0.24.0->catboost) (2021.3)\n",
      "Requirement already satisfied: python-dateutil>=2.8.1 in c:\\users\\kuldeep\\anaconda3\\lib\\site-packages (from pandas>=0.24.0->catboost) (2.8.2)\n",
      "Requirement already satisfied: kiwisolver>=1.0.1 in c:\\users\\kuldeep\\anaconda3\\lib\\site-packages (from matplotlib->catboost) (1.3.2)\n",
      "Requirement already satisfied: pillow>=6.2.0 in c:\\users\\kuldeep\\anaconda3\\lib\\site-packages (from matplotlib->catboost) (9.0.1)\n",
      "Requirement already satisfied: cycler>=0.10 in c:\\users\\kuldeep\\anaconda3\\lib\\site-packages (from matplotlib->catboost) (0.11.0)\n",
      "Requirement already satisfied: fonttools>=4.22.0 in c:\\users\\kuldeep\\anaconda3\\lib\\site-packages (from matplotlib->catboost) (4.25.0)\n",
      "Requirement already satisfied: packaging>=20.0 in c:\\users\\kuldeep\\anaconda3\\lib\\site-packages (from matplotlib->catboost) (21.3)\n",
      "Requirement already satisfied: pyparsing>=2.2.1 in c:\\users\\kuldeep\\anaconda3\\lib\\site-packages (from matplotlib->catboost) (3.0.4)\n",
      "Requirement already satisfied: tenacity>=6.2.0 in c:\\users\\kuldeep\\anaconda3\\lib\\site-packages (from plotly->catboost) (8.0.1)\n"
     ]
    }
   ],
   "source": [
    "# Installing Catboost \n",
    "!pip install catboost"
   ]
  },
  {
   "cell_type": "code",
   "execution_count": 63,
   "id": "701cd22c-6d54-4a89-8d0d-c4d17d07264e",
   "metadata": {},
   "outputs": [],
   "source": [
    "# Improting various classification models\n",
    "from sklearn.linear_model import LogisticRegression\n",
    "from sklearn.tree import DecisionTreeClassifier\n",
    "from sklearn.ensemble import RandomForestClassifier, AdaBoostClassifier\n",
    "from sklearn.neighbors import KNeighborsClassifier\n",
    "from catboost import CatBoostClassifier\n",
    "from xgboost import XGBClassifier\n",
    "from sklearn.svm import SVC"
   ]
  },
  {
   "cell_type": "code",
   "execution_count": 64,
   "id": "63c27e67-55ca-4e14-bfca-48bd74e47a60",
   "metadata": {},
   "outputs": [],
   "source": [
    "# Performing train test split\n",
    "from sklearn.model_selection import train_test_split\n",
    "X_train, X_test, Y_train, Y_test = train_test_split(X, Y, test_size = 0.2, random_state = 5)"
   ]
  },
  {
   "cell_type": "code",
   "execution_count": 65,
   "id": "5814b408-4c2b-49fc-8d76-6f18b9ccddd1",
   "metadata": {},
   "outputs": [],
   "source": [
    "# Importing various accuracy scales\n",
    "from sklearn.metrics import confusion_matrix, precision_score, recall_score, accuracy_score, f1_score"
   ]
  },
  {
   "cell_type": "code",
   "execution_count": 66,
   "id": "c01957b9-154b-46a8-8a91-be8508e4662b",
   "metadata": {
    "scrolled": true,
    "tags": []
   },
   "outputs": [
    {
     "name": "stdout",
     "output_type": "stream",
     "text": [
      "Learning rate set to 0.041432\n",
      "0:\tlearn: 0.6528035\ttotal: 152ms\tremaining: 2m 31s\n",
      "1:\tlearn: 0.6156570\ttotal: 160ms\tremaining: 1m 19s\n",
      "2:\tlearn: 0.5849370\ttotal: 169ms\tremaining: 56.1s\n",
      "3:\tlearn: 0.5590307\ttotal: 174ms\tremaining: 43.4s\n",
      "4:\tlearn: 0.5345946\ttotal: 183ms\tremaining: 36.4s\n",
      "5:\tlearn: 0.5115173\ttotal: 192ms\tremaining: 31.8s\n",
      "6:\tlearn: 0.4924979\ttotal: 200ms\tremaining: 28.4s\n",
      "7:\tlearn: 0.4760905\ttotal: 210ms\tremaining: 26s\n",
      "8:\tlearn: 0.4584927\ttotal: 218ms\tremaining: 24s\n",
      "9:\tlearn: 0.4440318\ttotal: 225ms\tremaining: 22.3s\n",
      "10:\tlearn: 0.4317063\ttotal: 232ms\tremaining: 20.9s\n",
      "11:\tlearn: 0.4201720\ttotal: 239ms\tremaining: 19.7s\n",
      "12:\tlearn: 0.4109360\ttotal: 246ms\tremaining: 18.6s\n",
      "13:\tlearn: 0.4023318\ttotal: 252ms\tremaining: 17.8s\n",
      "14:\tlearn: 0.3950841\ttotal: 259ms\tremaining: 17s\n",
      "15:\tlearn: 0.3883757\ttotal: 265ms\tremaining: 16.3s\n",
      "16:\tlearn: 0.3825047\ttotal: 272ms\tremaining: 15.7s\n",
      "17:\tlearn: 0.3772617\ttotal: 279ms\tremaining: 15.2s\n",
      "18:\tlearn: 0.3717743\ttotal: 285ms\tremaining: 14.7s\n",
      "19:\tlearn: 0.3674462\ttotal: 292ms\tremaining: 14.3s\n",
      "20:\tlearn: 0.3633837\ttotal: 298ms\tremaining: 13.9s\n",
      "21:\tlearn: 0.3598549\ttotal: 305ms\tremaining: 13.6s\n",
      "22:\tlearn: 0.3571290\ttotal: 312ms\tremaining: 13.2s\n",
      "23:\tlearn: 0.3538680\ttotal: 320ms\tremaining: 13s\n",
      "24:\tlearn: 0.3514449\ttotal: 328ms\tremaining: 12.8s\n",
      "25:\tlearn: 0.3487989\ttotal: 335ms\tremaining: 12.5s\n",
      "26:\tlearn: 0.3464356\ttotal: 342ms\tremaining: 12.3s\n",
      "27:\tlearn: 0.3448571\ttotal: 348ms\tremaining: 12.1s\n",
      "28:\tlearn: 0.3430375\ttotal: 355ms\tremaining: 11.9s\n",
      "29:\tlearn: 0.3410821\ttotal: 363ms\tremaining: 11.7s\n",
      "30:\tlearn: 0.3391962\ttotal: 372ms\tremaining: 11.6s\n",
      "31:\tlearn: 0.3374024\ttotal: 380ms\tremaining: 11.5s\n",
      "32:\tlearn: 0.3358427\ttotal: 390ms\tremaining: 11.4s\n",
      "33:\tlearn: 0.3344233\ttotal: 397ms\tremaining: 11.3s\n",
      "34:\tlearn: 0.3331337\ttotal: 405ms\tremaining: 11.2s\n",
      "35:\tlearn: 0.3316168\ttotal: 413ms\tremaining: 11.1s\n",
      "36:\tlearn: 0.3305628\ttotal: 420ms\tremaining: 10.9s\n",
      "37:\tlearn: 0.3297857\ttotal: 426ms\tremaining: 10.8s\n",
      "38:\tlearn: 0.3286950\ttotal: 433ms\tremaining: 10.7s\n",
      "39:\tlearn: 0.3276859\ttotal: 439ms\tremaining: 10.5s\n",
      "40:\tlearn: 0.3266829\ttotal: 446ms\tremaining: 10.4s\n",
      "41:\tlearn: 0.3256598\ttotal: 453ms\tremaining: 10.3s\n",
      "42:\tlearn: 0.3247223\ttotal: 459ms\tremaining: 10.2s\n",
      "43:\tlearn: 0.3239267\ttotal: 466ms\tremaining: 10.1s\n",
      "44:\tlearn: 0.3232211\ttotal: 473ms\tremaining: 10s\n",
      "45:\tlearn: 0.3225356\ttotal: 479ms\tremaining: 9.94s\n",
      "46:\tlearn: 0.3220355\ttotal: 487ms\tremaining: 9.87s\n",
      "47:\tlearn: 0.3214907\ttotal: 493ms\tremaining: 9.78s\n",
      "48:\tlearn: 0.3206937\ttotal: 500ms\tremaining: 9.7s\n",
      "49:\tlearn: 0.3200793\ttotal: 506ms\tremaining: 9.61s\n",
      "50:\tlearn: 0.3195370\ttotal: 512ms\tremaining: 9.54s\n",
      "51:\tlearn: 0.3186973\ttotal: 519ms\tremaining: 9.46s\n",
      "52:\tlearn: 0.3181795\ttotal: 526ms\tremaining: 9.4s\n",
      "53:\tlearn: 0.3175067\ttotal: 533ms\tremaining: 9.34s\n",
      "54:\tlearn: 0.3167673\ttotal: 542ms\tremaining: 9.31s\n",
      "55:\tlearn: 0.3163535\ttotal: 552ms\tremaining: 9.3s\n",
      "56:\tlearn: 0.3158547\ttotal: 560ms\tremaining: 9.27s\n",
      "57:\tlearn: 0.3154445\ttotal: 568ms\tremaining: 9.22s\n",
      "58:\tlearn: 0.3150170\ttotal: 575ms\tremaining: 9.17s\n",
      "59:\tlearn: 0.3147111\ttotal: 583ms\tremaining: 9.14s\n",
      "60:\tlearn: 0.3143620\ttotal: 591ms\tremaining: 9.09s\n",
      "61:\tlearn: 0.3138882\ttotal: 598ms\tremaining: 9.05s\n",
      "62:\tlearn: 0.3129537\ttotal: 606ms\tremaining: 9.02s\n",
      "63:\tlearn: 0.3123080\ttotal: 614ms\tremaining: 8.98s\n",
      "64:\tlearn: 0.3120039\ttotal: 621ms\tremaining: 8.94s\n",
      "65:\tlearn: 0.3117110\ttotal: 630ms\tremaining: 8.91s\n",
      "66:\tlearn: 0.3113751\ttotal: 637ms\tremaining: 8.87s\n",
      "67:\tlearn: 0.3110161\ttotal: 645ms\tremaining: 8.84s\n",
      "68:\tlearn: 0.3107591\ttotal: 652ms\tremaining: 8.8s\n",
      "69:\tlearn: 0.3101641\ttotal: 659ms\tremaining: 8.76s\n",
      "70:\tlearn: 0.3098803\ttotal: 667ms\tremaining: 8.73s\n",
      "71:\tlearn: 0.3095641\ttotal: 675ms\tremaining: 8.7s\n",
      "72:\tlearn: 0.3092046\ttotal: 683ms\tremaining: 8.67s\n",
      "73:\tlearn: 0.3086542\ttotal: 690ms\tremaining: 8.63s\n",
      "74:\tlearn: 0.3084270\ttotal: 697ms\tremaining: 8.59s\n",
      "75:\tlearn: 0.3079094\ttotal: 704ms\tremaining: 8.56s\n",
      "76:\tlearn: 0.3074591\ttotal: 711ms\tremaining: 8.52s\n",
      "77:\tlearn: 0.3072640\ttotal: 719ms\tremaining: 8.49s\n",
      "78:\tlearn: 0.3069666\ttotal: 728ms\tremaining: 8.49s\n",
      "79:\tlearn: 0.3065315\ttotal: 738ms\tremaining: 8.49s\n",
      "80:\tlearn: 0.3063023\ttotal: 747ms\tremaining: 8.48s\n",
      "81:\tlearn: 0.3060726\ttotal: 755ms\tremaining: 8.45s\n",
      "82:\tlearn: 0.3057974\ttotal: 762ms\tremaining: 8.42s\n",
      "83:\tlearn: 0.3055007\ttotal: 770ms\tremaining: 8.39s\n",
      "84:\tlearn: 0.3052041\ttotal: 781ms\tremaining: 8.4s\n",
      "85:\tlearn: 0.3049890\ttotal: 789ms\tremaining: 8.39s\n",
      "86:\tlearn: 0.3048053\ttotal: 797ms\tremaining: 8.36s\n",
      "87:\tlearn: 0.3041426\ttotal: 804ms\tremaining: 8.33s\n",
      "88:\tlearn: 0.3038096\ttotal: 811ms\tremaining: 8.3s\n",
      "89:\tlearn: 0.3035248\ttotal: 819ms\tremaining: 8.28s\n",
      "90:\tlearn: 0.3033535\ttotal: 825ms\tremaining: 8.24s\n",
      "91:\tlearn: 0.3031834\ttotal: 832ms\tremaining: 8.22s\n",
      "92:\tlearn: 0.3030086\ttotal: 839ms\tremaining: 8.19s\n",
      "93:\tlearn: 0.3026918\ttotal: 847ms\tremaining: 8.16s\n",
      "94:\tlearn: 0.3025398\ttotal: 854ms\tremaining: 8.14s\n",
      "95:\tlearn: 0.3023709\ttotal: 865ms\tremaining: 8.14s\n",
      "96:\tlearn: 0.3021633\ttotal: 876ms\tremaining: 8.15s\n",
      "97:\tlearn: 0.3019691\ttotal: 885ms\tremaining: 8.14s\n",
      "98:\tlearn: 0.3017902\ttotal: 893ms\tremaining: 8.13s\n",
      "99:\tlearn: 0.3016287\ttotal: 902ms\tremaining: 8.12s\n",
      "100:\tlearn: 0.3013018\ttotal: 910ms\tremaining: 8.1s\n",
      "101:\tlearn: 0.3011535\ttotal: 920ms\tremaining: 8.1s\n",
      "102:\tlearn: 0.3009169\ttotal: 931ms\tremaining: 8.1s\n",
      "103:\tlearn: 0.3007117\ttotal: 940ms\tremaining: 8.1s\n",
      "104:\tlearn: 0.3005346\ttotal: 947ms\tremaining: 8.07s\n",
      "105:\tlearn: 0.3003411\ttotal: 955ms\tremaining: 8.06s\n",
      "106:\tlearn: 0.3000617\ttotal: 963ms\tremaining: 8.04s\n",
      "107:\tlearn: 0.2997942\ttotal: 971ms\tremaining: 8.02s\n",
      "108:\tlearn: 0.2996072\ttotal: 979ms\tremaining: 8s\n",
      "109:\tlearn: 0.2994117\ttotal: 987ms\tremaining: 7.99s\n",
      "110:\tlearn: 0.2992732\ttotal: 995ms\tremaining: 7.97s\n",
      "111:\tlearn: 0.2991689\ttotal: 1s\tremaining: 7.95s\n",
      "112:\tlearn: 0.2990226\ttotal: 1.01s\tremaining: 7.94s\n",
      "113:\tlearn: 0.2988372\ttotal: 1.02s\tremaining: 7.92s\n",
      "114:\tlearn: 0.2985572\ttotal: 1.03s\tremaining: 7.9s\n",
      "115:\tlearn: 0.2984139\ttotal: 1.03s\tremaining: 7.89s\n",
      "116:\tlearn: 0.2982359\ttotal: 1.04s\tremaining: 7.88s\n",
      "117:\tlearn: 0.2980524\ttotal: 1.05s\tremaining: 7.87s\n",
      "118:\tlearn: 0.2979415\ttotal: 1.06s\tremaining: 7.85s\n",
      "119:\tlearn: 0.2975092\ttotal: 1.07s\tremaining: 7.84s\n",
      "120:\tlearn: 0.2973064\ttotal: 1.08s\tremaining: 7.82s\n",
      "121:\tlearn: 0.2971302\ttotal: 1.08s\tremaining: 7.8s\n",
      "122:\tlearn: 0.2968242\ttotal: 1.09s\tremaining: 7.78s\n",
      "123:\tlearn: 0.2966916\ttotal: 1.1s\tremaining: 7.77s\n",
      "124:\tlearn: 0.2965435\ttotal: 1.11s\tremaining: 7.76s\n",
      "125:\tlearn: 0.2964567\ttotal: 1.12s\tremaining: 7.76s\n",
      "126:\tlearn: 0.2962342\ttotal: 1.13s\tremaining: 7.74s\n",
      "127:\tlearn: 0.2961140\ttotal: 1.13s\tremaining: 7.72s\n",
      "128:\tlearn: 0.2958459\ttotal: 1.14s\tremaining: 7.7s\n",
      "129:\tlearn: 0.2956174\ttotal: 1.15s\tremaining: 7.68s\n",
      "130:\tlearn: 0.2954672\ttotal: 1.16s\tremaining: 7.67s\n",
      "131:\tlearn: 0.2953354\ttotal: 1.16s\tremaining: 7.65s\n",
      "132:\tlearn: 0.2951907\ttotal: 1.17s\tremaining: 7.63s\n",
      "133:\tlearn: 0.2950056\ttotal: 1.18s\tremaining: 7.61s\n",
      "134:\tlearn: 0.2948358\ttotal: 1.18s\tremaining: 7.59s\n",
      "135:\tlearn: 0.2947275\ttotal: 1.19s\tremaining: 7.57s\n",
      "136:\tlearn: 0.2946224\ttotal: 1.2s\tremaining: 7.55s\n",
      "137:\tlearn: 0.2944696\ttotal: 1.21s\tremaining: 7.54s\n",
      "138:\tlearn: 0.2943429\ttotal: 1.21s\tremaining: 7.52s\n",
      "139:\tlearn: 0.2939767\ttotal: 1.22s\tremaining: 7.5s\n",
      "140:\tlearn: 0.2938609\ttotal: 1.23s\tremaining: 7.48s\n",
      "141:\tlearn: 0.2935936\ttotal: 1.24s\tremaining: 7.46s\n",
      "142:\tlearn: 0.2934844\ttotal: 1.24s\tremaining: 7.45s\n",
      "143:\tlearn: 0.2934010\ttotal: 1.25s\tremaining: 7.43s\n",
      "144:\tlearn: 0.2932468\ttotal: 1.26s\tremaining: 7.41s\n",
      "145:\tlearn: 0.2931351\ttotal: 1.26s\tremaining: 7.4s\n",
      "146:\tlearn: 0.2929530\ttotal: 1.27s\tremaining: 7.38s\n",
      "147:\tlearn: 0.2927994\ttotal: 1.28s\tremaining: 7.38s\n",
      "148:\tlearn: 0.2926324\ttotal: 1.29s\tremaining: 7.37s\n",
      "149:\tlearn: 0.2925056\ttotal: 1.3s\tremaining: 7.37s\n",
      "150:\tlearn: 0.2923728\ttotal: 1.31s\tremaining: 7.36s\n",
      "151:\tlearn: 0.2923067\ttotal: 1.32s\tremaining: 7.35s\n",
      "152:\tlearn: 0.2921655\ttotal: 1.32s\tremaining: 7.34s\n",
      "153:\tlearn: 0.2920525\ttotal: 1.33s\tremaining: 7.33s\n",
      "154:\tlearn: 0.2919506\ttotal: 1.34s\tremaining: 7.32s\n",
      "155:\tlearn: 0.2918245\ttotal: 1.35s\tremaining: 7.31s\n",
      "156:\tlearn: 0.2917073\ttotal: 1.36s\tremaining: 7.29s\n",
      "157:\tlearn: 0.2916059\ttotal: 1.37s\tremaining: 7.29s\n",
      "158:\tlearn: 0.2915306\ttotal: 1.37s\tremaining: 7.27s\n",
      "159:\tlearn: 0.2914402\ttotal: 1.38s\tremaining: 7.25s\n",
      "160:\tlearn: 0.2913374\ttotal: 1.39s\tremaining: 7.24s\n",
      "161:\tlearn: 0.2912858\ttotal: 1.4s\tremaining: 7.22s\n",
      "162:\tlearn: 0.2910798\ttotal: 1.4s\tremaining: 7.2s\n",
      "163:\tlearn: 0.2910100\ttotal: 1.41s\tremaining: 7.18s\n",
      "164:\tlearn: 0.2909015\ttotal: 1.42s\tremaining: 7.17s\n",
      "165:\tlearn: 0.2908281\ttotal: 1.42s\tremaining: 7.15s\n",
      "166:\tlearn: 0.2907087\ttotal: 1.43s\tremaining: 7.13s\n",
      "167:\tlearn: 0.2906524\ttotal: 1.44s\tremaining: 7.12s\n",
      "168:\tlearn: 0.2903207\ttotal: 1.44s\tremaining: 7.1s\n",
      "169:\tlearn: 0.2902134\ttotal: 1.45s\tremaining: 7.08s\n",
      "170:\tlearn: 0.2899336\ttotal: 1.46s\tremaining: 7.08s\n",
      "171:\tlearn: 0.2898449\ttotal: 1.47s\tremaining: 7.07s\n",
      "172:\tlearn: 0.2897783\ttotal: 1.48s\tremaining: 7.06s\n",
      "173:\tlearn: 0.2895721\ttotal: 1.48s\tremaining: 7.05s\n",
      "174:\tlearn: 0.2894890\ttotal: 1.49s\tremaining: 7.03s\n",
      "175:\tlearn: 0.2894168\ttotal: 1.5s\tremaining: 7.03s\n",
      "176:\tlearn: 0.2893125\ttotal: 1.51s\tremaining: 7.02s\n",
      "177:\tlearn: 0.2892015\ttotal: 1.52s\tremaining: 7.01s\n",
      "178:\tlearn: 0.2891293\ttotal: 1.52s\tremaining: 6.99s\n",
      "179:\tlearn: 0.2890347\ttotal: 1.53s\tremaining: 6.98s\n",
      "180:\tlearn: 0.2887515\ttotal: 1.54s\tremaining: 6.96s\n",
      "181:\tlearn: 0.2886723\ttotal: 1.54s\tremaining: 6.94s\n",
      "182:\tlearn: 0.2886164\ttotal: 1.55s\tremaining: 6.92s\n",
      "183:\tlearn: 0.2885531\ttotal: 1.56s\tremaining: 6.9s\n",
      "184:\tlearn: 0.2884643\ttotal: 1.56s\tremaining: 6.89s\n",
      "185:\tlearn: 0.2883920\ttotal: 1.57s\tremaining: 6.87s\n",
      "186:\tlearn: 0.2883162\ttotal: 1.58s\tremaining: 6.86s\n",
      "187:\tlearn: 0.2882091\ttotal: 1.58s\tremaining: 6.85s\n",
      "188:\tlearn: 0.2880906\ttotal: 1.59s\tremaining: 6.84s\n",
      "189:\tlearn: 0.2879221\ttotal: 1.6s\tremaining: 6.83s\n",
      "190:\tlearn: 0.2877476\ttotal: 1.61s\tremaining: 6.81s\n",
      "191:\tlearn: 0.2876362\ttotal: 1.62s\tremaining: 6.8s\n",
      "192:\tlearn: 0.2873320\ttotal: 1.62s\tremaining: 6.79s\n",
      "193:\tlearn: 0.2872670\ttotal: 1.63s\tremaining: 6.78s\n",
      "194:\tlearn: 0.2871791\ttotal: 1.64s\tremaining: 6.77s\n",
      "195:\tlearn: 0.2870941\ttotal: 1.65s\tremaining: 6.76s\n",
      "196:\tlearn: 0.2870003\ttotal: 1.66s\tremaining: 6.76s\n",
      "197:\tlearn: 0.2869371\ttotal: 1.67s\tremaining: 6.75s\n",
      "198:\tlearn: 0.2867486\ttotal: 1.67s\tremaining: 6.74s\n",
      "199:\tlearn: 0.2867066\ttotal: 1.68s\tremaining: 6.73s\n",
      "200:\tlearn: 0.2866327\ttotal: 1.69s\tremaining: 6.71s\n",
      "201:\tlearn: 0.2865763\ttotal: 1.7s\tremaining: 6.7s\n",
      "202:\tlearn: 0.2865193\ttotal: 1.7s\tremaining: 6.69s\n",
      "203:\tlearn: 0.2863774\ttotal: 1.71s\tremaining: 6.68s\n",
      "204:\tlearn: 0.2863139\ttotal: 1.72s\tremaining: 6.67s\n",
      "205:\tlearn: 0.2862168\ttotal: 1.73s\tremaining: 6.65s\n",
      "206:\tlearn: 0.2861681\ttotal: 1.73s\tremaining: 6.64s\n",
      "207:\tlearn: 0.2861197\ttotal: 1.74s\tremaining: 6.63s\n",
      "208:\tlearn: 0.2860673\ttotal: 1.75s\tremaining: 6.62s\n",
      "209:\tlearn: 0.2860363\ttotal: 1.76s\tremaining: 6.61s\n",
      "210:\tlearn: 0.2859534\ttotal: 1.76s\tremaining: 6.6s\n",
      "211:\tlearn: 0.2858885\ttotal: 1.77s\tremaining: 6.58s\n",
      "212:\tlearn: 0.2858080\ttotal: 1.78s\tremaining: 6.57s\n",
      "213:\tlearn: 0.2857145\ttotal: 1.78s\tremaining: 6.56s\n",
      "214:\tlearn: 0.2856540\ttotal: 1.79s\tremaining: 6.54s\n",
      "215:\tlearn: 0.2854840\ttotal: 1.8s\tremaining: 6.53s\n",
      "216:\tlearn: 0.2853907\ttotal: 1.8s\tremaining: 6.51s\n",
      "217:\tlearn: 0.2852968\ttotal: 1.81s\tremaining: 6.5s\n",
      "218:\tlearn: 0.2852440\ttotal: 1.82s\tremaining: 6.49s\n",
      "219:\tlearn: 0.2851890\ttotal: 1.83s\tremaining: 6.48s\n",
      "220:\tlearn: 0.2851227\ttotal: 1.84s\tremaining: 6.47s\n",
      "221:\tlearn: 0.2850522\ttotal: 1.84s\tremaining: 6.46s\n",
      "222:\tlearn: 0.2850038\ttotal: 1.85s\tremaining: 6.45s\n",
      "223:\tlearn: 0.2849150\ttotal: 1.86s\tremaining: 6.44s\n",
      "224:\tlearn: 0.2848456\ttotal: 1.86s\tremaining: 6.42s\n",
      "225:\tlearn: 0.2845626\ttotal: 1.87s\tremaining: 6.41s\n",
      "226:\tlearn: 0.2845171\ttotal: 1.88s\tremaining: 6.4s\n",
      "227:\tlearn: 0.2844482\ttotal: 1.89s\tremaining: 6.38s\n",
      "228:\tlearn: 0.2843082\ttotal: 1.9s\tremaining: 6.4s\n",
      "229:\tlearn: 0.2842445\ttotal: 1.91s\tremaining: 6.39s\n",
      "230:\tlearn: 0.2841467\ttotal: 1.92s\tremaining: 6.38s\n",
      "231:\tlearn: 0.2840824\ttotal: 1.92s\tremaining: 6.36s\n",
      "232:\tlearn: 0.2839877\ttotal: 1.93s\tremaining: 6.35s\n",
      "233:\tlearn: 0.2839328\ttotal: 1.94s\tremaining: 6.34s\n",
      "234:\tlearn: 0.2838587\ttotal: 1.94s\tremaining: 6.32s\n",
      "235:\tlearn: 0.2836364\ttotal: 1.95s\tremaining: 6.31s\n",
      "236:\tlearn: 0.2835590\ttotal: 1.96s\tremaining: 6.3s\n",
      "237:\tlearn: 0.2834732\ttotal: 1.96s\tremaining: 6.28s\n",
      "238:\tlearn: 0.2834178\ttotal: 1.97s\tremaining: 6.27s\n",
      "239:\tlearn: 0.2833482\ttotal: 1.98s\tremaining: 6.26s\n",
      "240:\tlearn: 0.2831771\ttotal: 1.98s\tremaining: 6.24s\n",
      "241:\tlearn: 0.2830210\ttotal: 1.99s\tremaining: 6.23s\n",
      "242:\tlearn: 0.2829699\ttotal: 2s\tremaining: 6.22s\n",
      "243:\tlearn: 0.2827629\ttotal: 2.01s\tremaining: 6.21s\n",
      "244:\tlearn: 0.2826871\ttotal: 2.01s\tremaining: 6.2s\n",
      "245:\tlearn: 0.2826187\ttotal: 2.02s\tremaining: 6.19s\n",
      "246:\tlearn: 0.2825571\ttotal: 2.03s\tremaining: 6.18s\n",
      "247:\tlearn: 0.2824811\ttotal: 2.03s\tremaining: 6.16s\n",
      "248:\tlearn: 0.2823622\ttotal: 2.04s\tremaining: 6.15s\n",
      "249:\tlearn: 0.2823144\ttotal: 2.05s\tremaining: 6.14s\n",
      "250:\tlearn: 0.2822540\ttotal: 2.05s\tremaining: 6.13s\n",
      "251:\tlearn: 0.2821757\ttotal: 2.06s\tremaining: 6.11s\n",
      "252:\tlearn: 0.2819236\ttotal: 2.07s\tremaining: 6.1s\n",
      "253:\tlearn: 0.2818293\ttotal: 2.08s\tremaining: 6.09s\n",
      "254:\tlearn: 0.2817091\ttotal: 2.08s\tremaining: 6.09s\n",
      "255:\tlearn: 0.2816356\ttotal: 2.09s\tremaining: 6.08s\n",
      "256:\tlearn: 0.2815426\ttotal: 2.1s\tremaining: 6.07s\n",
      "257:\tlearn: 0.2814624\ttotal: 2.11s\tremaining: 6.06s\n",
      "258:\tlearn: 0.2813606\ttotal: 2.11s\tremaining: 6.05s\n",
      "259:\tlearn: 0.2813225\ttotal: 2.12s\tremaining: 6.04s\n",
      "260:\tlearn: 0.2812725\ttotal: 2.13s\tremaining: 6.04s\n",
      "261:\tlearn: 0.2811648\ttotal: 2.14s\tremaining: 6.03s\n",
      "262:\tlearn: 0.2810336\ttotal: 2.15s\tremaining: 6.02s\n",
      "263:\tlearn: 0.2809437\ttotal: 2.16s\tremaining: 6.01s\n",
      "264:\tlearn: 0.2808992\ttotal: 2.17s\tremaining: 6.01s\n",
      "265:\tlearn: 0.2805847\ttotal: 2.17s\tremaining: 6s\n",
      "266:\tlearn: 0.2805178\ttotal: 2.18s\tremaining: 6s\n",
      "267:\tlearn: 0.2804762\ttotal: 2.19s\tremaining: 5.99s\n",
      "268:\tlearn: 0.2803530\ttotal: 2.21s\tremaining: 5.99s\n",
      "269:\tlearn: 0.2802779\ttotal: 2.21s\tremaining: 5.99s\n",
      "270:\tlearn: 0.2802197\ttotal: 2.23s\tremaining: 5.99s\n",
      "271:\tlearn: 0.2801478\ttotal: 2.23s\tremaining: 5.98s\n",
      "272:\tlearn: 0.2800937\ttotal: 2.24s\tremaining: 5.97s\n",
      "273:\tlearn: 0.2800044\ttotal: 2.25s\tremaining: 5.97s\n",
      "274:\tlearn: 0.2799742\ttotal: 2.27s\tremaining: 5.97s\n",
      "275:\tlearn: 0.2798814\ttotal: 2.28s\tremaining: 5.98s\n",
      "276:\tlearn: 0.2797220\ttotal: 2.29s\tremaining: 5.98s\n",
      "277:\tlearn: 0.2795847\ttotal: 2.31s\tremaining: 5.99s\n",
      "278:\tlearn: 0.2795508\ttotal: 2.32s\tremaining: 5.99s\n",
      "279:\tlearn: 0.2794336\ttotal: 2.32s\tremaining: 5.98s\n",
      "280:\tlearn: 0.2793297\ttotal: 2.33s\tremaining: 5.97s\n",
      "281:\tlearn: 0.2792847\ttotal: 2.34s\tremaining: 5.96s\n",
      "282:\tlearn: 0.2791897\ttotal: 2.35s\tremaining: 5.95s\n",
      "283:\tlearn: 0.2790899\ttotal: 2.35s\tremaining: 5.93s\n",
      "284:\tlearn: 0.2790191\ttotal: 2.36s\tremaining: 5.92s\n",
      "285:\tlearn: 0.2789609\ttotal: 2.37s\tremaining: 5.91s\n",
      "286:\tlearn: 0.2789032\ttotal: 2.37s\tremaining: 5.9s\n",
      "287:\tlearn: 0.2788402\ttotal: 2.38s\tremaining: 5.89s\n",
      "288:\tlearn: 0.2787473\ttotal: 2.39s\tremaining: 5.88s\n",
      "289:\tlearn: 0.2787133\ttotal: 2.4s\tremaining: 5.87s\n",
      "290:\tlearn: 0.2786456\ttotal: 2.4s\tremaining: 5.86s\n",
      "291:\tlearn: 0.2786001\ttotal: 2.41s\tremaining: 5.84s\n",
      "292:\tlearn: 0.2784281\ttotal: 2.42s\tremaining: 5.83s\n",
      "293:\tlearn: 0.2781304\ttotal: 2.43s\tremaining: 5.83s\n",
      "294:\tlearn: 0.2780197\ttotal: 2.44s\tremaining: 5.82s\n",
      "295:\tlearn: 0.2779315\ttotal: 2.45s\tremaining: 5.82s\n",
      "296:\tlearn: 0.2778594\ttotal: 2.46s\tremaining: 5.82s\n",
      "297:\tlearn: 0.2777934\ttotal: 2.47s\tremaining: 5.82s\n",
      "298:\tlearn: 0.2777165\ttotal: 2.48s\tremaining: 5.82s\n",
      "299:\tlearn: 0.2776706\ttotal: 2.49s\tremaining: 5.82s\n",
      "300:\tlearn: 0.2776253\ttotal: 2.5s\tremaining: 5.81s\n",
      "301:\tlearn: 0.2775937\ttotal: 2.51s\tremaining: 5.81s\n",
      "302:\tlearn: 0.2775532\ttotal: 2.52s\tremaining: 5.8s\n",
      "303:\tlearn: 0.2774656\ttotal: 2.53s\tremaining: 5.79s\n",
      "304:\tlearn: 0.2774186\ttotal: 2.54s\tremaining: 5.79s\n",
      "305:\tlearn: 0.2773484\ttotal: 2.55s\tremaining: 5.78s\n",
      "306:\tlearn: 0.2772756\ttotal: 2.56s\tremaining: 5.77s\n",
      "307:\tlearn: 0.2771993\ttotal: 2.57s\tremaining: 5.77s\n",
      "308:\tlearn: 0.2771517\ttotal: 2.58s\tremaining: 5.76s\n",
      "309:\tlearn: 0.2770637\ttotal: 2.59s\tremaining: 5.76s\n",
      "310:\tlearn: 0.2769869\ttotal: 2.6s\tremaining: 5.75s\n",
      "311:\tlearn: 0.2769470\ttotal: 2.6s\tremaining: 5.74s\n",
      "312:\tlearn: 0.2768664\ttotal: 2.61s\tremaining: 5.74s\n",
      "313:\tlearn: 0.2767852\ttotal: 2.62s\tremaining: 5.73s\n",
      "314:\tlearn: 0.2767127\ttotal: 2.63s\tremaining: 5.73s\n",
      "315:\tlearn: 0.2766498\ttotal: 2.64s\tremaining: 5.72s\n",
      "316:\tlearn: 0.2765719\ttotal: 2.65s\tremaining: 5.71s\n",
      "317:\tlearn: 0.2764901\ttotal: 2.67s\tremaining: 5.71s\n",
      "318:\tlearn: 0.2764149\ttotal: 2.67s\tremaining: 5.71s\n",
      "319:\tlearn: 0.2763614\ttotal: 2.69s\tremaining: 5.71s\n",
      "320:\tlearn: 0.2763021\ttotal: 2.7s\tremaining: 5.71s\n",
      "321:\tlearn: 0.2762483\ttotal: 2.71s\tremaining: 5.7s\n",
      "322:\tlearn: 0.2762128\ttotal: 2.72s\tremaining: 5.7s\n",
      "323:\tlearn: 0.2761347\ttotal: 2.73s\tremaining: 5.7s\n",
      "324:\tlearn: 0.2760785\ttotal: 2.74s\tremaining: 5.69s\n",
      "325:\tlearn: 0.2760168\ttotal: 2.75s\tremaining: 5.68s\n",
      "326:\tlearn: 0.2757695\ttotal: 2.76s\tremaining: 5.68s\n",
      "327:\tlearn: 0.2756930\ttotal: 2.77s\tremaining: 5.68s\n",
      "328:\tlearn: 0.2755262\ttotal: 2.78s\tremaining: 5.67s\n",
      "329:\tlearn: 0.2753014\ttotal: 2.79s\tremaining: 5.67s\n",
      "330:\tlearn: 0.2752552\ttotal: 2.81s\tremaining: 5.67s\n",
      "331:\tlearn: 0.2752168\ttotal: 2.81s\tremaining: 5.67s\n",
      "332:\tlearn: 0.2751635\ttotal: 2.83s\tremaining: 5.66s\n",
      "333:\tlearn: 0.2751066\ttotal: 2.83s\tremaining: 5.65s\n",
      "334:\tlearn: 0.2750345\ttotal: 2.85s\tremaining: 5.65s\n",
      "335:\tlearn: 0.2749703\ttotal: 2.86s\tremaining: 5.65s\n",
      "336:\tlearn: 0.2749037\ttotal: 2.87s\tremaining: 5.64s\n",
      "337:\tlearn: 0.2748478\ttotal: 2.88s\tremaining: 5.64s\n",
      "338:\tlearn: 0.2748029\ttotal: 2.89s\tremaining: 5.63s\n",
      "339:\tlearn: 0.2746142\ttotal: 2.9s\tremaining: 5.62s\n",
      "340:\tlearn: 0.2745760\ttotal: 2.91s\tremaining: 5.62s\n",
      "341:\tlearn: 0.2744770\ttotal: 2.92s\tremaining: 5.61s\n",
      "342:\tlearn: 0.2744067\ttotal: 2.93s\tremaining: 5.61s\n",
      "343:\tlearn: 0.2743513\ttotal: 2.94s\tremaining: 5.6s\n",
      "344:\tlearn: 0.2742831\ttotal: 2.95s\tremaining: 5.6s\n",
      "345:\tlearn: 0.2742117\ttotal: 2.96s\tremaining: 5.59s\n",
      "346:\tlearn: 0.2741632\ttotal: 2.97s\tremaining: 5.59s\n",
      "347:\tlearn: 0.2741215\ttotal: 2.98s\tremaining: 5.58s\n",
      "348:\tlearn: 0.2740900\ttotal: 2.99s\tremaining: 5.57s\n",
      "349:\tlearn: 0.2740314\ttotal: 3s\tremaining: 5.57s\n",
      "350:\tlearn: 0.2739761\ttotal: 3.01s\tremaining: 5.57s\n",
      "351:\tlearn: 0.2739499\ttotal: 3.02s\tremaining: 5.56s\n",
      "352:\tlearn: 0.2738769\ttotal: 3.03s\tremaining: 5.56s\n",
      "353:\tlearn: 0.2738172\ttotal: 3.04s\tremaining: 5.55s\n",
      "354:\tlearn: 0.2737698\ttotal: 3.05s\tremaining: 5.55s\n",
      "355:\tlearn: 0.2737122\ttotal: 3.07s\tremaining: 5.55s\n",
      "356:\tlearn: 0.2736498\ttotal: 3.08s\tremaining: 5.54s\n",
      "357:\tlearn: 0.2735776\ttotal: 3.09s\tremaining: 5.54s\n",
      "358:\tlearn: 0.2735613\ttotal: 3.1s\tremaining: 5.54s\n",
      "359:\tlearn: 0.2735092\ttotal: 3.11s\tremaining: 5.53s\n",
      "360:\tlearn: 0.2734525\ttotal: 3.12s\tremaining: 5.53s\n",
      "361:\tlearn: 0.2733654\ttotal: 3.13s\tremaining: 5.52s\n",
      "362:\tlearn: 0.2733259\ttotal: 3.14s\tremaining: 5.51s\n",
      "363:\tlearn: 0.2731732\ttotal: 3.15s\tremaining: 5.51s\n",
      "364:\tlearn: 0.2731093\ttotal: 3.16s\tremaining: 5.5s\n",
      "365:\tlearn: 0.2730568\ttotal: 3.17s\tremaining: 5.5s\n",
      "366:\tlearn: 0.2729877\ttotal: 3.19s\tremaining: 5.5s\n",
      "367:\tlearn: 0.2729396\ttotal: 3.2s\tremaining: 5.49s\n",
      "368:\tlearn: 0.2728574\ttotal: 3.21s\tremaining: 5.49s\n",
      "369:\tlearn: 0.2728245\ttotal: 3.22s\tremaining: 5.48s\n",
      "370:\tlearn: 0.2727754\ttotal: 3.23s\tremaining: 5.47s\n",
      "371:\tlearn: 0.2727246\ttotal: 3.24s\tremaining: 5.47s\n",
      "372:\tlearn: 0.2726835\ttotal: 3.25s\tremaining: 5.47s\n",
      "373:\tlearn: 0.2725984\ttotal: 3.26s\tremaining: 5.46s\n",
      "374:\tlearn: 0.2725491\ttotal: 3.27s\tremaining: 5.45s\n",
      "375:\tlearn: 0.2724959\ttotal: 3.28s\tremaining: 5.45s\n",
      "376:\tlearn: 0.2724483\ttotal: 3.29s\tremaining: 5.44s\n",
      "377:\tlearn: 0.2723529\ttotal: 3.3s\tremaining: 5.43s\n",
      "378:\tlearn: 0.2722977\ttotal: 3.31s\tremaining: 5.42s\n",
      "379:\tlearn: 0.2722495\ttotal: 3.32s\tremaining: 5.42s\n",
      "380:\tlearn: 0.2721911\ttotal: 3.33s\tremaining: 5.41s\n",
      "381:\tlearn: 0.2721514\ttotal: 3.34s\tremaining: 5.4s\n",
      "382:\tlearn: 0.2721004\ttotal: 3.35s\tremaining: 5.39s\n",
      "383:\tlearn: 0.2720528\ttotal: 3.35s\tremaining: 5.38s\n",
      "384:\tlearn: 0.2720085\ttotal: 3.36s\tremaining: 5.37s\n",
      "385:\tlearn: 0.2719302\ttotal: 3.37s\tremaining: 5.36s\n",
      "386:\tlearn: 0.2719035\ttotal: 3.38s\tremaining: 5.35s\n",
      "387:\tlearn: 0.2718820\ttotal: 3.39s\tremaining: 5.35s\n",
      "388:\tlearn: 0.2717487\ttotal: 3.4s\tremaining: 5.34s\n",
      "389:\tlearn: 0.2716812\ttotal: 3.41s\tremaining: 5.33s\n",
      "390:\tlearn: 0.2715809\ttotal: 3.42s\tremaining: 5.33s\n",
      "391:\tlearn: 0.2715468\ttotal: 3.43s\tremaining: 5.32s\n",
      "392:\tlearn: 0.2715026\ttotal: 3.44s\tremaining: 5.31s\n",
      "393:\tlearn: 0.2714378\ttotal: 3.45s\tremaining: 5.3s\n",
      "394:\tlearn: 0.2713794\ttotal: 3.46s\tremaining: 5.29s\n",
      "395:\tlearn: 0.2713162\ttotal: 3.46s\tremaining: 5.29s\n",
      "396:\tlearn: 0.2712928\ttotal: 3.47s\tremaining: 5.28s\n",
      "397:\tlearn: 0.2711954\ttotal: 3.48s\tremaining: 5.27s\n",
      "398:\tlearn: 0.2711341\ttotal: 3.49s\tremaining: 5.26s\n",
      "399:\tlearn: 0.2710761\ttotal: 3.5s\tremaining: 5.25s\n",
      "400:\tlearn: 0.2709595\ttotal: 3.51s\tremaining: 5.25s\n",
      "401:\tlearn: 0.2709259\ttotal: 3.52s\tremaining: 5.24s\n",
      "402:\tlearn: 0.2708854\ttotal: 3.53s\tremaining: 5.23s\n",
      "403:\tlearn: 0.2708415\ttotal: 3.54s\tremaining: 5.22s\n",
      "404:\tlearn: 0.2708013\ttotal: 3.55s\tremaining: 5.21s\n",
      "405:\tlearn: 0.2707152\ttotal: 3.56s\tremaining: 5.2s\n",
      "406:\tlearn: 0.2706273\ttotal: 3.57s\tremaining: 5.2s\n",
      "407:\tlearn: 0.2705747\ttotal: 3.58s\tremaining: 5.19s\n",
      "408:\tlearn: 0.2704902\ttotal: 3.59s\tremaining: 5.18s\n",
      "409:\tlearn: 0.2704397\ttotal: 3.6s\tremaining: 5.18s\n",
      "410:\tlearn: 0.2703573\ttotal: 3.61s\tremaining: 5.17s\n",
      "411:\tlearn: 0.2703052\ttotal: 3.62s\tremaining: 5.17s\n",
      "412:\tlearn: 0.2702492\ttotal: 3.63s\tremaining: 5.16s\n",
      "413:\tlearn: 0.2701972\ttotal: 3.64s\tremaining: 5.15s\n",
      "414:\tlearn: 0.2701515\ttotal: 3.65s\tremaining: 5.14s\n",
      "415:\tlearn: 0.2701034\ttotal: 3.66s\tremaining: 5.14s\n",
      "416:\tlearn: 0.2700766\ttotal: 3.67s\tremaining: 5.13s\n",
      "417:\tlearn: 0.2700341\ttotal: 3.68s\tremaining: 5.12s\n",
      "418:\tlearn: 0.2699830\ttotal: 3.69s\tremaining: 5.11s\n",
      "419:\tlearn: 0.2699507\ttotal: 3.7s\tremaining: 5.11s\n",
      "420:\tlearn: 0.2699034\ttotal: 3.71s\tremaining: 5.1s\n",
      "421:\tlearn: 0.2698382\ttotal: 3.71s\tremaining: 5.09s\n",
      "422:\tlearn: 0.2697865\ttotal: 3.72s\tremaining: 5.08s\n",
      "423:\tlearn: 0.2697404\ttotal: 3.73s\tremaining: 5.07s\n",
      "424:\tlearn: 0.2697144\ttotal: 3.74s\tremaining: 5.06s\n",
      "425:\tlearn: 0.2696613\ttotal: 3.75s\tremaining: 5.06s\n",
      "426:\tlearn: 0.2696274\ttotal: 3.76s\tremaining: 5.05s\n",
      "427:\tlearn: 0.2696034\ttotal: 3.77s\tremaining: 5.04s\n",
      "428:\tlearn: 0.2695561\ttotal: 3.78s\tremaining: 5.03s\n",
      "429:\tlearn: 0.2694874\ttotal: 3.79s\tremaining: 5.02s\n",
      "430:\tlearn: 0.2694464\ttotal: 3.8s\tremaining: 5.02s\n",
      "431:\tlearn: 0.2694285\ttotal: 3.81s\tremaining: 5.01s\n",
      "432:\tlearn: 0.2693893\ttotal: 3.82s\tremaining: 5s\n",
      "433:\tlearn: 0.2693409\ttotal: 3.83s\tremaining: 5s\n",
      "434:\tlearn: 0.2692874\ttotal: 3.84s\tremaining: 4.99s\n",
      "435:\tlearn: 0.2692537\ttotal: 3.85s\tremaining: 4.98s\n",
      "436:\tlearn: 0.2692282\ttotal: 3.86s\tremaining: 4.97s\n",
      "437:\tlearn: 0.2692049\ttotal: 3.87s\tremaining: 4.96s\n",
      "438:\tlearn: 0.2691456\ttotal: 3.88s\tremaining: 4.95s\n",
      "439:\tlearn: 0.2691001\ttotal: 3.88s\tremaining: 4.95s\n",
      "440:\tlearn: 0.2690652\ttotal: 3.89s\tremaining: 4.94s\n",
      "441:\tlearn: 0.2689872\ttotal: 3.9s\tremaining: 4.93s\n",
      "442:\tlearn: 0.2689150\ttotal: 3.91s\tremaining: 4.92s\n",
      "443:\tlearn: 0.2688638\ttotal: 3.92s\tremaining: 4.91s\n",
      "444:\tlearn: 0.2688179\ttotal: 3.93s\tremaining: 4.91s\n",
      "445:\tlearn: 0.2687722\ttotal: 3.94s\tremaining: 4.9s\n",
      "446:\tlearn: 0.2687521\ttotal: 3.95s\tremaining: 4.89s\n",
      "447:\tlearn: 0.2687105\ttotal: 3.96s\tremaining: 4.88s\n",
      "448:\tlearn: 0.2686466\ttotal: 3.97s\tremaining: 4.88s\n",
      "449:\tlearn: 0.2686121\ttotal: 3.98s\tremaining: 4.87s\n",
      "450:\tlearn: 0.2685701\ttotal: 4s\tremaining: 4.86s\n",
      "451:\tlearn: 0.2685258\ttotal: 4s\tremaining: 4.86s\n",
      "452:\tlearn: 0.2684900\ttotal: 4.01s\tremaining: 4.84s\n",
      "453:\tlearn: 0.2684595\ttotal: 4.02s\tremaining: 4.84s\n",
      "454:\tlearn: 0.2683957\ttotal: 4.03s\tremaining: 4.83s\n",
      "455:\tlearn: 0.2683433\ttotal: 4.04s\tremaining: 4.82s\n",
      "456:\tlearn: 0.2682835\ttotal: 4.04s\tremaining: 4.81s\n",
      "457:\tlearn: 0.2682258\ttotal: 4.05s\tremaining: 4.8s\n",
      "458:\tlearn: 0.2681785\ttotal: 4.06s\tremaining: 4.79s\n",
      "459:\tlearn: 0.2681282\ttotal: 4.07s\tremaining: 4.78s\n",
      "460:\tlearn: 0.2680748\ttotal: 4.08s\tremaining: 4.77s\n",
      "461:\tlearn: 0.2680523\ttotal: 4.09s\tremaining: 4.76s\n",
      "462:\tlearn: 0.2679857\ttotal: 4.1s\tremaining: 4.75s\n",
      "463:\tlearn: 0.2679486\ttotal: 4.11s\tremaining: 4.74s\n",
      "464:\tlearn: 0.2679243\ttotal: 4.11s\tremaining: 4.73s\n",
      "465:\tlearn: 0.2678845\ttotal: 4.12s\tremaining: 4.72s\n",
      "466:\tlearn: 0.2678251\ttotal: 4.13s\tremaining: 4.71s\n",
      "467:\tlearn: 0.2677727\ttotal: 4.14s\tremaining: 4.71s\n",
      "468:\tlearn: 0.2677162\ttotal: 4.15s\tremaining: 4.7s\n",
      "469:\tlearn: 0.2676603\ttotal: 4.16s\tremaining: 4.69s\n",
      "470:\tlearn: 0.2676168\ttotal: 4.17s\tremaining: 4.68s\n",
      "471:\tlearn: 0.2675710\ttotal: 4.18s\tremaining: 4.68s\n",
      "472:\tlearn: 0.2675538\ttotal: 4.19s\tremaining: 4.67s\n",
      "473:\tlearn: 0.2675050\ttotal: 4.2s\tremaining: 4.66s\n",
      "474:\tlearn: 0.2674493\ttotal: 4.21s\tremaining: 4.65s\n",
      "475:\tlearn: 0.2674014\ttotal: 4.21s\tremaining: 4.64s\n",
      "476:\tlearn: 0.2673645\ttotal: 4.22s\tremaining: 4.63s\n",
      "477:\tlearn: 0.2673430\ttotal: 4.23s\tremaining: 4.62s\n",
      "478:\tlearn: 0.2673019\ttotal: 4.24s\tremaining: 4.61s\n",
      "479:\tlearn: 0.2672596\ttotal: 4.25s\tremaining: 4.6s\n",
      "480:\tlearn: 0.2672164\ttotal: 4.26s\tremaining: 4.59s\n",
      "481:\tlearn: 0.2671174\ttotal: 4.26s\tremaining: 4.58s\n",
      "482:\tlearn: 0.2670846\ttotal: 4.27s\tremaining: 4.57s\n",
      "483:\tlearn: 0.2670466\ttotal: 4.28s\tremaining: 4.56s\n",
      "484:\tlearn: 0.2669896\ttotal: 4.29s\tremaining: 4.55s\n",
      "485:\tlearn: 0.2669443\ttotal: 4.3s\tremaining: 4.54s\n",
      "486:\tlearn: 0.2669073\ttotal: 4.31s\tremaining: 4.54s\n",
      "487:\tlearn: 0.2668873\ttotal: 4.32s\tremaining: 4.53s\n",
      "488:\tlearn: 0.2668354\ttotal: 4.33s\tremaining: 4.52s\n",
      "489:\tlearn: 0.2667957\ttotal: 4.34s\tremaining: 4.51s\n",
      "490:\tlearn: 0.2667759\ttotal: 4.35s\tremaining: 4.51s\n",
      "491:\tlearn: 0.2666649\ttotal: 4.39s\tremaining: 4.53s\n",
      "492:\tlearn: 0.2666350\ttotal: 4.4s\tremaining: 4.52s\n",
      "493:\tlearn: 0.2666147\ttotal: 4.41s\tremaining: 4.52s\n",
      "494:\tlearn: 0.2665687\ttotal: 4.43s\tremaining: 4.52s\n",
      "495:\tlearn: 0.2665195\ttotal: 4.44s\tremaining: 4.51s\n",
      "496:\tlearn: 0.2664777\ttotal: 4.45s\tremaining: 4.5s\n",
      "497:\tlearn: 0.2664125\ttotal: 4.46s\tremaining: 4.49s\n",
      "498:\tlearn: 0.2663554\ttotal: 4.46s\tremaining: 4.48s\n",
      "499:\tlearn: 0.2663182\ttotal: 4.47s\tremaining: 4.47s\n",
      "500:\tlearn: 0.2662667\ttotal: 4.48s\tremaining: 4.46s\n",
      "501:\tlearn: 0.2662219\ttotal: 4.49s\tremaining: 4.45s\n",
      "502:\tlearn: 0.2661825\ttotal: 4.5s\tremaining: 4.44s\n",
      "503:\tlearn: 0.2661193\ttotal: 4.51s\tremaining: 4.43s\n",
      "504:\tlearn: 0.2660725\ttotal: 4.51s\tremaining: 4.42s\n",
      "505:\tlearn: 0.2660315\ttotal: 4.52s\tremaining: 4.42s\n",
      "506:\tlearn: 0.2660241\ttotal: 4.53s\tremaining: 4.41s\n",
      "507:\tlearn: 0.2659850\ttotal: 4.54s\tremaining: 4.4s\n",
      "508:\tlearn: 0.2659420\ttotal: 4.55s\tremaining: 4.39s\n",
      "509:\tlearn: 0.2659012\ttotal: 4.56s\tremaining: 4.38s\n",
      "510:\tlearn: 0.2658677\ttotal: 4.57s\tremaining: 4.37s\n",
      "511:\tlearn: 0.2658296\ttotal: 4.57s\tremaining: 4.36s\n",
      "512:\tlearn: 0.2658201\ttotal: 4.58s\tremaining: 4.35s\n",
      "513:\tlearn: 0.2657711\ttotal: 4.59s\tremaining: 4.34s\n",
      "514:\tlearn: 0.2657535\ttotal: 4.6s\tremaining: 4.33s\n",
      "515:\tlearn: 0.2657240\ttotal: 4.6s\tremaining: 4.32s\n",
      "516:\tlearn: 0.2656882\ttotal: 4.61s\tremaining: 4.31s\n",
      "517:\tlearn: 0.2656650\ttotal: 4.62s\tremaining: 4.3s\n",
      "518:\tlearn: 0.2656218\ttotal: 4.63s\tremaining: 4.29s\n",
      "519:\tlearn: 0.2655691\ttotal: 4.64s\tremaining: 4.28s\n",
      "520:\tlearn: 0.2655253\ttotal: 4.64s\tremaining: 4.27s\n",
      "521:\tlearn: 0.2654847\ttotal: 4.65s\tremaining: 4.26s\n",
      "522:\tlearn: 0.2654192\ttotal: 4.66s\tremaining: 4.25s\n",
      "523:\tlearn: 0.2654002\ttotal: 4.67s\tremaining: 4.24s\n",
      "524:\tlearn: 0.2653677\ttotal: 4.68s\tremaining: 4.23s\n",
      "525:\tlearn: 0.2653244\ttotal: 4.69s\tremaining: 4.22s\n",
      "526:\tlearn: 0.2652875\ttotal: 4.7s\tremaining: 4.21s\n",
      "527:\tlearn: 0.2652485\ttotal: 4.71s\tremaining: 4.21s\n",
      "528:\tlearn: 0.2652212\ttotal: 4.72s\tremaining: 4.2s\n",
      "529:\tlearn: 0.2651721\ttotal: 4.73s\tremaining: 4.19s\n",
      "530:\tlearn: 0.2651411\ttotal: 4.73s\tremaining: 4.18s\n",
      "531:\tlearn: 0.2651115\ttotal: 4.74s\tremaining: 4.17s\n",
      "532:\tlearn: 0.2650947\ttotal: 4.75s\tremaining: 4.16s\n",
      "533:\tlearn: 0.2650373\ttotal: 4.76s\tremaining: 4.15s\n",
      "534:\tlearn: 0.2650015\ttotal: 4.77s\tremaining: 4.14s\n",
      "535:\tlearn: 0.2649601\ttotal: 4.78s\tremaining: 4.13s\n",
      "536:\tlearn: 0.2649153\ttotal: 4.79s\tremaining: 4.13s\n",
      "537:\tlearn: 0.2648840\ttotal: 4.79s\tremaining: 4.12s\n",
      "538:\tlearn: 0.2648194\ttotal: 4.8s\tremaining: 4.11s\n",
      "539:\tlearn: 0.2647914\ttotal: 4.81s\tremaining: 4.1s\n",
      "540:\tlearn: 0.2647294\ttotal: 4.82s\tremaining: 4.09s\n",
      "541:\tlearn: 0.2647040\ttotal: 4.83s\tremaining: 4.08s\n",
      "542:\tlearn: 0.2646588\ttotal: 4.83s\tremaining: 4.07s\n",
      "543:\tlearn: 0.2646116\ttotal: 4.84s\tremaining: 4.06s\n",
      "544:\tlearn: 0.2645839\ttotal: 4.85s\tremaining: 4.05s\n",
      "545:\tlearn: 0.2645435\ttotal: 4.86s\tremaining: 4.04s\n",
      "546:\tlearn: 0.2645072\ttotal: 4.87s\tremaining: 4.04s\n",
      "547:\tlearn: 0.2644876\ttotal: 4.88s\tremaining: 4.03s\n",
      "548:\tlearn: 0.2644546\ttotal: 4.89s\tremaining: 4.02s\n",
      "549:\tlearn: 0.2644370\ttotal: 4.9s\tremaining: 4.01s\n",
      "550:\tlearn: 0.2643969\ttotal: 4.91s\tremaining: 4s\n",
      "551:\tlearn: 0.2643842\ttotal: 4.92s\tremaining: 4s\n",
      "552:\tlearn: 0.2643334\ttotal: 4.95s\tremaining: 4s\n",
      "553:\tlearn: 0.2642990\ttotal: 4.96s\tremaining: 3.99s\n",
      "554:\tlearn: 0.2642446\ttotal: 4.97s\tremaining: 3.98s\n",
      "555:\tlearn: 0.2641879\ttotal: 4.97s\tremaining: 3.97s\n",
      "556:\tlearn: 0.2641539\ttotal: 4.98s\tremaining: 3.96s\n",
      "557:\tlearn: 0.2641198\ttotal: 4.99s\tremaining: 3.95s\n",
      "558:\tlearn: 0.2640841\ttotal: 5s\tremaining: 3.94s\n",
      "559:\tlearn: 0.2640610\ttotal: 5.01s\tremaining: 3.93s\n",
      "560:\tlearn: 0.2640361\ttotal: 5.02s\tremaining: 3.92s\n",
      "561:\tlearn: 0.2639808\ttotal: 5.02s\tremaining: 3.92s\n",
      "562:\tlearn: 0.2639500\ttotal: 5.03s\tremaining: 3.9s\n",
      "563:\tlearn: 0.2639383\ttotal: 5.04s\tremaining: 3.9s\n",
      "564:\tlearn: 0.2639079\ttotal: 5.05s\tremaining: 3.89s\n",
      "565:\tlearn: 0.2638623\ttotal: 5.06s\tremaining: 3.88s\n",
      "566:\tlearn: 0.2638447\ttotal: 5.07s\tremaining: 3.87s\n",
      "567:\tlearn: 0.2638043\ttotal: 5.08s\tremaining: 3.86s\n",
      "568:\tlearn: 0.2637678\ttotal: 5.08s\tremaining: 3.85s\n",
      "569:\tlearn: 0.2637296\ttotal: 5.09s\tremaining: 3.84s\n",
      "570:\tlearn: 0.2636880\ttotal: 5.1s\tremaining: 3.83s\n",
      "571:\tlearn: 0.2636536\ttotal: 5.11s\tremaining: 3.83s\n",
      "572:\tlearn: 0.2636052\ttotal: 5.12s\tremaining: 3.82s\n",
      "573:\tlearn: 0.2635596\ttotal: 5.13s\tremaining: 3.81s\n",
      "574:\tlearn: 0.2635238\ttotal: 5.14s\tremaining: 3.8s\n",
      "575:\tlearn: 0.2635102\ttotal: 5.15s\tremaining: 3.79s\n",
      "576:\tlearn: 0.2634665\ttotal: 5.16s\tremaining: 3.78s\n",
      "577:\tlearn: 0.2634289\ttotal: 5.17s\tremaining: 3.77s\n",
      "578:\tlearn: 0.2633547\ttotal: 5.17s\tremaining: 3.76s\n",
      "579:\tlearn: 0.2633225\ttotal: 5.18s\tremaining: 3.75s\n",
      "580:\tlearn: 0.2632805\ttotal: 5.19s\tremaining: 3.74s\n",
      "581:\tlearn: 0.2632537\ttotal: 5.2s\tremaining: 3.73s\n",
      "582:\tlearn: 0.2632176\ttotal: 5.21s\tremaining: 3.72s\n",
      "583:\tlearn: 0.2631858\ttotal: 5.21s\tremaining: 3.71s\n",
      "584:\tlearn: 0.2631354\ttotal: 5.22s\tremaining: 3.71s\n",
      "585:\tlearn: 0.2630629\ttotal: 5.23s\tremaining: 3.7s\n",
      "586:\tlearn: 0.2630304\ttotal: 5.24s\tremaining: 3.69s\n",
      "587:\tlearn: 0.2630040\ttotal: 5.25s\tremaining: 3.68s\n",
      "588:\tlearn: 0.2629836\ttotal: 5.26s\tremaining: 3.67s\n",
      "589:\tlearn: 0.2629762\ttotal: 5.27s\tremaining: 3.66s\n",
      "590:\tlearn: 0.2629379\ttotal: 5.28s\tremaining: 3.65s\n",
      "591:\tlearn: 0.2629285\ttotal: 5.29s\tremaining: 3.65s\n",
      "592:\tlearn: 0.2628945\ttotal: 5.3s\tremaining: 3.64s\n",
      "593:\tlearn: 0.2628735\ttotal: 5.31s\tremaining: 3.63s\n",
      "594:\tlearn: 0.2628184\ttotal: 5.32s\tremaining: 3.62s\n",
      "595:\tlearn: 0.2627867\ttotal: 5.33s\tremaining: 3.61s\n",
      "596:\tlearn: 0.2627771\ttotal: 5.33s\tremaining: 3.6s\n",
      "597:\tlearn: 0.2627209\ttotal: 5.34s\tremaining: 3.59s\n",
      "598:\tlearn: 0.2626824\ttotal: 5.35s\tremaining: 3.58s\n",
      "599:\tlearn: 0.2626641\ttotal: 5.36s\tremaining: 3.57s\n",
      "600:\tlearn: 0.2626359\ttotal: 5.37s\tremaining: 3.56s\n",
      "601:\tlearn: 0.2625752\ttotal: 5.38s\tremaining: 3.56s\n",
      "602:\tlearn: 0.2625289\ttotal: 5.39s\tremaining: 3.55s\n",
      "603:\tlearn: 0.2624972\ttotal: 5.4s\tremaining: 3.54s\n",
      "604:\tlearn: 0.2624524\ttotal: 5.4s\tremaining: 3.53s\n",
      "605:\tlearn: 0.2624218\ttotal: 5.41s\tremaining: 3.52s\n",
      "606:\tlearn: 0.2624062\ttotal: 5.42s\tremaining: 3.51s\n",
      "607:\tlearn: 0.2623602\ttotal: 5.43s\tremaining: 3.5s\n",
      "608:\tlearn: 0.2623143\ttotal: 5.44s\tremaining: 3.49s\n",
      "609:\tlearn: 0.2622961\ttotal: 5.45s\tremaining: 3.48s\n",
      "610:\tlearn: 0.2622788\ttotal: 5.46s\tremaining: 3.47s\n",
      "611:\tlearn: 0.2622489\ttotal: 5.46s\tremaining: 3.46s\n",
      "612:\tlearn: 0.2622178\ttotal: 5.47s\tremaining: 3.46s\n",
      "613:\tlearn: 0.2621666\ttotal: 5.49s\tremaining: 3.45s\n",
      "614:\tlearn: 0.2621453\ttotal: 5.49s\tremaining: 3.44s\n",
      "615:\tlearn: 0.2621299\ttotal: 5.5s\tremaining: 3.43s\n",
      "616:\tlearn: 0.2621252\ttotal: 5.51s\tremaining: 3.42s\n",
      "617:\tlearn: 0.2620934\ttotal: 5.52s\tremaining: 3.41s\n",
      "618:\tlearn: 0.2620535\ttotal: 5.53s\tremaining: 3.4s\n",
      "619:\tlearn: 0.2620390\ttotal: 5.54s\tremaining: 3.39s\n",
      "620:\tlearn: 0.2620139\ttotal: 5.54s\tremaining: 3.38s\n",
      "621:\tlearn: 0.2619831\ttotal: 5.55s\tremaining: 3.38s\n",
      "622:\tlearn: 0.2619337\ttotal: 5.56s\tremaining: 3.37s\n",
      "623:\tlearn: 0.2619035\ttotal: 5.57s\tremaining: 3.36s\n",
      "624:\tlearn: 0.2618936\ttotal: 5.58s\tremaining: 3.35s\n",
      "625:\tlearn: 0.2618557\ttotal: 5.59s\tremaining: 3.34s\n",
      "626:\tlearn: 0.2618183\ttotal: 5.6s\tremaining: 3.33s\n",
      "627:\tlearn: 0.2617989\ttotal: 5.6s\tremaining: 3.32s\n",
      "628:\tlearn: 0.2617521\ttotal: 5.61s\tremaining: 3.31s\n",
      "629:\tlearn: 0.2617307\ttotal: 5.62s\tremaining: 3.3s\n",
      "630:\tlearn: 0.2616724\ttotal: 5.63s\tremaining: 3.29s\n",
      "631:\tlearn: 0.2616604\ttotal: 5.64s\tremaining: 3.28s\n",
      "632:\tlearn: 0.2616480\ttotal: 5.65s\tremaining: 3.27s\n",
      "633:\tlearn: 0.2615898\ttotal: 5.66s\tremaining: 3.27s\n",
      "634:\tlearn: 0.2615593\ttotal: 5.67s\tremaining: 3.26s\n",
      "635:\tlearn: 0.2615181\ttotal: 5.68s\tremaining: 3.25s\n",
      "636:\tlearn: 0.2614828\ttotal: 5.69s\tremaining: 3.24s\n",
      "637:\tlearn: 0.2614628\ttotal: 5.7s\tremaining: 3.23s\n",
      "638:\tlearn: 0.2614566\ttotal: 5.71s\tremaining: 3.22s\n",
      "639:\tlearn: 0.2614228\ttotal: 5.71s\tremaining: 3.21s\n",
      "640:\tlearn: 0.2613873\ttotal: 5.72s\tremaining: 3.21s\n",
      "641:\tlearn: 0.2613409\ttotal: 5.73s\tremaining: 3.19s\n",
      "642:\tlearn: 0.2613003\ttotal: 5.74s\tremaining: 3.19s\n",
      "643:\tlearn: 0.2612516\ttotal: 5.75s\tremaining: 3.18s\n",
      "644:\tlearn: 0.2612250\ttotal: 5.75s\tremaining: 3.17s\n",
      "645:\tlearn: 0.2611967\ttotal: 5.76s\tremaining: 3.16s\n",
      "646:\tlearn: 0.2611833\ttotal: 5.77s\tremaining: 3.15s\n",
      "647:\tlearn: 0.2611230\ttotal: 5.78s\tremaining: 3.14s\n",
      "648:\tlearn: 0.2611137\ttotal: 5.79s\tremaining: 3.13s\n",
      "649:\tlearn: 0.2610918\ttotal: 5.8s\tremaining: 3.12s\n",
      "650:\tlearn: 0.2610600\ttotal: 5.8s\tremaining: 3.11s\n",
      "651:\tlearn: 0.2610210\ttotal: 5.81s\tremaining: 3.1s\n",
      "652:\tlearn: 0.2609900\ttotal: 5.82s\tremaining: 3.09s\n",
      "653:\tlearn: 0.2609626\ttotal: 5.83s\tremaining: 3.08s\n",
      "654:\tlearn: 0.2609375\ttotal: 5.84s\tremaining: 3.08s\n",
      "655:\tlearn: 0.2608956\ttotal: 5.85s\tremaining: 3.07s\n",
      "656:\tlearn: 0.2608516\ttotal: 5.86s\tremaining: 3.06s\n",
      "657:\tlearn: 0.2608159\ttotal: 5.87s\tremaining: 3.05s\n",
      "658:\tlearn: 0.2607839\ttotal: 5.88s\tremaining: 3.04s\n",
      "659:\tlearn: 0.2607645\ttotal: 5.89s\tremaining: 3.03s\n",
      "660:\tlearn: 0.2607264\ttotal: 5.9s\tremaining: 3.02s\n",
      "661:\tlearn: 0.2606945\ttotal: 5.91s\tremaining: 3.02s\n",
      "662:\tlearn: 0.2606580\ttotal: 5.92s\tremaining: 3.01s\n",
      "663:\tlearn: 0.2606142\ttotal: 5.93s\tremaining: 3s\n",
      "664:\tlearn: 0.2605910\ttotal: 5.94s\tremaining: 2.99s\n",
      "665:\tlearn: 0.2605575\ttotal: 5.95s\tremaining: 2.98s\n",
      "666:\tlearn: 0.2605336\ttotal: 5.96s\tremaining: 2.97s\n",
      "667:\tlearn: 0.2604951\ttotal: 5.97s\tremaining: 2.96s\n",
      "668:\tlearn: 0.2604733\ttotal: 5.98s\tremaining: 2.96s\n",
      "669:\tlearn: 0.2604111\ttotal: 5.99s\tremaining: 2.95s\n",
      "670:\tlearn: 0.2603946\ttotal: 6s\tremaining: 2.94s\n",
      "671:\tlearn: 0.2603750\ttotal: 6.01s\tremaining: 2.93s\n",
      "672:\tlearn: 0.2603650\ttotal: 6.02s\tremaining: 2.92s\n",
      "673:\tlearn: 0.2603453\ttotal: 6.03s\tremaining: 2.92s\n",
      "674:\tlearn: 0.2603085\ttotal: 6.04s\tremaining: 2.91s\n",
      "675:\tlearn: 0.2602856\ttotal: 6.05s\tremaining: 2.9s\n",
      "676:\tlearn: 0.2602576\ttotal: 6.06s\tremaining: 2.89s\n",
      "677:\tlearn: 0.2602372\ttotal: 6.07s\tremaining: 2.88s\n",
      "678:\tlearn: 0.2602020\ttotal: 6.07s\tremaining: 2.87s\n",
      "679:\tlearn: 0.2601621\ttotal: 6.08s\tremaining: 2.86s\n",
      "680:\tlearn: 0.2601328\ttotal: 6.09s\tremaining: 2.85s\n",
      "681:\tlearn: 0.2601001\ttotal: 6.09s\tremaining: 2.84s\n",
      "682:\tlearn: 0.2600756\ttotal: 6.1s\tremaining: 2.83s\n",
      "683:\tlearn: 0.2600186\ttotal: 6.11s\tremaining: 2.82s\n",
      "684:\tlearn: 0.2599664\ttotal: 6.12s\tremaining: 2.81s\n",
      "685:\tlearn: 0.2598743\ttotal: 6.12s\tremaining: 2.8s\n",
      "686:\tlearn: 0.2598481\ttotal: 6.13s\tremaining: 2.79s\n",
      "687:\tlearn: 0.2598165\ttotal: 6.13s\tremaining: 2.78s\n",
      "688:\tlearn: 0.2598012\ttotal: 6.14s\tremaining: 2.77s\n",
      "689:\tlearn: 0.2597861\ttotal: 6.15s\tremaining: 2.76s\n",
      "690:\tlearn: 0.2597703\ttotal: 6.15s\tremaining: 2.75s\n",
      "691:\tlearn: 0.2597570\ttotal: 6.16s\tremaining: 2.74s\n",
      "692:\tlearn: 0.2597428\ttotal: 6.17s\tremaining: 2.73s\n",
      "693:\tlearn: 0.2597038\ttotal: 6.17s\tremaining: 2.72s\n",
      "694:\tlearn: 0.2596676\ttotal: 6.18s\tremaining: 2.71s\n",
      "695:\tlearn: 0.2596419\ttotal: 6.19s\tremaining: 2.7s\n",
      "696:\tlearn: 0.2596179\ttotal: 6.2s\tremaining: 2.69s\n",
      "697:\tlearn: 0.2595777\ttotal: 6.2s\tremaining: 2.68s\n",
      "698:\tlearn: 0.2595427\ttotal: 6.21s\tremaining: 2.67s\n",
      "699:\tlearn: 0.2595335\ttotal: 6.22s\tremaining: 2.67s\n",
      "700:\tlearn: 0.2595093\ttotal: 6.23s\tremaining: 2.66s\n",
      "701:\tlearn: 0.2594998\ttotal: 6.24s\tremaining: 2.65s\n",
      "702:\tlearn: 0.2594672\ttotal: 6.25s\tremaining: 2.64s\n",
      "703:\tlearn: 0.2594316\ttotal: 6.25s\tremaining: 2.63s\n",
      "704:\tlearn: 0.2594005\ttotal: 6.26s\tremaining: 2.62s\n",
      "705:\tlearn: 0.2593816\ttotal: 6.27s\tremaining: 2.61s\n",
      "706:\tlearn: 0.2593416\ttotal: 6.27s\tremaining: 2.6s\n",
      "707:\tlearn: 0.2593175\ttotal: 6.28s\tremaining: 2.59s\n",
      "708:\tlearn: 0.2592391\ttotal: 6.29s\tremaining: 2.58s\n",
      "709:\tlearn: 0.2592176\ttotal: 6.29s\tremaining: 2.57s\n",
      "710:\tlearn: 0.2591945\ttotal: 6.3s\tremaining: 2.56s\n",
      "711:\tlearn: 0.2591532\ttotal: 6.31s\tremaining: 2.55s\n",
      "712:\tlearn: 0.2591269\ttotal: 6.31s\tremaining: 2.54s\n",
      "713:\tlearn: 0.2591145\ttotal: 6.32s\tremaining: 2.53s\n",
      "714:\tlearn: 0.2590778\ttotal: 6.33s\tremaining: 2.52s\n",
      "715:\tlearn: 0.2590432\ttotal: 6.33s\tremaining: 2.51s\n",
      "716:\tlearn: 0.2590184\ttotal: 6.34s\tremaining: 2.5s\n",
      "717:\tlearn: 0.2589855\ttotal: 6.35s\tremaining: 2.49s\n",
      "718:\tlearn: 0.2589495\ttotal: 6.36s\tremaining: 2.48s\n",
      "719:\tlearn: 0.2589084\ttotal: 6.36s\tremaining: 2.47s\n",
      "720:\tlearn: 0.2588521\ttotal: 6.37s\tremaining: 2.47s\n",
      "721:\tlearn: 0.2588205\ttotal: 6.38s\tremaining: 2.46s\n",
      "722:\tlearn: 0.2587869\ttotal: 6.39s\tremaining: 2.45s\n",
      "723:\tlearn: 0.2587589\ttotal: 6.4s\tremaining: 2.44s\n",
      "724:\tlearn: 0.2587518\ttotal: 6.4s\tremaining: 2.43s\n",
      "725:\tlearn: 0.2586800\ttotal: 6.41s\tremaining: 2.42s\n",
      "726:\tlearn: 0.2586447\ttotal: 6.42s\tremaining: 2.41s\n",
      "727:\tlearn: 0.2586260\ttotal: 6.43s\tremaining: 2.4s\n",
      "728:\tlearn: 0.2585805\ttotal: 6.44s\tremaining: 2.39s\n",
      "729:\tlearn: 0.2585562\ttotal: 6.44s\tremaining: 2.38s\n",
      "730:\tlearn: 0.2585251\ttotal: 6.45s\tremaining: 2.37s\n",
      "731:\tlearn: 0.2584556\ttotal: 6.46s\tremaining: 2.36s\n",
      "732:\tlearn: 0.2584184\ttotal: 6.46s\tremaining: 2.35s\n",
      "733:\tlearn: 0.2583995\ttotal: 6.47s\tremaining: 2.35s\n",
      "734:\tlearn: 0.2583679\ttotal: 6.48s\tremaining: 2.33s\n",
      "735:\tlearn: 0.2583345\ttotal: 6.48s\tremaining: 2.33s\n",
      "736:\tlearn: 0.2583075\ttotal: 6.49s\tremaining: 2.32s\n",
      "737:\tlearn: 0.2582797\ttotal: 6.5s\tremaining: 2.31s\n",
      "738:\tlearn: 0.2582641\ttotal: 6.5s\tremaining: 2.3s\n",
      "739:\tlearn: 0.2582330\ttotal: 6.51s\tremaining: 2.29s\n",
      "740:\tlearn: 0.2582012\ttotal: 6.52s\tremaining: 2.28s\n",
      "741:\tlearn: 0.2581854\ttotal: 6.53s\tremaining: 2.27s\n",
      "742:\tlearn: 0.2581222\ttotal: 6.53s\tremaining: 2.26s\n",
      "743:\tlearn: 0.2580793\ttotal: 6.54s\tremaining: 2.25s\n",
      "744:\tlearn: 0.2580693\ttotal: 6.54s\tremaining: 2.24s\n",
      "745:\tlearn: 0.2580386\ttotal: 6.55s\tremaining: 2.23s\n",
      "746:\tlearn: 0.2580088\ttotal: 6.56s\tremaining: 2.22s\n",
      "747:\tlearn: 0.2579810\ttotal: 6.57s\tremaining: 2.21s\n",
      "748:\tlearn: 0.2579382\ttotal: 6.57s\tremaining: 2.2s\n",
      "749:\tlearn: 0.2579327\ttotal: 6.58s\tremaining: 2.19s\n",
      "750:\tlearn: 0.2579211\ttotal: 6.59s\tremaining: 2.18s\n",
      "751:\tlearn: 0.2578828\ttotal: 6.6s\tremaining: 2.17s\n",
      "752:\tlearn: 0.2578610\ttotal: 6.61s\tremaining: 2.17s\n",
      "753:\tlearn: 0.2578450\ttotal: 6.62s\tremaining: 2.16s\n",
      "754:\tlearn: 0.2578275\ttotal: 6.62s\tremaining: 2.15s\n",
      "755:\tlearn: 0.2578050\ttotal: 6.63s\tremaining: 2.14s\n",
      "756:\tlearn: 0.2577870\ttotal: 6.64s\tremaining: 2.13s\n",
      "757:\tlearn: 0.2577583\ttotal: 6.64s\tremaining: 2.12s\n",
      "758:\tlearn: 0.2577160\ttotal: 6.65s\tremaining: 2.11s\n",
      "759:\tlearn: 0.2576820\ttotal: 6.66s\tremaining: 2.1s\n",
      "760:\tlearn: 0.2576442\ttotal: 6.66s\tremaining: 2.09s\n",
      "761:\tlearn: 0.2576209\ttotal: 6.67s\tremaining: 2.08s\n",
      "762:\tlearn: 0.2576061\ttotal: 6.68s\tremaining: 2.07s\n",
      "763:\tlearn: 0.2575541\ttotal: 6.68s\tremaining: 2.06s\n",
      "764:\tlearn: 0.2575355\ttotal: 6.69s\tremaining: 2.06s\n",
      "765:\tlearn: 0.2574997\ttotal: 6.7s\tremaining: 2.05s\n",
      "766:\tlearn: 0.2574708\ttotal: 6.71s\tremaining: 2.04s\n",
      "767:\tlearn: 0.2574484\ttotal: 6.71s\tremaining: 2.03s\n",
      "768:\tlearn: 0.2574299\ttotal: 6.72s\tremaining: 2.02s\n",
      "769:\tlearn: 0.2574010\ttotal: 6.73s\tremaining: 2.01s\n",
      "770:\tlearn: 0.2573684\ttotal: 6.73s\tremaining: 2s\n",
      "771:\tlearn: 0.2573455\ttotal: 6.74s\tremaining: 1.99s\n",
      "772:\tlearn: 0.2573371\ttotal: 6.75s\tremaining: 1.98s\n",
      "773:\tlearn: 0.2573051\ttotal: 6.76s\tremaining: 1.97s\n",
      "774:\tlearn: 0.2572723\ttotal: 6.76s\tremaining: 1.96s\n",
      "775:\tlearn: 0.2572673\ttotal: 6.77s\tremaining: 1.96s\n",
      "776:\tlearn: 0.2572540\ttotal: 6.78s\tremaining: 1.95s\n",
      "777:\tlearn: 0.2572022\ttotal: 6.79s\tremaining: 1.94s\n",
      "778:\tlearn: 0.2571860\ttotal: 6.8s\tremaining: 1.93s\n",
      "779:\tlearn: 0.2571345\ttotal: 6.81s\tremaining: 1.92s\n",
      "780:\tlearn: 0.2571158\ttotal: 6.81s\tremaining: 1.91s\n",
      "781:\tlearn: 0.2571012\ttotal: 6.82s\tremaining: 1.9s\n",
      "782:\tlearn: 0.2570733\ttotal: 6.83s\tremaining: 1.89s\n",
      "783:\tlearn: 0.2570380\ttotal: 6.83s\tremaining: 1.88s\n",
      "784:\tlearn: 0.2570042\ttotal: 6.84s\tremaining: 1.87s\n",
      "785:\tlearn: 0.2569844\ttotal: 6.85s\tremaining: 1.86s\n",
      "786:\tlearn: 0.2569594\ttotal: 6.86s\tremaining: 1.85s\n",
      "787:\tlearn: 0.2569370\ttotal: 6.86s\tremaining: 1.85s\n",
      "788:\tlearn: 0.2569200\ttotal: 6.87s\tremaining: 1.84s\n",
      "789:\tlearn: 0.2569036\ttotal: 6.88s\tremaining: 1.83s\n",
      "790:\tlearn: 0.2568618\ttotal: 6.88s\tremaining: 1.82s\n",
      "791:\tlearn: 0.2568261\ttotal: 6.89s\tremaining: 1.81s\n",
      "792:\tlearn: 0.2567984\ttotal: 6.9s\tremaining: 1.8s\n",
      "793:\tlearn: 0.2567895\ttotal: 6.9s\tremaining: 1.79s\n",
      "794:\tlearn: 0.2567395\ttotal: 6.91s\tremaining: 1.78s\n",
      "795:\tlearn: 0.2567114\ttotal: 6.92s\tremaining: 1.77s\n",
      "796:\tlearn: 0.2566765\ttotal: 6.92s\tremaining: 1.76s\n",
      "797:\tlearn: 0.2566414\ttotal: 6.93s\tremaining: 1.75s\n",
      "798:\tlearn: 0.2566147\ttotal: 6.94s\tremaining: 1.75s\n",
      "799:\tlearn: 0.2565735\ttotal: 6.95s\tremaining: 1.74s\n",
      "800:\tlearn: 0.2565602\ttotal: 6.96s\tremaining: 1.73s\n",
      "801:\tlearn: 0.2565217\ttotal: 6.96s\tremaining: 1.72s\n",
      "802:\tlearn: 0.2565040\ttotal: 6.97s\tremaining: 1.71s\n",
      "803:\tlearn: 0.2564573\ttotal: 6.98s\tremaining: 1.7s\n",
      "804:\tlearn: 0.2564331\ttotal: 6.99s\tremaining: 1.69s\n",
      "805:\tlearn: 0.2564085\ttotal: 6.99s\tremaining: 1.68s\n",
      "806:\tlearn: 0.2563552\ttotal: 7s\tremaining: 1.67s\n",
      "807:\tlearn: 0.2563286\ttotal: 7.01s\tremaining: 1.67s\n",
      "808:\tlearn: 0.2563068\ttotal: 7.01s\tremaining: 1.66s\n",
      "809:\tlearn: 0.2562690\ttotal: 7.02s\tremaining: 1.65s\n",
      "810:\tlearn: 0.2562603\ttotal: 7.03s\tremaining: 1.64s\n",
      "811:\tlearn: 0.2562556\ttotal: 7.04s\tremaining: 1.63s\n",
      "812:\tlearn: 0.2562292\ttotal: 7.04s\tremaining: 1.62s\n",
      "813:\tlearn: 0.2561991\ttotal: 7.05s\tremaining: 1.61s\n",
      "814:\tlearn: 0.2561732\ttotal: 7.05s\tremaining: 1.6s\n",
      "815:\tlearn: 0.2561416\ttotal: 7.06s\tremaining: 1.59s\n",
      "816:\tlearn: 0.2561252\ttotal: 7.07s\tremaining: 1.58s\n",
      "817:\tlearn: 0.2560996\ttotal: 7.08s\tremaining: 1.57s\n",
      "818:\tlearn: 0.2560748\ttotal: 7.08s\tremaining: 1.56s\n",
      "819:\tlearn: 0.2560643\ttotal: 7.09s\tremaining: 1.56s\n",
      "820:\tlearn: 0.2560388\ttotal: 7.09s\tremaining: 1.55s\n",
      "821:\tlearn: 0.2560188\ttotal: 7.1s\tremaining: 1.54s\n",
      "822:\tlearn: 0.2559950\ttotal: 7.11s\tremaining: 1.53s\n",
      "823:\tlearn: 0.2559680\ttotal: 7.12s\tremaining: 1.52s\n",
      "824:\tlearn: 0.2559446\ttotal: 7.13s\tremaining: 1.51s\n",
      "825:\tlearn: 0.2559315\ttotal: 7.14s\tremaining: 1.5s\n",
      "826:\tlearn: 0.2559159\ttotal: 7.14s\tremaining: 1.49s\n",
      "827:\tlearn: 0.2558817\ttotal: 7.15s\tremaining: 1.49s\n",
      "828:\tlearn: 0.2558508\ttotal: 7.16s\tremaining: 1.48s\n",
      "829:\tlearn: 0.2558411\ttotal: 7.17s\tremaining: 1.47s\n",
      "830:\tlearn: 0.2558049\ttotal: 7.18s\tremaining: 1.46s\n",
      "831:\tlearn: 0.2557812\ttotal: 7.18s\tremaining: 1.45s\n",
      "832:\tlearn: 0.2557722\ttotal: 7.19s\tremaining: 1.44s\n",
      "833:\tlearn: 0.2557301\ttotal: 7.2s\tremaining: 1.43s\n",
      "834:\tlearn: 0.2556978\ttotal: 7.2s\tremaining: 1.42s\n",
      "835:\tlearn: 0.2556830\ttotal: 7.21s\tremaining: 1.41s\n",
      "836:\tlearn: 0.2556627\ttotal: 7.22s\tremaining: 1.41s\n",
      "837:\tlearn: 0.2556336\ttotal: 7.22s\tremaining: 1.4s\n",
      "838:\tlearn: 0.2556194\ttotal: 7.23s\tremaining: 1.39s\n",
      "839:\tlearn: 0.2556016\ttotal: 7.24s\tremaining: 1.38s\n",
      "840:\tlearn: 0.2555843\ttotal: 7.24s\tremaining: 1.37s\n",
      "841:\tlearn: 0.2555594\ttotal: 7.25s\tremaining: 1.36s\n",
      "842:\tlearn: 0.2555376\ttotal: 7.26s\tremaining: 1.35s\n",
      "843:\tlearn: 0.2555156\ttotal: 7.27s\tremaining: 1.34s\n",
      "844:\tlearn: 0.2554863\ttotal: 7.27s\tremaining: 1.33s\n",
      "845:\tlearn: 0.2554600\ttotal: 7.28s\tremaining: 1.32s\n",
      "846:\tlearn: 0.2554349\ttotal: 7.29s\tremaining: 1.32s\n",
      "847:\tlearn: 0.2554109\ttotal: 7.3s\tremaining: 1.31s\n",
      "848:\tlearn: 0.2553899\ttotal: 7.3s\tremaining: 1.3s\n",
      "849:\tlearn: 0.2553683\ttotal: 7.31s\tremaining: 1.29s\n",
      "850:\tlearn: 0.2553521\ttotal: 7.32s\tremaining: 1.28s\n",
      "851:\tlearn: 0.2553369\ttotal: 7.33s\tremaining: 1.27s\n",
      "852:\tlearn: 0.2553261\ttotal: 7.34s\tremaining: 1.26s\n",
      "853:\tlearn: 0.2553078\ttotal: 7.34s\tremaining: 1.25s\n",
      "854:\tlearn: 0.2553004\ttotal: 7.35s\tremaining: 1.25s\n",
      "855:\tlearn: 0.2552944\ttotal: 7.36s\tremaining: 1.24s\n",
      "856:\tlearn: 0.2552788\ttotal: 7.37s\tremaining: 1.23s\n",
      "857:\tlearn: 0.2552700\ttotal: 7.37s\tremaining: 1.22s\n",
      "858:\tlearn: 0.2552480\ttotal: 7.38s\tremaining: 1.21s\n",
      "859:\tlearn: 0.2552324\ttotal: 7.38s\tremaining: 1.2s\n",
      "860:\tlearn: 0.2551892\ttotal: 7.39s\tremaining: 1.19s\n",
      "861:\tlearn: 0.2551804\ttotal: 7.4s\tremaining: 1.18s\n",
      "862:\tlearn: 0.2551341\ttotal: 7.41s\tremaining: 1.18s\n",
      "863:\tlearn: 0.2550788\ttotal: 7.41s\tremaining: 1.17s\n",
      "864:\tlearn: 0.2550627\ttotal: 7.42s\tremaining: 1.16s\n",
      "865:\tlearn: 0.2550144\ttotal: 7.42s\tremaining: 1.15s\n",
      "866:\tlearn: 0.2550092\ttotal: 7.43s\tremaining: 1.14s\n",
      "867:\tlearn: 0.2549732\ttotal: 7.44s\tremaining: 1.13s\n",
      "868:\tlearn: 0.2549145\ttotal: 7.45s\tremaining: 1.12s\n",
      "869:\tlearn: 0.2548915\ttotal: 7.45s\tremaining: 1.11s\n",
      "870:\tlearn: 0.2548732\ttotal: 7.46s\tremaining: 1.1s\n",
      "871:\tlearn: 0.2548581\ttotal: 7.47s\tremaining: 1.1s\n",
      "872:\tlearn: 0.2548316\ttotal: 7.47s\tremaining: 1.09s\n",
      "873:\tlearn: 0.2548013\ttotal: 7.48s\tremaining: 1.08s\n",
      "874:\tlearn: 0.2547796\ttotal: 7.49s\tremaining: 1.07s\n",
      "875:\tlearn: 0.2547464\ttotal: 7.5s\tremaining: 1.06s\n",
      "876:\tlearn: 0.2547264\ttotal: 7.51s\tremaining: 1.05s\n",
      "877:\tlearn: 0.2547005\ttotal: 7.52s\tremaining: 1.04s\n",
      "878:\tlearn: 0.2546702\ttotal: 7.52s\tremaining: 1.03s\n",
      "879:\tlearn: 0.2546550\ttotal: 7.53s\tremaining: 1.03s\n",
      "880:\tlearn: 0.2546263\ttotal: 7.54s\tremaining: 1.02s\n",
      "881:\tlearn: 0.2546092\ttotal: 7.55s\tremaining: 1.01s\n",
      "882:\tlearn: 0.2545774\ttotal: 7.55s\tremaining: 1s\n",
      "883:\tlearn: 0.2545667\ttotal: 7.56s\tremaining: 992ms\n",
      "884:\tlearn: 0.2545580\ttotal: 7.57s\tremaining: 983ms\n",
      "885:\tlearn: 0.2545353\ttotal: 7.57s\tremaining: 975ms\n",
      "886:\tlearn: 0.2545152\ttotal: 7.58s\tremaining: 966ms\n",
      "887:\tlearn: 0.2544925\ttotal: 7.59s\tremaining: 957ms\n",
      "888:\tlearn: 0.2544689\ttotal: 7.59s\tremaining: 948ms\n",
      "889:\tlearn: 0.2544642\ttotal: 7.6s\tremaining: 940ms\n",
      "890:\tlearn: 0.2544182\ttotal: 7.61s\tremaining: 931ms\n",
      "891:\tlearn: 0.2543849\ttotal: 7.62s\tremaining: 922ms\n",
      "892:\tlearn: 0.2543544\ttotal: 7.62s\tremaining: 914ms\n",
      "893:\tlearn: 0.2543260\ttotal: 7.63s\tremaining: 905ms\n",
      "894:\tlearn: 0.2543084\ttotal: 7.64s\tremaining: 896ms\n",
      "895:\tlearn: 0.2542776\ttotal: 7.65s\tremaining: 888ms\n",
      "896:\tlearn: 0.2542757\ttotal: 7.65s\tremaining: 879ms\n",
      "897:\tlearn: 0.2542624\ttotal: 7.66s\tremaining: 870ms\n",
      "898:\tlearn: 0.2542201\ttotal: 7.67s\tremaining: 862ms\n",
      "899:\tlearn: 0.2542112\ttotal: 7.68s\tremaining: 853ms\n",
      "900:\tlearn: 0.2541763\ttotal: 7.68s\tremaining: 844ms\n",
      "901:\tlearn: 0.2541522\ttotal: 7.69s\tremaining: 836ms\n",
      "902:\tlearn: 0.2541436\ttotal: 7.7s\tremaining: 827ms\n",
      "903:\tlearn: 0.2541116\ttotal: 7.71s\tremaining: 819ms\n",
      "904:\tlearn: 0.2540768\ttotal: 7.72s\tremaining: 810ms\n",
      "905:\tlearn: 0.2540491\ttotal: 7.72s\tremaining: 802ms\n",
      "906:\tlearn: 0.2540244\ttotal: 7.73s\tremaining: 793ms\n",
      "907:\tlearn: 0.2539932\ttotal: 7.74s\tremaining: 784ms\n",
      "908:\tlearn: 0.2539830\ttotal: 7.75s\tremaining: 775ms\n",
      "909:\tlearn: 0.2539597\ttotal: 7.75s\tremaining: 767ms\n",
      "910:\tlearn: 0.2539374\ttotal: 7.76s\tremaining: 758ms\n",
      "911:\tlearn: 0.2539066\ttotal: 7.77s\tremaining: 750ms\n",
      "912:\tlearn: 0.2538895\ttotal: 7.78s\tremaining: 741ms\n",
      "913:\tlearn: 0.2538531\ttotal: 7.78s\tremaining: 732ms\n",
      "914:\tlearn: 0.2538337\ttotal: 7.79s\tremaining: 724ms\n",
      "915:\tlearn: 0.2538158\ttotal: 7.79s\tremaining: 715ms\n",
      "916:\tlearn: 0.2537779\ttotal: 7.8s\tremaining: 706ms\n",
      "917:\tlearn: 0.2537489\ttotal: 7.81s\tremaining: 698ms\n",
      "918:\tlearn: 0.2537230\ttotal: 7.82s\tremaining: 689ms\n",
      "919:\tlearn: 0.2536967\ttotal: 7.82s\tremaining: 680ms\n",
      "920:\tlearn: 0.2536706\ttotal: 7.83s\tremaining: 672ms\n",
      "921:\tlearn: 0.2536553\ttotal: 7.84s\tremaining: 663ms\n",
      "922:\tlearn: 0.2536423\ttotal: 7.84s\tremaining: 654ms\n",
      "923:\tlearn: 0.2536407\ttotal: 7.85s\tremaining: 646ms\n",
      "924:\tlearn: 0.2536019\ttotal: 7.86s\tremaining: 637ms\n",
      "925:\tlearn: 0.2535839\ttotal: 7.87s\tremaining: 629ms\n",
      "926:\tlearn: 0.2535369\ttotal: 7.88s\tremaining: 620ms\n",
      "927:\tlearn: 0.2535259\ttotal: 7.88s\tremaining: 612ms\n",
      "928:\tlearn: 0.2535191\ttotal: 7.89s\tremaining: 603ms\n",
      "929:\tlearn: 0.2535137\ttotal: 7.9s\tremaining: 595ms\n",
      "930:\tlearn: 0.2534727\ttotal: 7.91s\tremaining: 586ms\n",
      "931:\tlearn: 0.2534681\ttotal: 7.92s\tremaining: 578ms\n",
      "932:\tlearn: 0.2534501\ttotal: 7.93s\tremaining: 569ms\n",
      "933:\tlearn: 0.2534125\ttotal: 7.94s\tremaining: 561ms\n",
      "934:\tlearn: 0.2534066\ttotal: 7.95s\tremaining: 552ms\n",
      "935:\tlearn: 0.2533654\ttotal: 7.96s\tremaining: 544ms\n",
      "936:\tlearn: 0.2533624\ttotal: 7.96s\tremaining: 535ms\n",
      "937:\tlearn: 0.2533578\ttotal: 7.97s\tremaining: 527ms\n",
      "938:\tlearn: 0.2533391\ttotal: 7.98s\tremaining: 518ms\n",
      "939:\tlearn: 0.2533130\ttotal: 7.98s\tremaining: 510ms\n",
      "940:\tlearn: 0.2532746\ttotal: 7.99s\tremaining: 501ms\n",
      "941:\tlearn: 0.2532469\ttotal: 8s\tremaining: 492ms\n",
      "942:\tlearn: 0.2532201\ttotal: 8s\tremaining: 484ms\n",
      "943:\tlearn: 0.2532188\ttotal: 8.01s\tremaining: 475ms\n",
      "944:\tlearn: 0.2531868\ttotal: 8.02s\tremaining: 467ms\n",
      "945:\tlearn: 0.2531392\ttotal: 8.03s\tremaining: 458ms\n",
      "946:\tlearn: 0.2531222\ttotal: 8.03s\tremaining: 450ms\n",
      "947:\tlearn: 0.2530798\ttotal: 8.04s\tremaining: 441ms\n",
      "948:\tlearn: 0.2530737\ttotal: 8.05s\tremaining: 433ms\n",
      "949:\tlearn: 0.2530416\ttotal: 8.06s\tremaining: 424ms\n",
      "950:\tlearn: 0.2530269\ttotal: 8.06s\tremaining: 416ms\n",
      "951:\tlearn: 0.2529800\ttotal: 8.07s\tremaining: 407ms\n",
      "952:\tlearn: 0.2529563\ttotal: 8.08s\tremaining: 399ms\n",
      "953:\tlearn: 0.2529131\ttotal: 8.09s\tremaining: 390ms\n",
      "954:\tlearn: 0.2528782\ttotal: 8.1s\tremaining: 382ms\n",
      "955:\tlearn: 0.2528515\ttotal: 8.1s\tremaining: 373ms\n",
      "956:\tlearn: 0.2528062\ttotal: 8.11s\tremaining: 364ms\n",
      "957:\tlearn: 0.2527679\ttotal: 8.12s\tremaining: 356ms\n",
      "958:\tlearn: 0.2527469\ttotal: 8.12s\tremaining: 347ms\n",
      "959:\tlearn: 0.2527070\ttotal: 8.13s\tremaining: 339ms\n",
      "960:\tlearn: 0.2526846\ttotal: 8.14s\tremaining: 330ms\n",
      "961:\tlearn: 0.2526625\ttotal: 8.14s\tremaining: 322ms\n",
      "962:\tlearn: 0.2526431\ttotal: 8.15s\tremaining: 313ms\n",
      "963:\tlearn: 0.2526395\ttotal: 8.16s\tremaining: 305ms\n",
      "964:\tlearn: 0.2526053\ttotal: 8.16s\tremaining: 296ms\n",
      "965:\tlearn: 0.2525896\ttotal: 8.17s\tremaining: 288ms\n",
      "966:\tlearn: 0.2525828\ttotal: 8.18s\tremaining: 279ms\n",
      "967:\tlearn: 0.2525365\ttotal: 8.18s\tremaining: 271ms\n",
      "968:\tlearn: 0.2525049\ttotal: 8.19s\tremaining: 262ms\n",
      "969:\tlearn: 0.2524681\ttotal: 8.2s\tremaining: 254ms\n",
      "970:\tlearn: 0.2524359\ttotal: 8.21s\tremaining: 245ms\n",
      "971:\tlearn: 0.2524238\ttotal: 8.21s\tremaining: 237ms\n",
      "972:\tlearn: 0.2523812\ttotal: 8.22s\tremaining: 228ms\n",
      "973:\tlearn: 0.2523671\ttotal: 8.23s\tremaining: 220ms\n",
      "974:\tlearn: 0.2523566\ttotal: 8.24s\tremaining: 211ms\n",
      "975:\tlearn: 0.2523314\ttotal: 8.24s\tremaining: 203ms\n",
      "976:\tlearn: 0.2523141\ttotal: 8.25s\tremaining: 194ms\n",
      "977:\tlearn: 0.2522837\ttotal: 8.26s\tremaining: 186ms\n",
      "978:\tlearn: 0.2522375\ttotal: 8.27s\tremaining: 177ms\n",
      "979:\tlearn: 0.2522281\ttotal: 8.28s\tremaining: 169ms\n",
      "980:\tlearn: 0.2521941\ttotal: 8.28s\tremaining: 160ms\n",
      "981:\tlearn: 0.2521881\ttotal: 8.29s\tremaining: 152ms\n",
      "982:\tlearn: 0.2521685\ttotal: 8.3s\tremaining: 143ms\n",
      "983:\tlearn: 0.2521347\ttotal: 8.3s\tremaining: 135ms\n",
      "984:\tlearn: 0.2521153\ttotal: 8.31s\tremaining: 127ms\n",
      "985:\tlearn: 0.2520753\ttotal: 8.32s\tremaining: 118ms\n",
      "986:\tlearn: 0.2520574\ttotal: 8.32s\tremaining: 110ms\n",
      "987:\tlearn: 0.2520266\ttotal: 8.33s\tremaining: 101ms\n",
      "988:\tlearn: 0.2519850\ttotal: 8.34s\tremaining: 92.7ms\n",
      "989:\tlearn: 0.2519665\ttotal: 8.34s\tremaining: 84.3ms\n",
      "990:\tlearn: 0.2519495\ttotal: 8.35s\tremaining: 75.8ms\n",
      "991:\tlearn: 0.2519171\ttotal: 8.36s\tremaining: 67.4ms\n",
      "992:\tlearn: 0.2518649\ttotal: 8.36s\tremaining: 59ms\n",
      "993:\tlearn: 0.2518186\ttotal: 8.37s\tremaining: 50.5ms\n",
      "994:\tlearn: 0.2517917\ttotal: 8.38s\tremaining: 42.1ms\n",
      "995:\tlearn: 0.2517745\ttotal: 8.39s\tremaining: 33.7ms\n",
      "996:\tlearn: 0.2517615\ttotal: 8.39s\tremaining: 25.3ms\n",
      "997:\tlearn: 0.2517538\ttotal: 8.4s\tremaining: 16.8ms\n",
      "998:\tlearn: 0.2517389\ttotal: 8.41s\tremaining: 8.42ms\n",
      "999:\tlearn: 0.2517245\ttotal: 8.42s\tremaining: 0us\n"
     ]
    }
   ],
   "source": [
    "# Comparing different classification models\n",
    "from sklearn.pipeline import Pipeline\n",
    "models = [LogisticRegression(), SVC(), AdaBoostClassifier(), RandomForestClassifier(), XGBClassifier(),\n",
    "          DecisionTreeClassifier(), KNeighborsClassifier(), CatBoostClassifier()]\n",
    "\n",
    "model_labels = ['LogisticReg.','SVC','AdaBoost','RandomForest','Xgboost','DecisionTree','KNN', 'CatBoost']\n",
    "Train_accuracy=[]\n",
    "Test_accuracy=[]\n",
    "for model in models:\n",
    "    model.fit(X_train,Y_train)\n",
    "    y_pred_train=model.predict(X_train)\n",
    "    y_pred_test=model.predict(X_test)\n",
    "    Accuracy_train=accuracy_score(Y_train,y_pred_train)\n",
    "    Accuracy_test=accuracy_score(Y_test,y_pred_test)\n",
    "    Train_accuracy.append(Accuracy_train)\n",
    "    Test_accuracy.append(Accuracy_test)"
   ]
  },
  {
   "cell_type": "code",
   "execution_count": 67,
   "id": "b35ca5a2-4ed1-4565-8653-641f89346410",
   "metadata": {},
   "outputs": [
    {
     "data": {
      "text/plain": [
       "Text(0, 0.5, 'Accuracy Score')"
      ]
     },
     "execution_count": 67,
     "metadata": {},
     "output_type": "execute_result"
    },
    {
     "data": {
      "text/plain": [
       "<Figure size 432x288 with 0 Axes>"
      ]
     },
     "metadata": {},
     "output_type": "display_data"
    },
    {
     "data": {
      "image/png": "[encoded data removed]",
      "text/plain": [
       "<Figure size 864x432 with 1 Axes>"
      ]
     },
     "metadata": {
      "needs_background": "light"
     },
     "output_type": "display_data"
    },
    {
     "data": {
      "image/png": "[encoded data removed]",
      "text/plain": [
       "<Figure size 864x432 with 1 Axes>"
      ]
     },
     "metadata": {
      "needs_background": "light"
     },
     "output_type": "display_data"
    }
   ],
   "source": [
    "# Comparing accuracy of different models on Train data and test data\n",
    "plt.figure(211)\n",
    "plt.figure(figsize=(12,6))\n",
    "ax1=sns.barplot(x=model_labels,y=Train_accuracy)\n",
    "ax1.bar_label(ax1.containers[0])\n",
    "plt.title('Accuracy on Train Data')\n",
    "plt.xlabel('Model')\n",
    "plt.ylabel('Accuracy Score')\n",
    "plt.figure(212)\n",
    "plt.figure(figsize=(12,6))\n",
    "ax2=sns.barplot(x=model_labels,y=Test_accuracy)\n",
    "ax2.bar_label(ax2.containers[0])\n",
    "plt.title('Accuracy on Test Data')\n",
    "plt.xlabel('Model')\n",
    "plt.ylabel('Accuracy Score')"
   ]
  },
  {
   "cell_type": "markdown",
   "id": "231453bd-ef2c-43fc-8b7a-7f832fc506f8",
   "metadata": {},
   "source": [
    "Decision Tree and random forest both models have very high accuracy on train data but not so good accuracy on test data, CatBoost and XGBoost models have highest accuracy on test data, thats why we will consider these two models for further analysis."
   ]
  },
  {
   "cell_type": "code",
   "execution_count": 68,
   "id": "10d30eea-a969-4b8a-b197-4537a49ff257",
   "metadata": {
    "scrolled": true,
    "tags": []
   },
   "outputs": [
    {
     "name": "stdout",
     "output_type": "stream",
     "text": [
      "Learning rate set to 0.041432\n",
      "0:\tlearn: 0.6528035\ttotal: 7.7ms\tremaining: 7.69s\n",
      "1:\tlearn: 0.6156570\ttotal: 15.5ms\tremaining: 7.74s\n",
      "2:\tlearn: 0.5849370\ttotal: 23ms\tremaining: 7.65s\n",
      "3:\tlearn: 0.5590307\ttotal: 29.7ms\tremaining: 7.39s\n",
      "4:\tlearn: 0.5345946\ttotal: 39.6ms\tremaining: 7.88s\n",
      "5:\tlearn: 0.5115173\ttotal: 47.6ms\tremaining: 7.89s\n",
      "6:\tlearn: 0.4924979\ttotal: 55.7ms\tremaining: 7.9s\n",
      "7:\tlearn: 0.4760905\ttotal: 63.3ms\tremaining: 7.84s\n",
      "8:\tlearn: 0.4584927\ttotal: 71.1ms\tremaining: 7.83s\n",
      "9:\tlearn: 0.4440318\ttotal: 79.2ms\tremaining: 7.84s\n",
      "10:\tlearn: 0.4317063\ttotal: 87ms\tremaining: 7.82s\n",
      "11:\tlearn: 0.4201720\ttotal: 94.9ms\tremaining: 7.82s\n",
      "12:\tlearn: 0.4109360\ttotal: 102ms\tremaining: 7.78s\n",
      "13:\tlearn: 0.4023318\ttotal: 110ms\tremaining: 7.76s\n",
      "14:\tlearn: 0.3950841\ttotal: 118ms\tremaining: 7.74s\n",
      "15:\tlearn: 0.3883757\ttotal: 125ms\tremaining: 7.71s\n",
      "16:\tlearn: 0.3825047\ttotal: 133ms\tremaining: 7.72s\n",
      "17:\tlearn: 0.3772617\ttotal: 141ms\tremaining: 7.71s\n",
      "18:\tlearn: 0.3717743\ttotal: 149ms\tremaining: 7.68s\n",
      "19:\tlearn: 0.3674462\ttotal: 157ms\tremaining: 7.68s\n",
      "20:\tlearn: 0.3633837\ttotal: 165ms\tremaining: 7.68s\n",
      "21:\tlearn: 0.3598549\ttotal: 174ms\tremaining: 7.75s\n",
      "22:\tlearn: 0.3571290\ttotal: 184ms\tremaining: 7.83s\n",
      "23:\tlearn: 0.3538680\ttotal: 195ms\tremaining: 7.91s\n",
      "24:\tlearn: 0.3514449\ttotal: 205ms\tremaining: 7.98s\n",
      "25:\tlearn: 0.3487989\ttotal: 213ms\tremaining: 7.97s\n",
      "26:\tlearn: 0.3464356\ttotal: 221ms\tremaining: 7.96s\n",
      "27:\tlearn: 0.3448571\ttotal: 228ms\tremaining: 7.92s\n",
      "28:\tlearn: 0.3430375\ttotal: 236ms\tremaining: 7.91s\n",
      "29:\tlearn: 0.3410821\ttotal: 244ms\tremaining: 7.9s\n",
      "30:\tlearn: 0.3391962\ttotal: 253ms\tremaining: 7.92s\n",
      "31:\tlearn: 0.3374024\ttotal: 261ms\tremaining: 7.91s\n",
      "32:\tlearn: 0.3358427\ttotal: 269ms\tremaining: 7.89s\n",
      "33:\tlearn: 0.3344233\ttotal: 277ms\tremaining: 7.88s\n",
      "34:\tlearn: 0.3331337\ttotal: 284ms\tremaining: 7.83s\n",
      "35:\tlearn: 0.3316168\ttotal: 291ms\tremaining: 7.79s\n",
      "36:\tlearn: 0.3305628\ttotal: 298ms\tremaining: 7.76s\n",
      "37:\tlearn: 0.3297857\ttotal: 305ms\tremaining: 7.73s\n",
      "38:\tlearn: 0.3286950\ttotal: 313ms\tremaining: 7.7s\n",
      "39:\tlearn: 0.3276859\ttotal: 320ms\tremaining: 7.68s\n",
      "40:\tlearn: 0.3266829\ttotal: 328ms\tremaining: 7.66s\n",
      "41:\tlearn: 0.3256598\ttotal: 335ms\tremaining: 7.64s\n",
      "42:\tlearn: 0.3247223\ttotal: 343ms\tremaining: 7.63s\n",
      "43:\tlearn: 0.3239267\ttotal: 350ms\tremaining: 7.61s\n",
      "44:\tlearn: 0.3232211\ttotal: 360ms\tremaining: 7.64s\n",
      "45:\tlearn: 0.3225356\ttotal: 370ms\tremaining: 7.67s\n",
      "46:\tlearn: 0.3220355\ttotal: 378ms\tremaining: 7.66s\n",
      "47:\tlearn: 0.3214907\ttotal: 386ms\tremaining: 7.66s\n",
      "48:\tlearn: 0.3206937\ttotal: 394ms\tremaining: 7.64s\n",
      "49:\tlearn: 0.3200793\ttotal: 401ms\tremaining: 7.62s\n",
      "50:\tlearn: 0.3195370\ttotal: 408ms\tremaining: 7.6s\n",
      "51:\tlearn: 0.3186973\ttotal: 416ms\tremaining: 7.58s\n",
      "52:\tlearn: 0.3181795\ttotal: 423ms\tremaining: 7.56s\n",
      "53:\tlearn: 0.3175067\ttotal: 431ms\tremaining: 7.55s\n",
      "54:\tlearn: 0.3167673\ttotal: 439ms\tremaining: 7.54s\n",
      "55:\tlearn: 0.3163535\ttotal: 446ms\tremaining: 7.53s\n",
      "56:\tlearn: 0.3158547\ttotal: 454ms\tremaining: 7.52s\n",
      "57:\tlearn: 0.3154445\ttotal: 462ms\tremaining: 7.5s\n",
      "58:\tlearn: 0.3150170\ttotal: 469ms\tremaining: 7.49s\n",
      "59:\tlearn: 0.3147111\ttotal: 477ms\tremaining: 7.48s\n",
      "60:\tlearn: 0.3143620\ttotal: 485ms\tremaining: 7.46s\n",
      "61:\tlearn: 0.3138882\ttotal: 492ms\tremaining: 7.45s\n",
      "62:\tlearn: 0.3129537\ttotal: 500ms\tremaining: 7.44s\n",
      "63:\tlearn: 0.3123080\ttotal: 508ms\tremaining: 7.43s\n",
      "64:\tlearn: 0.3120039\ttotal: 518ms\tremaining: 7.45s\n",
      "65:\tlearn: 0.3117110\ttotal: 528ms\tremaining: 7.47s\n",
      "66:\tlearn: 0.3113751\ttotal: 536ms\tremaining: 7.47s\n",
      "67:\tlearn: 0.3110161\ttotal: 545ms\tremaining: 7.46s\n",
      "68:\tlearn: 0.3107591\ttotal: 554ms\tremaining: 7.47s\n",
      "69:\tlearn: 0.3101641\ttotal: 563ms\tremaining: 7.48s\n",
      "70:\tlearn: 0.3098803\ttotal: 573ms\tremaining: 7.5s\n",
      "71:\tlearn: 0.3095641\ttotal: 581ms\tremaining: 7.49s\n",
      "72:\tlearn: 0.3092046\ttotal: 590ms\tremaining: 7.49s\n",
      "73:\tlearn: 0.3086542\ttotal: 598ms\tremaining: 7.48s\n",
      "74:\tlearn: 0.3084270\ttotal: 605ms\tremaining: 7.47s\n",
      "75:\tlearn: 0.3079094\ttotal: 613ms\tremaining: 7.45s\n",
      "76:\tlearn: 0.3074591\ttotal: 621ms\tremaining: 7.44s\n",
      "77:\tlearn: 0.3072640\ttotal: 629ms\tremaining: 7.43s\n",
      "78:\tlearn: 0.3069666\ttotal: 636ms\tremaining: 7.42s\n",
      "79:\tlearn: 0.3065315\ttotal: 644ms\tremaining: 7.41s\n",
      "80:\tlearn: 0.3063023\ttotal: 652ms\tremaining: 7.4s\n",
      "81:\tlearn: 0.3060726\ttotal: 659ms\tremaining: 7.38s\n",
      "82:\tlearn: 0.3057974\ttotal: 667ms\tremaining: 7.37s\n",
      "83:\tlearn: 0.3055007\ttotal: 674ms\tremaining: 7.35s\n",
      "84:\tlearn: 0.3052041\ttotal: 681ms\tremaining: 7.34s\n",
      "85:\tlearn: 0.3049890\ttotal: 689ms\tremaining: 7.32s\n",
      "86:\tlearn: 0.3048053\ttotal: 696ms\tremaining: 7.31s\n",
      "87:\tlearn: 0.3041426\ttotal: 704ms\tremaining: 7.29s\n",
      "88:\tlearn: 0.3038096\ttotal: 711ms\tremaining: 7.28s\n",
      "89:\tlearn: 0.3035248\ttotal: 718ms\tremaining: 7.26s\n",
      "90:\tlearn: 0.3033535\ttotal: 726ms\tremaining: 7.25s\n",
      "91:\tlearn: 0.3031834\ttotal: 735ms\tremaining: 7.25s\n",
      "92:\tlearn: 0.3030086\ttotal: 743ms\tremaining: 7.25s\n",
      "93:\tlearn: 0.3026918\ttotal: 753ms\tremaining: 7.25s\n",
      "94:\tlearn: 0.3025398\ttotal: 761ms\tremaining: 7.24s\n",
      "95:\tlearn: 0.3023709\ttotal: 768ms\tremaining: 7.23s\n",
      "96:\tlearn: 0.3021633\ttotal: 776ms\tremaining: 7.22s\n",
      "97:\tlearn: 0.3019691\ttotal: 783ms\tremaining: 7.21s\n",
      "98:\tlearn: 0.3017902\ttotal: 790ms\tremaining: 7.19s\n",
      "99:\tlearn: 0.3016287\ttotal: 798ms\tremaining: 7.18s\n",
      "100:\tlearn: 0.3013018\ttotal: 805ms\tremaining: 7.16s\n",
      "101:\tlearn: 0.3011535\ttotal: 812ms\tremaining: 7.15s\n",
      "102:\tlearn: 0.3009169\ttotal: 820ms\tremaining: 7.14s\n",
      "103:\tlearn: 0.3007117\ttotal: 827ms\tremaining: 7.12s\n",
      "104:\tlearn: 0.3005346\ttotal: 834ms\tremaining: 7.11s\n",
      "105:\tlearn: 0.3003411\ttotal: 842ms\tremaining: 7.1s\n",
      "106:\tlearn: 0.3000617\ttotal: 849ms\tremaining: 7.09s\n",
      "107:\tlearn: 0.2997942\ttotal: 857ms\tremaining: 7.07s\n",
      "108:\tlearn: 0.2996072\ttotal: 864ms\tremaining: 7.06s\n",
      "109:\tlearn: 0.2994117\ttotal: 871ms\tremaining: 7.05s\n",
      "110:\tlearn: 0.2992732\ttotal: 879ms\tremaining: 7.04s\n",
      "111:\tlearn: 0.2991689\ttotal: 886ms\tremaining: 7.03s\n",
      "112:\tlearn: 0.2990226\ttotal: 894ms\tremaining: 7.02s\n",
      "113:\tlearn: 0.2988372\ttotal: 901ms\tremaining: 7s\n",
      "114:\tlearn: 0.2985572\ttotal: 911ms\tremaining: 7.01s\n",
      "115:\tlearn: 0.2984139\ttotal: 921ms\tremaining: 7.02s\n",
      "116:\tlearn: 0.2982359\ttotal: 930ms\tremaining: 7.02s\n",
      "117:\tlearn: 0.2980524\ttotal: 938ms\tremaining: 7.01s\n",
      "118:\tlearn: 0.2979415\ttotal: 945ms\tremaining: 7s\n",
      "119:\tlearn: 0.2975092\ttotal: 953ms\tremaining: 6.99s\n",
      "120:\tlearn: 0.2973064\ttotal: 960ms\tremaining: 6.97s\n",
      "121:\tlearn: 0.2971302\ttotal: 968ms\tremaining: 6.96s\n",
      "122:\tlearn: 0.2968242\ttotal: 975ms\tremaining: 6.95s\n",
      "123:\tlearn: 0.2966916\ttotal: 982ms\tremaining: 6.94s\n",
      "124:\tlearn: 0.2965435\ttotal: 989ms\tremaining: 6.92s\n",
      "125:\tlearn: 0.2964567\ttotal: 996ms\tremaining: 6.91s\n",
      "126:\tlearn: 0.2962342\ttotal: 1s\tremaining: 6.89s\n",
      "127:\tlearn: 0.2961140\ttotal: 1.01s\tremaining: 6.88s\n",
      "128:\tlearn: 0.2958459\ttotal: 1.01s\tremaining: 6.86s\n",
      "129:\tlearn: 0.2956174\ttotal: 1.02s\tremaining: 6.84s\n",
      "130:\tlearn: 0.2954672\ttotal: 1.03s\tremaining: 6.83s\n",
      "131:\tlearn: 0.2953354\ttotal: 1.03s\tremaining: 6.81s\n",
      "132:\tlearn: 0.2951907\ttotal: 1.04s\tremaining: 6.79s\n",
      "133:\tlearn: 0.2950056\ttotal: 1.05s\tremaining: 6.77s\n",
      "134:\tlearn: 0.2948358\ttotal: 1.05s\tremaining: 6.76s\n",
      "135:\tlearn: 0.2947275\ttotal: 1.06s\tremaining: 6.74s\n",
      "136:\tlearn: 0.2946224\ttotal: 1.07s\tremaining: 6.72s\n",
      "137:\tlearn: 0.2944696\ttotal: 1.07s\tremaining: 6.71s\n",
      "138:\tlearn: 0.2943429\ttotal: 1.08s\tremaining: 6.69s\n",
      "139:\tlearn: 0.2939767\ttotal: 1.09s\tremaining: 6.69s\n",
      "140:\tlearn: 0.2938609\ttotal: 1.1s\tremaining: 6.68s\n",
      "141:\tlearn: 0.2935936\ttotal: 1.1s\tremaining: 6.68s\n",
      "142:\tlearn: 0.2934844\ttotal: 1.11s\tremaining: 6.66s\n",
      "143:\tlearn: 0.2934010\ttotal: 1.12s\tremaining: 6.65s\n",
      "144:\tlearn: 0.2932468\ttotal: 1.12s\tremaining: 6.63s\n",
      "145:\tlearn: 0.2931351\ttotal: 1.13s\tremaining: 6.62s\n",
      "146:\tlearn: 0.2929530\ttotal: 1.14s\tremaining: 6.6s\n",
      "147:\tlearn: 0.2927994\ttotal: 1.14s\tremaining: 6.59s\n",
      "148:\tlearn: 0.2926324\ttotal: 1.15s\tremaining: 6.58s\n",
      "149:\tlearn: 0.2925056\ttotal: 1.16s\tremaining: 6.56s\n",
      "150:\tlearn: 0.2923728\ttotal: 1.16s\tremaining: 6.54s\n",
      "151:\tlearn: 0.2923067\ttotal: 1.17s\tremaining: 6.53s\n",
      "152:\tlearn: 0.2921655\ttotal: 1.18s\tremaining: 6.51s\n",
      "153:\tlearn: 0.2920525\ttotal: 1.18s\tremaining: 6.5s\n",
      "154:\tlearn: 0.2919506\ttotal: 1.19s\tremaining: 6.49s\n",
      "155:\tlearn: 0.2918245\ttotal: 1.2s\tremaining: 6.47s\n",
      "156:\tlearn: 0.2917073\ttotal: 1.2s\tremaining: 6.46s\n",
      "157:\tlearn: 0.2916059\ttotal: 1.21s\tremaining: 6.45s\n",
      "158:\tlearn: 0.2915306\ttotal: 1.22s\tremaining: 6.43s\n",
      "159:\tlearn: 0.2914402\ttotal: 1.22s\tremaining: 6.42s\n",
      "160:\tlearn: 0.2913374\ttotal: 1.23s\tremaining: 6.41s\n",
      "161:\tlearn: 0.2912858\ttotal: 1.24s\tremaining: 6.39s\n",
      "162:\tlearn: 0.2910798\ttotal: 1.24s\tremaining: 6.38s\n",
      "163:\tlearn: 0.2910100\ttotal: 1.25s\tremaining: 6.36s\n",
      "164:\tlearn: 0.2909015\ttotal: 1.25s\tremaining: 6.35s\n",
      "165:\tlearn: 0.2908281\ttotal: 1.26s\tremaining: 6.33s\n",
      "166:\tlearn: 0.2907087\ttotal: 1.27s\tremaining: 6.32s\n",
      "167:\tlearn: 0.2906524\ttotal: 1.28s\tremaining: 6.32s\n",
      "168:\tlearn: 0.2903207\ttotal: 1.28s\tremaining: 6.32s\n",
      "169:\tlearn: 0.2902134\ttotal: 1.29s\tremaining: 6.32s\n",
      "170:\tlearn: 0.2899336\ttotal: 1.3s\tremaining: 6.31s\n",
      "171:\tlearn: 0.2898449\ttotal: 1.31s\tremaining: 6.3s\n",
      "172:\tlearn: 0.2897783\ttotal: 1.31s\tremaining: 6.29s\n",
      "173:\tlearn: 0.2895721\ttotal: 1.32s\tremaining: 6.28s\n",
      "174:\tlearn: 0.2894890\ttotal: 1.33s\tremaining: 6.27s\n",
      "175:\tlearn: 0.2894168\ttotal: 1.34s\tremaining: 6.26s\n",
      "176:\tlearn: 0.2893125\ttotal: 1.34s\tremaining: 6.25s\n",
      "177:\tlearn: 0.2892015\ttotal: 1.35s\tremaining: 6.24s\n",
      "178:\tlearn: 0.2891293\ttotal: 1.36s\tremaining: 6.23s\n",
      "179:\tlearn: 0.2890347\ttotal: 1.36s\tremaining: 6.22s\n",
      "180:\tlearn: 0.2887515\ttotal: 1.37s\tremaining: 6.21s\n",
      "181:\tlearn: 0.2886723\ttotal: 1.38s\tremaining: 6.2s\n",
      "182:\tlearn: 0.2886164\ttotal: 1.38s\tremaining: 6.18s\n",
      "183:\tlearn: 0.2885531\ttotal: 1.39s\tremaining: 6.17s\n",
      "184:\tlearn: 0.2884643\ttotal: 1.4s\tremaining: 6.17s\n",
      "185:\tlearn: 0.2883920\ttotal: 1.41s\tremaining: 6.16s\n",
      "186:\tlearn: 0.2883162\ttotal: 1.42s\tremaining: 6.15s\n",
      "187:\tlearn: 0.2882091\ttotal: 1.42s\tremaining: 6.14s\n",
      "188:\tlearn: 0.2880906\ttotal: 1.43s\tremaining: 6.13s\n",
      "189:\tlearn: 0.2879221\ttotal: 1.44s\tremaining: 6.13s\n",
      "190:\tlearn: 0.2877476\ttotal: 1.45s\tremaining: 6.12s\n",
      "191:\tlearn: 0.2876362\ttotal: 1.45s\tremaining: 6.11s\n",
      "192:\tlearn: 0.2873320\ttotal: 1.46s\tremaining: 6.1s\n",
      "193:\tlearn: 0.2872670\ttotal: 1.47s\tremaining: 6.1s\n",
      "194:\tlearn: 0.2871791\ttotal: 1.48s\tremaining: 6.1s\n",
      "195:\tlearn: 0.2870941\ttotal: 1.49s\tremaining: 6.1s\n",
      "196:\tlearn: 0.2870003\ttotal: 1.5s\tremaining: 6.1s\n",
      "197:\tlearn: 0.2869371\ttotal: 1.5s\tremaining: 6.09s\n",
      "198:\tlearn: 0.2867486\ttotal: 1.51s\tremaining: 6.08s\n",
      "199:\tlearn: 0.2867066\ttotal: 1.52s\tremaining: 6.08s\n",
      "200:\tlearn: 0.2866327\ttotal: 1.52s\tremaining: 6.06s\n",
      "201:\tlearn: 0.2865763\ttotal: 1.53s\tremaining: 6.05s\n",
      "202:\tlearn: 0.2865193\ttotal: 1.54s\tremaining: 6.04s\n",
      "203:\tlearn: 0.2863774\ttotal: 1.55s\tremaining: 6.04s\n",
      "204:\tlearn: 0.2863139\ttotal: 1.55s\tremaining: 6.03s\n",
      "205:\tlearn: 0.2862168\ttotal: 1.56s\tremaining: 6.01s\n",
      "206:\tlearn: 0.2861681\ttotal: 1.57s\tremaining: 6s\n",
      "207:\tlearn: 0.2861197\ttotal: 1.57s\tremaining: 6s\n",
      "208:\tlearn: 0.2860673\ttotal: 1.58s\tremaining: 5.99s\n",
      "209:\tlearn: 0.2860363\ttotal: 1.59s\tremaining: 5.98s\n",
      "210:\tlearn: 0.2859534\ttotal: 1.59s\tremaining: 5.97s\n",
      "211:\tlearn: 0.2858885\ttotal: 1.6s\tremaining: 5.96s\n",
      "212:\tlearn: 0.2858080\ttotal: 1.61s\tremaining: 5.94s\n",
      "213:\tlearn: 0.2857145\ttotal: 1.62s\tremaining: 5.94s\n",
      "214:\tlearn: 0.2856540\ttotal: 1.63s\tremaining: 5.94s\n",
      "215:\tlearn: 0.2854840\ttotal: 1.64s\tremaining: 5.94s\n",
      "216:\tlearn: 0.2853907\ttotal: 1.65s\tremaining: 5.94s\n",
      "217:\tlearn: 0.2852968\ttotal: 1.65s\tremaining: 5.93s\n",
      "218:\tlearn: 0.2852440\ttotal: 1.66s\tremaining: 5.93s\n",
      "219:\tlearn: 0.2851890\ttotal: 1.67s\tremaining: 5.92s\n",
      "220:\tlearn: 0.2851227\ttotal: 1.68s\tremaining: 5.91s\n",
      "221:\tlearn: 0.2850522\ttotal: 1.68s\tremaining: 5.9s\n",
      "222:\tlearn: 0.2850038\ttotal: 1.69s\tremaining: 5.89s\n",
      "223:\tlearn: 0.2849150\ttotal: 1.7s\tremaining: 5.88s\n",
      "224:\tlearn: 0.2848456\ttotal: 1.7s\tremaining: 5.87s\n",
      "225:\tlearn: 0.2845626\ttotal: 1.71s\tremaining: 5.86s\n",
      "226:\tlearn: 0.2845171\ttotal: 1.72s\tremaining: 5.85s\n",
      "227:\tlearn: 0.2844482\ttotal: 1.72s\tremaining: 5.84s\n",
      "228:\tlearn: 0.2843082\ttotal: 1.73s\tremaining: 5.83s\n",
      "229:\tlearn: 0.2842445\ttotal: 1.74s\tremaining: 5.81s\n",
      "230:\tlearn: 0.2841467\ttotal: 1.74s\tremaining: 5.8s\n",
      "231:\tlearn: 0.2840824\ttotal: 1.75s\tremaining: 5.79s\n",
      "232:\tlearn: 0.2839877\ttotal: 1.76s\tremaining: 5.78s\n",
      "233:\tlearn: 0.2839328\ttotal: 1.76s\tremaining: 5.77s\n",
      "234:\tlearn: 0.2838587\ttotal: 1.77s\tremaining: 5.76s\n",
      "235:\tlearn: 0.2836364\ttotal: 1.78s\tremaining: 5.75s\n",
      "236:\tlearn: 0.2835590\ttotal: 1.78s\tremaining: 5.74s\n",
      "237:\tlearn: 0.2834732\ttotal: 1.79s\tremaining: 5.73s\n",
      "238:\tlearn: 0.2834178\ttotal: 1.8s\tremaining: 5.72s\n",
      "239:\tlearn: 0.2833482\ttotal: 1.8s\tremaining: 5.71s\n",
      "240:\tlearn: 0.2831771\ttotal: 1.81s\tremaining: 5.7s\n",
      "241:\tlearn: 0.2830210\ttotal: 1.82s\tremaining: 5.69s\n",
      "242:\tlearn: 0.2829699\ttotal: 1.82s\tremaining: 5.68s\n",
      "243:\tlearn: 0.2827629\ttotal: 1.83s\tremaining: 5.67s\n",
      "244:\tlearn: 0.2826871\ttotal: 1.84s\tremaining: 5.67s\n",
      "245:\tlearn: 0.2826187\ttotal: 1.85s\tremaining: 5.67s\n",
      "246:\tlearn: 0.2825571\ttotal: 1.85s\tremaining: 5.65s\n",
      "247:\tlearn: 0.2824811\ttotal: 1.86s\tremaining: 5.64s\n",
      "248:\tlearn: 0.2823622\ttotal: 1.87s\tremaining: 5.64s\n",
      "249:\tlearn: 0.2823144\ttotal: 1.88s\tremaining: 5.63s\n",
      "250:\tlearn: 0.2822540\ttotal: 1.88s\tremaining: 5.62s\n",
      "251:\tlearn: 0.2821757\ttotal: 1.89s\tremaining: 5.61s\n",
      "252:\tlearn: 0.2819236\ttotal: 1.9s\tremaining: 5.6s\n",
      "253:\tlearn: 0.2818293\ttotal: 1.9s\tremaining: 5.59s\n",
      "254:\tlearn: 0.2817091\ttotal: 1.91s\tremaining: 5.58s\n",
      "255:\tlearn: 0.2816356\ttotal: 1.92s\tremaining: 5.57s\n",
      "256:\tlearn: 0.2815426\ttotal: 1.92s\tremaining: 5.55s\n",
      "257:\tlearn: 0.2814624\ttotal: 1.93s\tremaining: 5.54s\n",
      "258:\tlearn: 0.2813606\ttotal: 1.93s\tremaining: 5.53s\n",
      "259:\tlearn: 0.2813225\ttotal: 1.94s\tremaining: 5.53s\n",
      "260:\tlearn: 0.2812725\ttotal: 1.95s\tremaining: 5.51s\n",
      "261:\tlearn: 0.2811648\ttotal: 1.95s\tremaining: 5.5s\n",
      "262:\tlearn: 0.2810336\ttotal: 1.96s\tremaining: 5.5s\n",
      "263:\tlearn: 0.2809437\ttotal: 1.97s\tremaining: 5.48s\n",
      "264:\tlearn: 0.2808992\ttotal: 1.97s\tremaining: 5.47s\n",
      "265:\tlearn: 0.2805847\ttotal: 1.98s\tremaining: 5.46s\n",
      "266:\tlearn: 0.2805178\ttotal: 1.99s\tremaining: 5.45s\n",
      "267:\tlearn: 0.2804762\ttotal: 1.99s\tremaining: 5.44s\n",
      "268:\tlearn: 0.2803530\ttotal: 2s\tremaining: 5.43s\n",
      "269:\tlearn: 0.2802779\ttotal: 2.01s\tremaining: 5.43s\n",
      "270:\tlearn: 0.2802197\ttotal: 2.02s\tremaining: 5.42s\n",
      "271:\tlearn: 0.2801478\ttotal: 2.02s\tremaining: 5.41s\n",
      "272:\tlearn: 0.2800937\ttotal: 2.03s\tremaining: 5.41s\n",
      "273:\tlearn: 0.2800044\ttotal: 2.04s\tremaining: 5.4s\n",
      "274:\tlearn: 0.2799742\ttotal: 2.04s\tremaining: 5.39s\n",
      "275:\tlearn: 0.2798814\ttotal: 2.05s\tremaining: 5.38s\n",
      "276:\tlearn: 0.2797220\ttotal: 2.06s\tremaining: 5.37s\n",
      "277:\tlearn: 0.2795847\ttotal: 2.06s\tremaining: 5.36s\n",
      "278:\tlearn: 0.2795508\ttotal: 2.07s\tremaining: 5.35s\n",
      "279:\tlearn: 0.2794336\ttotal: 2.08s\tremaining: 5.34s\n",
      "280:\tlearn: 0.2793297\ttotal: 2.08s\tremaining: 5.33s\n",
      "281:\tlearn: 0.2792847\ttotal: 2.09s\tremaining: 5.32s\n",
      "282:\tlearn: 0.2791897\ttotal: 2.1s\tremaining: 5.31s\n",
      "283:\tlearn: 0.2790899\ttotal: 2.1s\tremaining: 5.3s\n",
      "284:\tlearn: 0.2790191\ttotal: 2.11s\tremaining: 5.29s\n",
      "285:\tlearn: 0.2789609\ttotal: 2.12s\tremaining: 5.28s\n",
      "286:\tlearn: 0.2789032\ttotal: 2.12s\tremaining: 5.27s\n",
      "287:\tlearn: 0.2788402\ttotal: 2.13s\tremaining: 5.26s\n",
      "288:\tlearn: 0.2787473\ttotal: 2.13s\tremaining: 5.25s\n",
      "289:\tlearn: 0.2787133\ttotal: 2.14s\tremaining: 5.24s\n",
      "290:\tlearn: 0.2786456\ttotal: 2.15s\tremaining: 5.23s\n",
      "291:\tlearn: 0.2786001\ttotal: 2.15s\tremaining: 5.22s\n",
      "292:\tlearn: 0.2784281\ttotal: 2.16s\tremaining: 5.21s\n",
      "293:\tlearn: 0.2781304\ttotal: 2.17s\tremaining: 5.21s\n",
      "294:\tlearn: 0.2780197\ttotal: 2.17s\tremaining: 5.2s\n",
      "295:\tlearn: 0.2779315\ttotal: 2.18s\tremaining: 5.19s\n",
      "296:\tlearn: 0.2778594\ttotal: 2.19s\tremaining: 5.18s\n",
      "297:\tlearn: 0.2777934\ttotal: 2.2s\tremaining: 5.17s\n",
      "298:\tlearn: 0.2777165\ttotal: 2.2s\tremaining: 5.17s\n",
      "299:\tlearn: 0.2776706\ttotal: 2.21s\tremaining: 5.16s\n",
      "300:\tlearn: 0.2776253\ttotal: 2.22s\tremaining: 5.16s\n",
      "301:\tlearn: 0.2775937\ttotal: 2.23s\tremaining: 5.15s\n",
      "302:\tlearn: 0.2775532\ttotal: 2.23s\tremaining: 5.14s\n",
      "303:\tlearn: 0.2774656\ttotal: 2.24s\tremaining: 5.13s\n",
      "304:\tlearn: 0.2774186\ttotal: 2.25s\tremaining: 5.12s\n",
      "305:\tlearn: 0.2773484\ttotal: 2.25s\tremaining: 5.11s\n",
      "306:\tlearn: 0.2772756\ttotal: 2.26s\tremaining: 5.1s\n",
      "307:\tlearn: 0.2771993\ttotal: 2.27s\tremaining: 5.09s\n",
      "308:\tlearn: 0.2771517\ttotal: 2.27s\tremaining: 5.08s\n",
      "309:\tlearn: 0.2770637\ttotal: 2.28s\tremaining: 5.07s\n",
      "310:\tlearn: 0.2769869\ttotal: 2.28s\tremaining: 5.06s\n",
      "311:\tlearn: 0.2769470\ttotal: 2.29s\tremaining: 5.05s\n",
      "312:\tlearn: 0.2768664\ttotal: 2.3s\tremaining: 5.04s\n",
      "313:\tlearn: 0.2767852\ttotal: 2.3s\tremaining: 5.04s\n",
      "314:\tlearn: 0.2767127\ttotal: 2.31s\tremaining: 5.03s\n",
      "315:\tlearn: 0.2766498\ttotal: 2.32s\tremaining: 5.02s\n",
      "316:\tlearn: 0.2765719\ttotal: 2.32s\tremaining: 5.01s\n",
      "317:\tlearn: 0.2764901\ttotal: 2.33s\tremaining: 5s\n",
      "318:\tlearn: 0.2764149\ttotal: 2.34s\tremaining: 4.99s\n",
      "319:\tlearn: 0.2763614\ttotal: 2.34s\tremaining: 4.98s\n",
      "320:\tlearn: 0.2763021\ttotal: 2.35s\tremaining: 4.97s\n",
      "321:\tlearn: 0.2762483\ttotal: 2.36s\tremaining: 4.96s\n",
      "322:\tlearn: 0.2762128\ttotal: 2.36s\tremaining: 4.96s\n",
      "323:\tlearn: 0.2761347\ttotal: 2.37s\tremaining: 4.95s\n",
      "324:\tlearn: 0.2760785\ttotal: 2.38s\tremaining: 4.94s\n",
      "325:\tlearn: 0.2760168\ttotal: 2.39s\tremaining: 4.94s\n",
      "326:\tlearn: 0.2757695\ttotal: 2.4s\tremaining: 4.93s\n",
      "327:\tlearn: 0.2756930\ttotal: 2.4s\tremaining: 4.92s\n",
      "328:\tlearn: 0.2755262\ttotal: 2.41s\tremaining: 4.91s\n",
      "329:\tlearn: 0.2753014\ttotal: 2.41s\tremaining: 4.9s\n",
      "330:\tlearn: 0.2752552\ttotal: 2.42s\tremaining: 4.89s\n",
      "331:\tlearn: 0.2752168\ttotal: 2.43s\tremaining: 4.89s\n",
      "332:\tlearn: 0.2751635\ttotal: 2.44s\tremaining: 4.88s\n",
      "333:\tlearn: 0.2751066\ttotal: 2.44s\tremaining: 4.87s\n",
      "334:\tlearn: 0.2750345\ttotal: 2.45s\tremaining: 4.87s\n",
      "335:\tlearn: 0.2749703\ttotal: 2.46s\tremaining: 4.86s\n",
      "336:\tlearn: 0.2749037\ttotal: 2.47s\tremaining: 4.85s\n",
      "337:\tlearn: 0.2748478\ttotal: 2.47s\tremaining: 4.84s\n",
      "338:\tlearn: 0.2748029\ttotal: 2.48s\tremaining: 4.83s\n",
      "339:\tlearn: 0.2746142\ttotal: 2.49s\tremaining: 4.83s\n",
      "340:\tlearn: 0.2745760\ttotal: 2.49s\tremaining: 4.82s\n",
      "341:\tlearn: 0.2744770\ttotal: 2.5s\tremaining: 4.81s\n",
      "342:\tlearn: 0.2744067\ttotal: 2.51s\tremaining: 4.8s\n",
      "343:\tlearn: 0.2743513\ttotal: 2.51s\tremaining: 4.79s\n",
      "344:\tlearn: 0.2742831\ttotal: 2.52s\tremaining: 4.79s\n",
      "345:\tlearn: 0.2742117\ttotal: 2.53s\tremaining: 4.78s\n",
      "346:\tlearn: 0.2741632\ttotal: 2.53s\tremaining: 4.77s\n",
      "347:\tlearn: 0.2741215\ttotal: 2.54s\tremaining: 4.76s\n",
      "348:\tlearn: 0.2740900\ttotal: 2.55s\tremaining: 4.75s\n",
      "349:\tlearn: 0.2740314\ttotal: 2.56s\tremaining: 4.75s\n",
      "350:\tlearn: 0.2739761\ttotal: 2.56s\tremaining: 4.74s\n",
      "351:\tlearn: 0.2739499\ttotal: 2.57s\tremaining: 4.74s\n",
      "352:\tlearn: 0.2738769\ttotal: 2.58s\tremaining: 4.73s\n",
      "353:\tlearn: 0.2738172\ttotal: 2.59s\tremaining: 4.72s\n",
      "354:\tlearn: 0.2737698\ttotal: 2.6s\tremaining: 4.72s\n",
      "355:\tlearn: 0.2737122\ttotal: 2.6s\tremaining: 4.71s\n",
      "356:\tlearn: 0.2736498\ttotal: 2.61s\tremaining: 4.7s\n",
      "357:\tlearn: 0.2735776\ttotal: 2.62s\tremaining: 4.69s\n",
      "358:\tlearn: 0.2735613\ttotal: 2.62s\tremaining: 4.68s\n",
      "359:\tlearn: 0.2735092\ttotal: 2.63s\tremaining: 4.67s\n",
      "360:\tlearn: 0.2734525\ttotal: 2.64s\tremaining: 4.67s\n",
      "361:\tlearn: 0.2733654\ttotal: 2.64s\tremaining: 4.66s\n",
      "362:\tlearn: 0.2733259\ttotal: 2.65s\tremaining: 4.65s\n",
      "363:\tlearn: 0.2731732\ttotal: 2.66s\tremaining: 4.64s\n",
      "364:\tlearn: 0.2731093\ttotal: 2.66s\tremaining: 4.63s\n",
      "365:\tlearn: 0.2730568\ttotal: 2.67s\tremaining: 4.63s\n",
      "366:\tlearn: 0.2729877\ttotal: 2.68s\tremaining: 4.62s\n",
      "367:\tlearn: 0.2729396\ttotal: 2.68s\tremaining: 4.61s\n",
      "368:\tlearn: 0.2728574\ttotal: 2.69s\tremaining: 4.6s\n",
      "369:\tlearn: 0.2728245\ttotal: 2.7s\tremaining: 4.59s\n",
      "370:\tlearn: 0.2727754\ttotal: 2.7s\tremaining: 4.58s\n",
      "371:\tlearn: 0.2727246\ttotal: 2.71s\tremaining: 4.58s\n",
      "372:\tlearn: 0.2726835\ttotal: 2.72s\tremaining: 4.57s\n",
      "373:\tlearn: 0.2725984\ttotal: 2.73s\tremaining: 4.56s\n",
      "374:\tlearn: 0.2725491\ttotal: 2.73s\tremaining: 4.56s\n",
      "375:\tlearn: 0.2724959\ttotal: 2.74s\tremaining: 4.55s\n",
      "376:\tlearn: 0.2724483\ttotal: 2.75s\tremaining: 4.55s\n",
      "377:\tlearn: 0.2723529\ttotal: 2.76s\tremaining: 4.54s\n",
      "378:\tlearn: 0.2722977\ttotal: 2.77s\tremaining: 4.53s\n",
      "379:\tlearn: 0.2722495\ttotal: 2.77s\tremaining: 4.52s\n",
      "380:\tlearn: 0.2721911\ttotal: 2.78s\tremaining: 4.52s\n",
      "381:\tlearn: 0.2721514\ttotal: 2.79s\tremaining: 4.51s\n",
      "382:\tlearn: 0.2721004\ttotal: 2.79s\tremaining: 4.5s\n",
      "383:\tlearn: 0.2720528\ttotal: 2.8s\tremaining: 4.49s\n",
      "384:\tlearn: 0.2720085\ttotal: 2.81s\tremaining: 4.48s\n",
      "385:\tlearn: 0.2719302\ttotal: 2.81s\tremaining: 4.47s\n",
      "386:\tlearn: 0.2719035\ttotal: 2.82s\tremaining: 4.47s\n",
      "387:\tlearn: 0.2718820\ttotal: 2.83s\tremaining: 4.46s\n",
      "388:\tlearn: 0.2717487\ttotal: 2.83s\tremaining: 4.45s\n",
      "389:\tlearn: 0.2716812\ttotal: 2.84s\tremaining: 4.44s\n",
      "390:\tlearn: 0.2715809\ttotal: 2.85s\tremaining: 4.43s\n",
      "391:\tlearn: 0.2715468\ttotal: 2.85s\tremaining: 4.42s\n",
      "392:\tlearn: 0.2715026\ttotal: 2.86s\tremaining: 4.42s\n",
      "393:\tlearn: 0.2714378\ttotal: 2.87s\tremaining: 4.41s\n",
      "394:\tlearn: 0.2713794\ttotal: 2.87s\tremaining: 4.4s\n",
      "395:\tlearn: 0.2713162\ttotal: 2.88s\tremaining: 4.39s\n",
      "396:\tlearn: 0.2712928\ttotal: 2.88s\tremaining: 4.38s\n",
      "397:\tlearn: 0.2711954\ttotal: 2.89s\tremaining: 4.37s\n",
      "398:\tlearn: 0.2711341\ttotal: 2.9s\tremaining: 4.37s\n",
      "399:\tlearn: 0.2710761\ttotal: 2.91s\tremaining: 4.36s\n",
      "400:\tlearn: 0.2709595\ttotal: 2.91s\tremaining: 4.35s\n",
      "401:\tlearn: 0.2709259\ttotal: 2.92s\tremaining: 4.35s\n",
      "402:\tlearn: 0.2708854\ttotal: 2.93s\tremaining: 4.34s\n",
      "403:\tlearn: 0.2708415\ttotal: 2.94s\tremaining: 4.34s\n",
      "404:\tlearn: 0.2708013\ttotal: 2.95s\tremaining: 4.33s\n",
      "405:\tlearn: 0.2707152\ttotal: 2.95s\tremaining: 4.32s\n",
      "406:\tlearn: 0.2706273\ttotal: 2.96s\tremaining: 4.31s\n",
      "407:\tlearn: 0.2705747\ttotal: 2.97s\tremaining: 4.31s\n",
      "408:\tlearn: 0.2704902\ttotal: 2.98s\tremaining: 4.3s\n",
      "409:\tlearn: 0.2704397\ttotal: 2.98s\tremaining: 4.29s\n",
      "410:\tlearn: 0.2703573\ttotal: 2.99s\tremaining: 4.28s\n",
      "411:\tlearn: 0.2703052\ttotal: 3s\tremaining: 4.27s\n",
      "412:\tlearn: 0.2702492\ttotal: 3s\tremaining: 4.27s\n",
      "413:\tlearn: 0.2701972\ttotal: 3.01s\tremaining: 4.26s\n",
      "414:\tlearn: 0.2701515\ttotal: 3.01s\tremaining: 4.25s\n",
      "415:\tlearn: 0.2701034\ttotal: 3.02s\tremaining: 4.24s\n",
      "416:\tlearn: 0.2700766\ttotal: 3.03s\tremaining: 4.23s\n",
      "417:\tlearn: 0.2700341\ttotal: 3.03s\tremaining: 4.22s\n",
      "418:\tlearn: 0.2699830\ttotal: 3.04s\tremaining: 4.22s\n",
      "419:\tlearn: 0.2699507\ttotal: 3.05s\tremaining: 4.21s\n",
      "420:\tlearn: 0.2699034\ttotal: 3.05s\tremaining: 4.2s\n",
      "421:\tlearn: 0.2698382\ttotal: 3.06s\tremaining: 4.19s\n",
      "422:\tlearn: 0.2697865\ttotal: 3.07s\tremaining: 4.18s\n",
      "423:\tlearn: 0.2697404\ttotal: 3.07s\tremaining: 4.17s\n",
      "424:\tlearn: 0.2697144\ttotal: 3.08s\tremaining: 4.17s\n",
      "425:\tlearn: 0.2696613\ttotal: 3.09s\tremaining: 4.16s\n",
      "426:\tlearn: 0.2696274\ttotal: 3.1s\tremaining: 4.16s\n",
      "427:\tlearn: 0.2696034\ttotal: 3.11s\tremaining: 4.15s\n",
      "428:\tlearn: 0.2695561\ttotal: 3.12s\tremaining: 4.15s\n",
      "429:\tlearn: 0.2694874\ttotal: 3.12s\tremaining: 4.14s\n",
      "430:\tlearn: 0.2694464\ttotal: 3.13s\tremaining: 4.13s\n",
      "431:\tlearn: 0.2694285\ttotal: 3.14s\tremaining: 4.12s\n",
      "432:\tlearn: 0.2693893\ttotal: 3.14s\tremaining: 4.12s\n",
      "433:\tlearn: 0.2693409\ttotal: 3.15s\tremaining: 4.11s\n",
      "434:\tlearn: 0.2692874\ttotal: 3.16s\tremaining: 4.1s\n",
      "435:\tlearn: 0.2692537\ttotal: 3.16s\tremaining: 4.09s\n",
      "436:\tlearn: 0.2692282\ttotal: 3.17s\tremaining: 4.08s\n",
      "437:\tlearn: 0.2692049\ttotal: 3.18s\tremaining: 4.08s\n",
      "438:\tlearn: 0.2691456\ttotal: 3.19s\tremaining: 4.07s\n",
      "439:\tlearn: 0.2691001\ttotal: 3.19s\tremaining: 4.06s\n",
      "440:\tlearn: 0.2690652\ttotal: 3.2s\tremaining: 4.05s\n",
      "441:\tlearn: 0.2689872\ttotal: 3.2s\tremaining: 4.04s\n",
      "442:\tlearn: 0.2689150\ttotal: 3.21s\tremaining: 4.04s\n",
      "443:\tlearn: 0.2688638\ttotal: 3.22s\tremaining: 4.03s\n",
      "444:\tlearn: 0.2688179\ttotal: 3.23s\tremaining: 4.02s\n",
      "445:\tlearn: 0.2687722\ttotal: 3.23s\tremaining: 4.02s\n",
      "446:\tlearn: 0.2687521\ttotal: 3.24s\tremaining: 4.01s\n",
      "447:\tlearn: 0.2687105\ttotal: 3.25s\tremaining: 4s\n",
      "448:\tlearn: 0.2686466\ttotal: 3.26s\tremaining: 4s\n",
      "449:\tlearn: 0.2686121\ttotal: 3.26s\tremaining: 3.99s\n",
      "450:\tlearn: 0.2685701\ttotal: 3.27s\tremaining: 3.98s\n",
      "451:\tlearn: 0.2685258\ttotal: 3.28s\tremaining: 3.98s\n",
      "452:\tlearn: 0.2684900\ttotal: 3.29s\tremaining: 3.97s\n",
      "453:\tlearn: 0.2684595\ttotal: 3.3s\tremaining: 3.96s\n",
      "454:\tlearn: 0.2683957\ttotal: 3.3s\tremaining: 3.96s\n",
      "455:\tlearn: 0.2683433\ttotal: 3.31s\tremaining: 3.95s\n",
      "456:\tlearn: 0.2682835\ttotal: 3.32s\tremaining: 3.94s\n",
      "457:\tlearn: 0.2682258\ttotal: 3.32s\tremaining: 3.93s\n",
      "458:\tlearn: 0.2681785\ttotal: 3.33s\tremaining: 3.92s\n",
      "459:\tlearn: 0.2681282\ttotal: 3.34s\tremaining: 3.92s\n",
      "460:\tlearn: 0.2680748\ttotal: 3.34s\tremaining: 3.91s\n",
      "461:\tlearn: 0.2680523\ttotal: 3.35s\tremaining: 3.9s\n",
      "462:\tlearn: 0.2679857\ttotal: 3.36s\tremaining: 3.9s\n",
      "463:\tlearn: 0.2679486\ttotal: 3.37s\tremaining: 3.89s\n",
      "464:\tlearn: 0.2679243\ttotal: 3.38s\tremaining: 3.89s\n",
      "465:\tlearn: 0.2678845\ttotal: 3.38s\tremaining: 3.88s\n",
      "466:\tlearn: 0.2678251\ttotal: 3.39s\tremaining: 3.87s\n",
      "467:\tlearn: 0.2677727\ttotal: 3.4s\tremaining: 3.87s\n",
      "468:\tlearn: 0.2677162\ttotal: 3.41s\tremaining: 3.86s\n",
      "469:\tlearn: 0.2676603\ttotal: 3.42s\tremaining: 3.85s\n",
      "470:\tlearn: 0.2676168\ttotal: 3.42s\tremaining: 3.84s\n",
      "471:\tlearn: 0.2675710\ttotal: 3.43s\tremaining: 3.84s\n",
      "472:\tlearn: 0.2675538\ttotal: 3.44s\tremaining: 3.83s\n",
      "473:\tlearn: 0.2675050\ttotal: 3.45s\tremaining: 3.83s\n",
      "474:\tlearn: 0.2674493\ttotal: 3.46s\tremaining: 3.82s\n",
      "475:\tlearn: 0.2674014\ttotal: 3.46s\tremaining: 3.81s\n",
      "476:\tlearn: 0.2673645\ttotal: 3.47s\tremaining: 3.81s\n",
      "477:\tlearn: 0.2673430\ttotal: 3.48s\tremaining: 3.8s\n",
      "478:\tlearn: 0.2673019\ttotal: 3.49s\tremaining: 3.79s\n",
      "479:\tlearn: 0.2672596\ttotal: 3.5s\tremaining: 3.79s\n",
      "480:\tlearn: 0.2672164\ttotal: 3.5s\tremaining: 3.78s\n",
      "481:\tlearn: 0.2671174\ttotal: 3.51s\tremaining: 3.77s\n",
      "482:\tlearn: 0.2670846\ttotal: 3.52s\tremaining: 3.76s\n",
      "483:\tlearn: 0.2670466\ttotal: 3.52s\tremaining: 3.76s\n",
      "484:\tlearn: 0.2669896\ttotal: 3.53s\tremaining: 3.75s\n",
      "485:\tlearn: 0.2669443\ttotal: 3.54s\tremaining: 3.74s\n",
      "486:\tlearn: 0.2669073\ttotal: 3.54s\tremaining: 3.73s\n",
      "487:\tlearn: 0.2668873\ttotal: 3.55s\tremaining: 3.73s\n",
      "488:\tlearn: 0.2668354\ttotal: 3.56s\tremaining: 3.72s\n",
      "489:\tlearn: 0.2667957\ttotal: 3.56s\tremaining: 3.71s\n",
      "490:\tlearn: 0.2667759\ttotal: 3.57s\tremaining: 3.7s\n",
      "491:\tlearn: 0.2666649\ttotal: 3.58s\tremaining: 3.69s\n",
      "492:\tlearn: 0.2666350\ttotal: 3.58s\tremaining: 3.69s\n",
      "493:\tlearn: 0.2666147\ttotal: 3.59s\tremaining: 3.68s\n",
      "494:\tlearn: 0.2665687\ttotal: 3.6s\tremaining: 3.67s\n",
      "495:\tlearn: 0.2665195\ttotal: 3.6s\tremaining: 3.66s\n",
      "496:\tlearn: 0.2664777\ttotal: 3.61s\tremaining: 3.65s\n",
      "497:\tlearn: 0.2664125\ttotal: 3.62s\tremaining: 3.65s\n",
      "498:\tlearn: 0.2663554\ttotal: 3.63s\tremaining: 3.64s\n",
      "499:\tlearn: 0.2663182\ttotal: 3.63s\tremaining: 3.63s\n",
      "500:\tlearn: 0.2662667\ttotal: 3.64s\tremaining: 3.63s\n",
      "501:\tlearn: 0.2662219\ttotal: 3.65s\tremaining: 3.62s\n",
      "502:\tlearn: 0.2661825\ttotal: 3.66s\tremaining: 3.62s\n",
      "503:\tlearn: 0.2661193\ttotal: 3.67s\tremaining: 3.61s\n",
      "504:\tlearn: 0.2660725\ttotal: 3.67s\tremaining: 3.6s\n",
      "505:\tlearn: 0.2660315\ttotal: 3.68s\tremaining: 3.59s\n",
      "506:\tlearn: 0.2660241\ttotal: 3.69s\tremaining: 3.58s\n",
      "507:\tlearn: 0.2659850\ttotal: 3.69s\tremaining: 3.58s\n",
      "508:\tlearn: 0.2659420\ttotal: 3.7s\tremaining: 3.57s\n",
      "509:\tlearn: 0.2659012\ttotal: 3.71s\tremaining: 3.56s\n",
      "510:\tlearn: 0.2658677\ttotal: 3.71s\tremaining: 3.55s\n",
      "511:\tlearn: 0.2658296\ttotal: 3.72s\tremaining: 3.54s\n",
      "512:\tlearn: 0.2658201\ttotal: 3.73s\tremaining: 3.54s\n",
      "513:\tlearn: 0.2657711\ttotal: 3.73s\tremaining: 3.53s\n",
      "514:\tlearn: 0.2657535\ttotal: 3.74s\tremaining: 3.52s\n",
      "515:\tlearn: 0.2657240\ttotal: 3.74s\tremaining: 3.51s\n",
      "516:\tlearn: 0.2656882\ttotal: 3.75s\tremaining: 3.5s\n",
      "517:\tlearn: 0.2656650\ttotal: 3.76s\tremaining: 3.5s\n",
      "518:\tlearn: 0.2656218\ttotal: 3.76s\tremaining: 3.49s\n",
      "519:\tlearn: 0.2655691\ttotal: 3.77s\tremaining: 3.48s\n",
      "520:\tlearn: 0.2655253\ttotal: 3.77s\tremaining: 3.47s\n",
      "521:\tlearn: 0.2654847\ttotal: 3.78s\tremaining: 3.46s\n",
      "522:\tlearn: 0.2654192\ttotal: 3.79s\tremaining: 3.46s\n",
      "523:\tlearn: 0.2654002\ttotal: 3.8s\tremaining: 3.45s\n",
      "524:\tlearn: 0.2653677\ttotal: 3.8s\tremaining: 3.44s\n",
      "525:\tlearn: 0.2653244\ttotal: 3.81s\tremaining: 3.44s\n",
      "526:\tlearn: 0.2652875\ttotal: 3.82s\tremaining: 3.43s\n",
      "527:\tlearn: 0.2652485\ttotal: 3.83s\tremaining: 3.42s\n",
      "528:\tlearn: 0.2652212\ttotal: 3.84s\tremaining: 3.42s\n",
      "529:\tlearn: 0.2651721\ttotal: 3.84s\tremaining: 3.41s\n",
      "530:\tlearn: 0.2651411\ttotal: 3.85s\tremaining: 3.4s\n",
      "531:\tlearn: 0.2651115\ttotal: 3.86s\tremaining: 3.39s\n",
      "532:\tlearn: 0.2650947\ttotal: 3.86s\tremaining: 3.38s\n",
      "533:\tlearn: 0.2650373\ttotal: 3.87s\tremaining: 3.38s\n",
      "534:\tlearn: 0.2650015\ttotal: 3.88s\tremaining: 3.37s\n",
      "535:\tlearn: 0.2649601\ttotal: 3.88s\tremaining: 3.36s\n",
      "536:\tlearn: 0.2649153\ttotal: 3.89s\tremaining: 3.35s\n",
      "537:\tlearn: 0.2648840\ttotal: 3.9s\tremaining: 3.35s\n",
      "538:\tlearn: 0.2648194\ttotal: 3.9s\tremaining: 3.34s\n",
      "539:\tlearn: 0.2647914\ttotal: 3.91s\tremaining: 3.33s\n",
      "540:\tlearn: 0.2647294\ttotal: 3.92s\tremaining: 3.32s\n",
      "541:\tlearn: 0.2647040\ttotal: 3.92s\tremaining: 3.31s\n",
      "542:\tlearn: 0.2646588\ttotal: 3.93s\tremaining: 3.31s\n",
      "543:\tlearn: 0.2646116\ttotal: 3.94s\tremaining: 3.3s\n",
      "544:\tlearn: 0.2645839\ttotal: 3.94s\tremaining: 3.29s\n",
      "545:\tlearn: 0.2645435\ttotal: 3.95s\tremaining: 3.28s\n",
      "546:\tlearn: 0.2645072\ttotal: 3.96s\tremaining: 3.27s\n",
      "547:\tlearn: 0.2644876\ttotal: 3.96s\tremaining: 3.27s\n",
      "548:\tlearn: 0.2644546\ttotal: 3.97s\tremaining: 3.26s\n",
      "549:\tlearn: 0.2644370\ttotal: 3.98s\tremaining: 3.25s\n",
      "550:\tlearn: 0.2643969\ttotal: 3.98s\tremaining: 3.25s\n",
      "551:\tlearn: 0.2643842\ttotal: 3.99s\tremaining: 3.24s\n",
      "552:\tlearn: 0.2643334\ttotal: 4s\tremaining: 3.23s\n",
      "553:\tlearn: 0.2642990\ttotal: 4.01s\tremaining: 3.23s\n",
      "554:\tlearn: 0.2642446\ttotal: 4.01s\tremaining: 3.22s\n",
      "555:\tlearn: 0.2641879\ttotal: 4.02s\tremaining: 3.21s\n",
      "556:\tlearn: 0.2641539\ttotal: 4.03s\tremaining: 3.2s\n",
      "557:\tlearn: 0.2641198\ttotal: 4.03s\tremaining: 3.2s\n",
      "558:\tlearn: 0.2640841\ttotal: 4.04s\tremaining: 3.19s\n",
      "559:\tlearn: 0.2640610\ttotal: 4.05s\tremaining: 3.18s\n",
      "560:\tlearn: 0.2640361\ttotal: 4.05s\tremaining: 3.17s\n",
      "561:\tlearn: 0.2639808\ttotal: 4.06s\tremaining: 3.17s\n",
      "562:\tlearn: 0.2639500\ttotal: 4.07s\tremaining: 3.16s\n",
      "563:\tlearn: 0.2639383\ttotal: 4.07s\tremaining: 3.15s\n",
      "564:\tlearn: 0.2639079\ttotal: 4.08s\tremaining: 3.14s\n",
      "565:\tlearn: 0.2638623\ttotal: 4.09s\tremaining: 3.13s\n",
      "566:\tlearn: 0.2638447\ttotal: 4.09s\tremaining: 3.13s\n",
      "567:\tlearn: 0.2638043\ttotal: 4.1s\tremaining: 3.12s\n",
      "568:\tlearn: 0.2637678\ttotal: 4.11s\tremaining: 3.11s\n",
      "569:\tlearn: 0.2637296\ttotal: 4.11s\tremaining: 3.1s\n",
      "570:\tlearn: 0.2636880\ttotal: 4.12s\tremaining: 3.1s\n",
      "571:\tlearn: 0.2636536\ttotal: 4.13s\tremaining: 3.09s\n",
      "572:\tlearn: 0.2636052\ttotal: 4.13s\tremaining: 3.08s\n",
      "573:\tlearn: 0.2635596\ttotal: 4.14s\tremaining: 3.07s\n",
      "574:\tlearn: 0.2635238\ttotal: 4.14s\tremaining: 3.06s\n",
      "575:\tlearn: 0.2635102\ttotal: 4.15s\tremaining: 3.06s\n",
      "576:\tlearn: 0.2634665\ttotal: 4.16s\tremaining: 3.05s\n",
      "577:\tlearn: 0.2634289\ttotal: 4.17s\tremaining: 3.04s\n",
      "578:\tlearn: 0.2633547\ttotal: 4.18s\tremaining: 3.04s\n",
      "579:\tlearn: 0.2633225\ttotal: 4.18s\tremaining: 3.03s\n",
      "580:\tlearn: 0.2632805\ttotal: 4.19s\tremaining: 3.02s\n",
      "581:\tlearn: 0.2632537\ttotal: 4.2s\tremaining: 3.02s\n",
      "582:\tlearn: 0.2632176\ttotal: 4.21s\tremaining: 3.01s\n",
      "583:\tlearn: 0.2631858\ttotal: 4.22s\tremaining: 3s\n",
      "584:\tlearn: 0.2631354\ttotal: 4.22s\tremaining: 3s\n",
      "585:\tlearn: 0.2630629\ttotal: 4.23s\tremaining: 2.99s\n",
      "586:\tlearn: 0.2630304\ttotal: 4.24s\tremaining: 2.98s\n",
      "587:\tlearn: 0.2630040\ttotal: 4.25s\tremaining: 2.98s\n",
      "588:\tlearn: 0.2629836\ttotal: 4.25s\tremaining: 2.97s\n",
      "589:\tlearn: 0.2629762\ttotal: 4.26s\tremaining: 2.96s\n",
      "590:\tlearn: 0.2629379\ttotal: 4.27s\tremaining: 2.96s\n",
      "591:\tlearn: 0.2629285\ttotal: 4.28s\tremaining: 2.95s\n",
      "592:\tlearn: 0.2628945\ttotal: 4.28s\tremaining: 2.94s\n",
      "593:\tlearn: 0.2628735\ttotal: 4.29s\tremaining: 2.93s\n",
      "594:\tlearn: 0.2628184\ttotal: 4.3s\tremaining: 2.93s\n",
      "595:\tlearn: 0.2627867\ttotal: 4.31s\tremaining: 2.92s\n",
      "596:\tlearn: 0.2627771\ttotal: 4.31s\tremaining: 2.91s\n",
      "597:\tlearn: 0.2627209\ttotal: 4.32s\tremaining: 2.9s\n",
      "598:\tlearn: 0.2626824\ttotal: 4.33s\tremaining: 2.9s\n",
      "599:\tlearn: 0.2626641\ttotal: 4.34s\tremaining: 2.89s\n",
      "600:\tlearn: 0.2626359\ttotal: 4.35s\tremaining: 2.89s\n",
      "601:\tlearn: 0.2625752\ttotal: 4.36s\tremaining: 2.88s\n",
      "602:\tlearn: 0.2625289\ttotal: 4.36s\tremaining: 2.87s\n",
      "603:\tlearn: 0.2624972\ttotal: 4.37s\tremaining: 2.87s\n",
      "604:\tlearn: 0.2624524\ttotal: 4.38s\tremaining: 2.86s\n",
      "605:\tlearn: 0.2624218\ttotal: 4.39s\tremaining: 2.85s\n",
      "606:\tlearn: 0.2624062\ttotal: 4.4s\tremaining: 2.85s\n",
      "607:\tlearn: 0.2623602\ttotal: 4.41s\tremaining: 2.84s\n",
      "608:\tlearn: 0.2623143\ttotal: 4.41s\tremaining: 2.83s\n",
      "609:\tlearn: 0.2622961\ttotal: 4.42s\tremaining: 2.83s\n",
      "610:\tlearn: 0.2622788\ttotal: 4.43s\tremaining: 2.82s\n",
      "611:\tlearn: 0.2622489\ttotal: 4.44s\tremaining: 2.81s\n",
      "612:\tlearn: 0.2622178\ttotal: 4.44s\tremaining: 2.81s\n",
      "613:\tlearn: 0.2621666\ttotal: 4.45s\tremaining: 2.8s\n",
      "614:\tlearn: 0.2621453\ttotal: 4.46s\tremaining: 2.79s\n",
      "615:\tlearn: 0.2621299\ttotal: 4.46s\tremaining: 2.78s\n",
      "616:\tlearn: 0.2621252\ttotal: 4.47s\tremaining: 2.77s\n",
      "617:\tlearn: 0.2620934\ttotal: 4.48s\tremaining: 2.77s\n",
      "618:\tlearn: 0.2620535\ttotal: 4.49s\tremaining: 2.76s\n",
      "619:\tlearn: 0.2620390\ttotal: 4.49s\tremaining: 2.75s\n",
      "620:\tlearn: 0.2620139\ttotal: 4.5s\tremaining: 2.75s\n",
      "621:\tlearn: 0.2619831\ttotal: 4.5s\tremaining: 2.74s\n",
      "622:\tlearn: 0.2619337\ttotal: 4.51s\tremaining: 2.73s\n",
      "623:\tlearn: 0.2619035\ttotal: 4.52s\tremaining: 2.72s\n",
      "624:\tlearn: 0.2618936\ttotal: 4.53s\tremaining: 2.72s\n",
      "625:\tlearn: 0.2618557\ttotal: 4.54s\tremaining: 2.71s\n",
      "626:\tlearn: 0.2618183\ttotal: 4.54s\tremaining: 2.7s\n",
      "627:\tlearn: 0.2617989\ttotal: 4.55s\tremaining: 2.69s\n",
      "628:\tlearn: 0.2617521\ttotal: 4.56s\tremaining: 2.69s\n",
      "629:\tlearn: 0.2617307\ttotal: 4.59s\tremaining: 2.7s\n",
      "630:\tlearn: 0.2616724\ttotal: 4.61s\tremaining: 2.69s\n",
      "631:\tlearn: 0.2616604\ttotal: 4.62s\tremaining: 2.69s\n",
      "632:\tlearn: 0.2616480\ttotal: 4.63s\tremaining: 2.68s\n",
      "633:\tlearn: 0.2615898\ttotal: 4.64s\tremaining: 2.68s\n",
      "634:\tlearn: 0.2615593\ttotal: 4.65s\tremaining: 2.67s\n",
      "635:\tlearn: 0.2615181\ttotal: 4.66s\tremaining: 2.67s\n",
      "636:\tlearn: 0.2614828\ttotal: 4.67s\tremaining: 2.66s\n",
      "637:\tlearn: 0.2614628\ttotal: 4.68s\tremaining: 2.65s\n",
      "638:\tlearn: 0.2614566\ttotal: 4.68s\tremaining: 2.65s\n",
      "639:\tlearn: 0.2614228\ttotal: 4.69s\tremaining: 2.64s\n",
      "640:\tlearn: 0.2613873\ttotal: 4.7s\tremaining: 2.63s\n",
      "641:\tlearn: 0.2613409\ttotal: 4.71s\tremaining: 2.63s\n",
      "642:\tlearn: 0.2613003\ttotal: 4.72s\tremaining: 2.62s\n",
      "643:\tlearn: 0.2612516\ttotal: 4.72s\tremaining: 2.61s\n",
      "644:\tlearn: 0.2612250\ttotal: 4.73s\tremaining: 2.6s\n",
      "645:\tlearn: 0.2611967\ttotal: 4.74s\tremaining: 2.6s\n",
      "646:\tlearn: 0.2611833\ttotal: 4.75s\tremaining: 2.59s\n",
      "647:\tlearn: 0.2611230\ttotal: 4.76s\tremaining: 2.58s\n",
      "648:\tlearn: 0.2611137\ttotal: 4.77s\tremaining: 2.58s\n",
      "649:\tlearn: 0.2610918\ttotal: 4.77s\tremaining: 2.57s\n",
      "650:\tlearn: 0.2610600\ttotal: 4.78s\tremaining: 2.56s\n",
      "651:\tlearn: 0.2610210\ttotal: 4.79s\tremaining: 2.56s\n",
      "652:\tlearn: 0.2609900\ttotal: 4.8s\tremaining: 2.55s\n",
      "653:\tlearn: 0.2609626\ttotal: 4.8s\tremaining: 2.54s\n",
      "654:\tlearn: 0.2609375\ttotal: 4.81s\tremaining: 2.53s\n",
      "655:\tlearn: 0.2608956\ttotal: 4.82s\tremaining: 2.53s\n",
      "656:\tlearn: 0.2608516\ttotal: 4.83s\tremaining: 2.52s\n",
      "657:\tlearn: 0.2608159\ttotal: 4.83s\tremaining: 2.51s\n",
      "658:\tlearn: 0.2607839\ttotal: 4.84s\tremaining: 2.5s\n",
      "659:\tlearn: 0.2607645\ttotal: 4.85s\tremaining: 2.5s\n",
      "660:\tlearn: 0.2607264\ttotal: 4.85s\tremaining: 2.49s\n",
      "661:\tlearn: 0.2606945\ttotal: 4.86s\tremaining: 2.48s\n",
      "662:\tlearn: 0.2606580\ttotal: 4.87s\tremaining: 2.47s\n",
      "663:\tlearn: 0.2606142\ttotal: 4.87s\tremaining: 2.47s\n",
      "664:\tlearn: 0.2605910\ttotal: 4.88s\tremaining: 2.46s\n",
      "665:\tlearn: 0.2605575\ttotal: 4.89s\tremaining: 2.45s\n",
      "666:\tlearn: 0.2605336\ttotal: 4.9s\tremaining: 2.44s\n",
      "667:\tlearn: 0.2604951\ttotal: 4.91s\tremaining: 2.44s\n",
      "668:\tlearn: 0.2604733\ttotal: 4.91s\tremaining: 2.43s\n",
      "669:\tlearn: 0.2604111\ttotal: 4.92s\tremaining: 2.42s\n",
      "670:\tlearn: 0.2603946\ttotal: 4.93s\tremaining: 2.42s\n",
      "671:\tlearn: 0.2603750\ttotal: 4.94s\tremaining: 2.41s\n",
      "672:\tlearn: 0.2603650\ttotal: 4.94s\tremaining: 2.4s\n",
      "673:\tlearn: 0.2603453\ttotal: 4.95s\tremaining: 2.4s\n",
      "674:\tlearn: 0.2603085\ttotal: 4.96s\tremaining: 2.39s\n",
      "675:\tlearn: 0.2602856\ttotal: 4.96s\tremaining: 2.38s\n",
      "676:\tlearn: 0.2602576\ttotal: 4.97s\tremaining: 2.37s\n",
      "677:\tlearn: 0.2602372\ttotal: 4.98s\tremaining: 2.36s\n",
      "678:\tlearn: 0.2602020\ttotal: 4.99s\tremaining: 2.36s\n",
      "679:\tlearn: 0.2601621\ttotal: 4.99s\tremaining: 2.35s\n",
      "680:\tlearn: 0.2601328\ttotal: 5s\tremaining: 2.34s\n",
      "681:\tlearn: 0.2601001\ttotal: 5s\tremaining: 2.33s\n",
      "682:\tlearn: 0.2600756\ttotal: 5.01s\tremaining: 2.33s\n",
      "683:\tlearn: 0.2600186\ttotal: 5.02s\tremaining: 2.32s\n",
      "684:\tlearn: 0.2599664\ttotal: 5.03s\tremaining: 2.31s\n",
      "685:\tlearn: 0.2598743\ttotal: 5.03s\tremaining: 2.3s\n",
      "686:\tlearn: 0.2598481\ttotal: 5.04s\tremaining: 2.29s\n",
      "687:\tlearn: 0.2598165\ttotal: 5.04s\tremaining: 2.29s\n",
      "688:\tlearn: 0.2598012\ttotal: 5.05s\tremaining: 2.28s\n",
      "689:\tlearn: 0.2597861\ttotal: 5.06s\tremaining: 2.27s\n",
      "690:\tlearn: 0.2597703\ttotal: 5.07s\tremaining: 2.27s\n",
      "691:\tlearn: 0.2597570\ttotal: 5.08s\tremaining: 2.26s\n",
      "692:\tlearn: 0.2597428\ttotal: 5.08s\tremaining: 2.25s\n",
      "693:\tlearn: 0.2597038\ttotal: 5.09s\tremaining: 2.24s\n",
      "694:\tlearn: 0.2596676\ttotal: 5.1s\tremaining: 2.24s\n",
      "695:\tlearn: 0.2596419\ttotal: 5.11s\tremaining: 2.23s\n",
      "696:\tlearn: 0.2596179\ttotal: 5.11s\tremaining: 2.22s\n",
      "697:\tlearn: 0.2595777\ttotal: 5.12s\tremaining: 2.21s\n",
      "698:\tlearn: 0.2595427\ttotal: 5.13s\tremaining: 2.21s\n",
      "699:\tlearn: 0.2595335\ttotal: 5.13s\tremaining: 2.2s\n",
      "700:\tlearn: 0.2595093\ttotal: 5.14s\tremaining: 2.19s\n",
      "701:\tlearn: 0.2594998\ttotal: 5.15s\tremaining: 2.18s\n",
      "702:\tlearn: 0.2594672\ttotal: 5.15s\tremaining: 2.18s\n",
      "703:\tlearn: 0.2594316\ttotal: 5.16s\tremaining: 2.17s\n",
      "704:\tlearn: 0.2594005\ttotal: 5.17s\tremaining: 2.16s\n",
      "705:\tlearn: 0.2593816\ttotal: 5.17s\tremaining: 2.15s\n",
      "706:\tlearn: 0.2593416\ttotal: 5.18s\tremaining: 2.15s\n",
      "707:\tlearn: 0.2593175\ttotal: 5.19s\tremaining: 2.14s\n",
      "708:\tlearn: 0.2592391\ttotal: 5.19s\tremaining: 2.13s\n",
      "709:\tlearn: 0.2592176\ttotal: 5.2s\tremaining: 2.12s\n",
      "710:\tlearn: 0.2591945\ttotal: 5.21s\tremaining: 2.12s\n",
      "711:\tlearn: 0.2591532\ttotal: 5.21s\tremaining: 2.11s\n",
      "712:\tlearn: 0.2591269\ttotal: 5.22s\tremaining: 2.1s\n",
      "713:\tlearn: 0.2591145\ttotal: 5.22s\tremaining: 2.09s\n",
      "714:\tlearn: 0.2590778\ttotal: 5.23s\tremaining: 2.08s\n",
      "715:\tlearn: 0.2590432\ttotal: 5.24s\tremaining: 2.08s\n",
      "716:\tlearn: 0.2590184\ttotal: 5.25s\tremaining: 2.07s\n",
      "717:\tlearn: 0.2589855\ttotal: 5.26s\tremaining: 2.06s\n",
      "718:\tlearn: 0.2589495\ttotal: 5.26s\tremaining: 2.06s\n",
      "719:\tlearn: 0.2589084\ttotal: 5.27s\tremaining: 2.05s\n",
      "720:\tlearn: 0.2588521\ttotal: 5.28s\tremaining: 2.04s\n",
      "721:\tlearn: 0.2588205\ttotal: 5.29s\tremaining: 2.04s\n",
      "722:\tlearn: 0.2587869\ttotal: 5.3s\tremaining: 2.03s\n",
      "723:\tlearn: 0.2587589\ttotal: 5.3s\tremaining: 2.02s\n",
      "724:\tlearn: 0.2587518\ttotal: 5.31s\tremaining: 2.02s\n",
      "725:\tlearn: 0.2586800\ttotal: 5.32s\tremaining: 2.01s\n",
      "726:\tlearn: 0.2586447\ttotal: 5.33s\tremaining: 2s\n",
      "727:\tlearn: 0.2586260\ttotal: 5.33s\tremaining: 1.99s\n",
      "728:\tlearn: 0.2585805\ttotal: 5.34s\tremaining: 1.99s\n",
      "729:\tlearn: 0.2585562\ttotal: 5.35s\tremaining: 1.98s\n",
      "730:\tlearn: 0.2585251\ttotal: 5.36s\tremaining: 1.97s\n",
      "731:\tlearn: 0.2584556\ttotal: 5.36s\tremaining: 1.96s\n",
      "732:\tlearn: 0.2584184\ttotal: 5.37s\tremaining: 1.96s\n",
      "733:\tlearn: 0.2583995\ttotal: 5.38s\tremaining: 1.95s\n",
      "734:\tlearn: 0.2583679\ttotal: 5.38s\tremaining: 1.94s\n",
      "735:\tlearn: 0.2583345\ttotal: 5.39s\tremaining: 1.93s\n",
      "736:\tlearn: 0.2583075\ttotal: 5.4s\tremaining: 1.93s\n",
      "737:\tlearn: 0.2582797\ttotal: 5.41s\tremaining: 1.92s\n",
      "738:\tlearn: 0.2582641\ttotal: 5.41s\tremaining: 1.91s\n",
      "739:\tlearn: 0.2582330\ttotal: 5.42s\tremaining: 1.9s\n",
      "740:\tlearn: 0.2582012\ttotal: 5.43s\tremaining: 1.9s\n",
      "741:\tlearn: 0.2581854\ttotal: 5.44s\tremaining: 1.89s\n",
      "742:\tlearn: 0.2581222\ttotal: 5.44s\tremaining: 1.88s\n",
      "743:\tlearn: 0.2580793\ttotal: 5.45s\tremaining: 1.88s\n",
      "744:\tlearn: 0.2580693\ttotal: 5.46s\tremaining: 1.87s\n",
      "745:\tlearn: 0.2580386\ttotal: 5.47s\tremaining: 1.86s\n",
      "746:\tlearn: 0.2580088\ttotal: 5.48s\tremaining: 1.85s\n",
      "747:\tlearn: 0.2579810\ttotal: 5.49s\tremaining: 1.85s\n",
      "748:\tlearn: 0.2579382\ttotal: 5.49s\tremaining: 1.84s\n",
      "749:\tlearn: 0.2579327\ttotal: 5.5s\tremaining: 1.83s\n",
      "750:\tlearn: 0.2579211\ttotal: 5.5s\tremaining: 1.82s\n",
      "751:\tlearn: 0.2578828\ttotal: 5.51s\tremaining: 1.82s\n",
      "752:\tlearn: 0.2578610\ttotal: 5.52s\tremaining: 1.81s\n",
      "753:\tlearn: 0.2578450\ttotal: 5.53s\tremaining: 1.8s\n",
      "754:\tlearn: 0.2578275\ttotal: 5.53s\tremaining: 1.79s\n",
      "755:\tlearn: 0.2578050\ttotal: 5.54s\tremaining: 1.79s\n",
      "756:\tlearn: 0.2577870\ttotal: 5.55s\tremaining: 1.78s\n",
      "757:\tlearn: 0.2577583\ttotal: 5.55s\tremaining: 1.77s\n",
      "758:\tlearn: 0.2577160\ttotal: 5.56s\tremaining: 1.77s\n",
      "759:\tlearn: 0.2576820\ttotal: 5.57s\tremaining: 1.76s\n",
      "760:\tlearn: 0.2576442\ttotal: 5.58s\tremaining: 1.75s\n",
      "761:\tlearn: 0.2576209\ttotal: 5.59s\tremaining: 1.74s\n",
      "762:\tlearn: 0.2576061\ttotal: 5.59s\tremaining: 1.74s\n",
      "763:\tlearn: 0.2575541\ttotal: 5.6s\tremaining: 1.73s\n",
      "764:\tlearn: 0.2575355\ttotal: 5.61s\tremaining: 1.72s\n",
      "765:\tlearn: 0.2574997\ttotal: 5.62s\tremaining: 1.72s\n",
      "766:\tlearn: 0.2574708\ttotal: 5.63s\tremaining: 1.71s\n",
      "767:\tlearn: 0.2574484\ttotal: 5.63s\tremaining: 1.7s\n",
      "768:\tlearn: 0.2574299\ttotal: 5.64s\tremaining: 1.7s\n",
      "769:\tlearn: 0.2574010\ttotal: 5.65s\tremaining: 1.69s\n",
      "770:\tlearn: 0.2573684\ttotal: 5.66s\tremaining: 1.68s\n",
      "771:\tlearn: 0.2573455\ttotal: 5.67s\tremaining: 1.67s\n",
      "772:\tlearn: 0.2573371\ttotal: 5.67s\tremaining: 1.67s\n",
      "773:\tlearn: 0.2573051\ttotal: 5.68s\tremaining: 1.66s\n",
      "774:\tlearn: 0.2572723\ttotal: 5.69s\tremaining: 1.65s\n",
      "775:\tlearn: 0.2572673\ttotal: 5.69s\tremaining: 1.64s\n",
      "776:\tlearn: 0.2572540\ttotal: 5.7s\tremaining: 1.64s\n",
      "777:\tlearn: 0.2572022\ttotal: 5.71s\tremaining: 1.63s\n",
      "778:\tlearn: 0.2571860\ttotal: 5.71s\tremaining: 1.62s\n",
      "779:\tlearn: 0.2571345\ttotal: 5.72s\tremaining: 1.61s\n",
      "780:\tlearn: 0.2571158\ttotal: 5.73s\tremaining: 1.6s\n",
      "781:\tlearn: 0.2571012\ttotal: 5.73s\tremaining: 1.6s\n",
      "782:\tlearn: 0.2570733\ttotal: 5.74s\tremaining: 1.59s\n",
      "783:\tlearn: 0.2570380\ttotal: 5.75s\tremaining: 1.58s\n",
      "784:\tlearn: 0.2570042\ttotal: 5.75s\tremaining: 1.57s\n",
      "785:\tlearn: 0.2569844\ttotal: 5.76s\tremaining: 1.57s\n",
      "786:\tlearn: 0.2569594\ttotal: 5.76s\tremaining: 1.56s\n",
      "787:\tlearn: 0.2569370\ttotal: 5.77s\tremaining: 1.55s\n",
      "788:\tlearn: 0.2569200\ttotal: 5.78s\tremaining: 1.54s\n",
      "789:\tlearn: 0.2569036\ttotal: 5.78s\tremaining: 1.54s\n",
      "790:\tlearn: 0.2568618\ttotal: 5.79s\tremaining: 1.53s\n",
      "791:\tlearn: 0.2568261\ttotal: 5.8s\tremaining: 1.52s\n",
      "792:\tlearn: 0.2567984\ttotal: 5.81s\tremaining: 1.52s\n",
      "793:\tlearn: 0.2567895\ttotal: 5.82s\tremaining: 1.51s\n",
      "794:\tlearn: 0.2567395\ttotal: 5.82s\tremaining: 1.5s\n",
      "795:\tlearn: 0.2567114\ttotal: 5.83s\tremaining: 1.49s\n",
      "796:\tlearn: 0.2566765\ttotal: 5.84s\tremaining: 1.49s\n",
      "797:\tlearn: 0.2566414\ttotal: 5.85s\tremaining: 1.48s\n",
      "798:\tlearn: 0.2566147\ttotal: 5.86s\tremaining: 1.47s\n",
      "799:\tlearn: 0.2565735\ttotal: 5.86s\tremaining: 1.47s\n",
      "800:\tlearn: 0.2565602\ttotal: 5.87s\tremaining: 1.46s\n",
      "801:\tlearn: 0.2565217\ttotal: 5.88s\tremaining: 1.45s\n",
      "802:\tlearn: 0.2565040\ttotal: 5.89s\tremaining: 1.44s\n",
      "803:\tlearn: 0.2564573\ttotal: 5.89s\tremaining: 1.44s\n",
      "804:\tlearn: 0.2564331\ttotal: 5.9s\tremaining: 1.43s\n",
      "805:\tlearn: 0.2564085\ttotal: 5.91s\tremaining: 1.42s\n",
      "806:\tlearn: 0.2563552\ttotal: 5.91s\tremaining: 1.41s\n",
      "807:\tlearn: 0.2563286\ttotal: 5.92s\tremaining: 1.41s\n",
      "808:\tlearn: 0.2563068\ttotal: 5.93s\tremaining: 1.4s\n",
      "809:\tlearn: 0.2562690\ttotal: 5.93s\tremaining: 1.39s\n",
      "810:\tlearn: 0.2562603\ttotal: 5.94s\tremaining: 1.38s\n",
      "811:\tlearn: 0.2562556\ttotal: 5.95s\tremaining: 1.38s\n",
      "812:\tlearn: 0.2562292\ttotal: 5.95s\tremaining: 1.37s\n",
      "813:\tlearn: 0.2561991\ttotal: 5.96s\tremaining: 1.36s\n",
      "814:\tlearn: 0.2561732\ttotal: 5.97s\tremaining: 1.35s\n",
      "815:\tlearn: 0.2561416\ttotal: 5.97s\tremaining: 1.35s\n",
      "816:\tlearn: 0.2561252\ttotal: 5.98s\tremaining: 1.34s\n",
      "817:\tlearn: 0.2560996\ttotal: 5.99s\tremaining: 1.33s\n",
      "818:\tlearn: 0.2560748\ttotal: 6s\tremaining: 1.32s\n",
      "819:\tlearn: 0.2560643\ttotal: 6s\tremaining: 1.32s\n",
      "820:\tlearn: 0.2560388\ttotal: 6.01s\tremaining: 1.31s\n",
      "821:\tlearn: 0.2560188\ttotal: 6.02s\tremaining: 1.3s\n",
      "822:\tlearn: 0.2559950\ttotal: 6.03s\tremaining: 1.3s\n",
      "823:\tlearn: 0.2559680\ttotal: 6.04s\tremaining: 1.29s\n",
      "824:\tlearn: 0.2559446\ttotal: 6.04s\tremaining: 1.28s\n",
      "825:\tlearn: 0.2559315\ttotal: 6.05s\tremaining: 1.27s\n",
      "826:\tlearn: 0.2559159\ttotal: 6.05s\tremaining: 1.27s\n",
      "827:\tlearn: 0.2558817\ttotal: 6.06s\tremaining: 1.26s\n",
      "828:\tlearn: 0.2558508\ttotal: 6.07s\tremaining: 1.25s\n",
      "829:\tlearn: 0.2558411\ttotal: 6.08s\tremaining: 1.24s\n",
      "830:\tlearn: 0.2558049\ttotal: 6.08s\tremaining: 1.24s\n",
      "831:\tlearn: 0.2557812\ttotal: 6.09s\tremaining: 1.23s\n",
      "832:\tlearn: 0.2557722\ttotal: 6.1s\tremaining: 1.22s\n",
      "833:\tlearn: 0.2557301\ttotal: 6.1s\tremaining: 1.21s\n",
      "834:\tlearn: 0.2556978\ttotal: 6.11s\tremaining: 1.21s\n",
      "835:\tlearn: 0.2556830\ttotal: 6.12s\tremaining: 1.2s\n",
      "836:\tlearn: 0.2556627\ttotal: 6.12s\tremaining: 1.19s\n",
      "837:\tlearn: 0.2556336\ttotal: 6.13s\tremaining: 1.18s\n",
      "838:\tlearn: 0.2556194\ttotal: 6.13s\tremaining: 1.18s\n",
      "839:\tlearn: 0.2556016\ttotal: 6.14s\tremaining: 1.17s\n",
      "840:\tlearn: 0.2555843\ttotal: 6.15s\tremaining: 1.16s\n",
      "841:\tlearn: 0.2555594\ttotal: 6.16s\tremaining: 1.16s\n",
      "842:\tlearn: 0.2555376\ttotal: 6.16s\tremaining: 1.15s\n",
      "843:\tlearn: 0.2555156\ttotal: 6.17s\tremaining: 1.14s\n",
      "844:\tlearn: 0.2554863\ttotal: 6.18s\tremaining: 1.13s\n",
      "845:\tlearn: 0.2554600\ttotal: 6.19s\tremaining: 1.13s\n",
      "846:\tlearn: 0.2554349\ttotal: 6.19s\tremaining: 1.12s\n",
      "847:\tlearn: 0.2554109\ttotal: 6.2s\tremaining: 1.11s\n",
      "848:\tlearn: 0.2553899\ttotal: 6.21s\tremaining: 1.1s\n",
      "849:\tlearn: 0.2553683\ttotal: 6.22s\tremaining: 1.1s\n",
      "850:\tlearn: 0.2553521\ttotal: 6.22s\tremaining: 1.09s\n",
      "851:\tlearn: 0.2553369\ttotal: 6.23s\tremaining: 1.08s\n",
      "852:\tlearn: 0.2553261\ttotal: 6.24s\tremaining: 1.07s\n",
      "853:\tlearn: 0.2553078\ttotal: 6.24s\tremaining: 1.07s\n",
      "854:\tlearn: 0.2553004\ttotal: 6.25s\tremaining: 1.06s\n",
      "855:\tlearn: 0.2552944\ttotal: 6.26s\tremaining: 1.05s\n",
      "856:\tlearn: 0.2552788\ttotal: 6.27s\tremaining: 1.04s\n",
      "857:\tlearn: 0.2552700\ttotal: 6.27s\tremaining: 1.04s\n",
      "858:\tlearn: 0.2552480\ttotal: 6.28s\tremaining: 1.03s\n",
      "859:\tlearn: 0.2552324\ttotal: 6.29s\tremaining: 1.02s\n",
      "860:\tlearn: 0.2551892\ttotal: 6.29s\tremaining: 1.02s\n",
      "861:\tlearn: 0.2551804\ttotal: 6.3s\tremaining: 1.01s\n",
      "862:\tlearn: 0.2551341\ttotal: 6.31s\tremaining: 1s\n",
      "863:\tlearn: 0.2550788\ttotal: 6.32s\tremaining: 994ms\n",
      "864:\tlearn: 0.2550627\ttotal: 6.32s\tremaining: 987ms\n",
      "865:\tlearn: 0.2550144\ttotal: 6.33s\tremaining: 980ms\n",
      "866:\tlearn: 0.2550092\ttotal: 6.34s\tremaining: 973ms\n",
      "867:\tlearn: 0.2549732\ttotal: 6.35s\tremaining: 965ms\n",
      "868:\tlearn: 0.2549145\ttotal: 6.36s\tremaining: 958ms\n",
      "869:\tlearn: 0.2548915\ttotal: 6.36s\tremaining: 951ms\n",
      "870:\tlearn: 0.2548732\ttotal: 6.37s\tremaining: 944ms\n",
      "871:\tlearn: 0.2548581\ttotal: 6.38s\tremaining: 936ms\n",
      "872:\tlearn: 0.2548316\ttotal: 6.39s\tremaining: 929ms\n",
      "873:\tlearn: 0.2548013\ttotal: 6.4s\tremaining: 922ms\n",
      "874:\tlearn: 0.2547796\ttotal: 6.4s\tremaining: 915ms\n",
      "875:\tlearn: 0.2547464\ttotal: 6.41s\tremaining: 907ms\n",
      "876:\tlearn: 0.2547264\ttotal: 6.42s\tremaining: 900ms\n",
      "877:\tlearn: 0.2547005\ttotal: 6.42s\tremaining: 893ms\n",
      "878:\tlearn: 0.2546702\ttotal: 6.43s\tremaining: 885ms\n",
      "879:\tlearn: 0.2546550\ttotal: 6.44s\tremaining: 878ms\n",
      "880:\tlearn: 0.2546263\ttotal: 6.44s\tremaining: 870ms\n",
      "881:\tlearn: 0.2546092\ttotal: 6.45s\tremaining: 863ms\n",
      "882:\tlearn: 0.2545774\ttotal: 6.46s\tremaining: 855ms\n",
      "883:\tlearn: 0.2545667\ttotal: 6.46s\tremaining: 848ms\n",
      "884:\tlearn: 0.2545580\ttotal: 6.47s\tremaining: 841ms\n",
      "885:\tlearn: 0.2545353\ttotal: 6.47s\tremaining: 833ms\n",
      "886:\tlearn: 0.2545152\ttotal: 6.48s\tremaining: 826ms\n",
      "887:\tlearn: 0.2544925\ttotal: 6.49s\tremaining: 818ms\n",
      "888:\tlearn: 0.2544689\ttotal: 6.5s\tremaining: 811ms\n",
      "889:\tlearn: 0.2544642\ttotal: 6.5s\tremaining: 804ms\n",
      "890:\tlearn: 0.2544182\ttotal: 6.51s\tremaining: 796ms\n",
      "891:\tlearn: 0.2543849\ttotal: 6.52s\tremaining: 789ms\n",
      "892:\tlearn: 0.2543544\ttotal: 6.52s\tremaining: 782ms\n",
      "893:\tlearn: 0.2543260\ttotal: 6.53s\tremaining: 774ms\n",
      "894:\tlearn: 0.2543084\ttotal: 6.54s\tremaining: 767ms\n",
      "895:\tlearn: 0.2542776\ttotal: 6.54s\tremaining: 760ms\n",
      "896:\tlearn: 0.2542757\ttotal: 6.55s\tremaining: 752ms\n",
      "897:\tlearn: 0.2542624\ttotal: 6.56s\tremaining: 745ms\n",
      "898:\tlearn: 0.2542201\ttotal: 6.57s\tremaining: 738ms\n",
      "899:\tlearn: 0.2542112\ttotal: 6.58s\tremaining: 731ms\n",
      "900:\tlearn: 0.2541763\ttotal: 6.58s\tremaining: 724ms\n",
      "901:\tlearn: 0.2541522\ttotal: 6.59s\tremaining: 716ms\n",
      "902:\tlearn: 0.2541436\ttotal: 6.6s\tremaining: 709ms\n",
      "903:\tlearn: 0.2541116\ttotal: 6.61s\tremaining: 702ms\n",
      "904:\tlearn: 0.2540768\ttotal: 6.61s\tremaining: 694ms\n",
      "905:\tlearn: 0.2540491\ttotal: 6.62s\tremaining: 687ms\n",
      "906:\tlearn: 0.2540244\ttotal: 6.62s\tremaining: 679ms\n",
      "907:\tlearn: 0.2539932\ttotal: 6.63s\tremaining: 672ms\n",
      "908:\tlearn: 0.2539830\ttotal: 6.64s\tremaining: 665ms\n",
      "909:\tlearn: 0.2539597\ttotal: 6.64s\tremaining: 657ms\n",
      "910:\tlearn: 0.2539374\ttotal: 6.65s\tremaining: 650ms\n",
      "911:\tlearn: 0.2539066\ttotal: 6.66s\tremaining: 643ms\n",
      "912:\tlearn: 0.2538895\ttotal: 6.67s\tremaining: 635ms\n",
      "913:\tlearn: 0.2538531\ttotal: 6.67s\tremaining: 628ms\n",
      "914:\tlearn: 0.2538337\ttotal: 6.68s\tremaining: 620ms\n",
      "915:\tlearn: 0.2538158\ttotal: 6.68s\tremaining: 613ms\n",
      "916:\tlearn: 0.2537779\ttotal: 6.69s\tremaining: 606ms\n",
      "917:\tlearn: 0.2537489\ttotal: 6.7s\tremaining: 599ms\n",
      "918:\tlearn: 0.2537230\ttotal: 6.71s\tremaining: 591ms\n",
      "919:\tlearn: 0.2536967\ttotal: 6.72s\tremaining: 584ms\n",
      "920:\tlearn: 0.2536706\ttotal: 6.72s\tremaining: 577ms\n",
      "921:\tlearn: 0.2536553\ttotal: 6.73s\tremaining: 570ms\n",
      "922:\tlearn: 0.2536423\ttotal: 6.74s\tremaining: 562ms\n",
      "923:\tlearn: 0.2536407\ttotal: 6.75s\tremaining: 555ms\n",
      "924:\tlearn: 0.2536019\ttotal: 6.76s\tremaining: 548ms\n",
      "925:\tlearn: 0.2535839\ttotal: 6.76s\tremaining: 541ms\n",
      "926:\tlearn: 0.2535369\ttotal: 6.77s\tremaining: 533ms\n",
      "927:\tlearn: 0.2535259\ttotal: 6.78s\tremaining: 526ms\n",
      "928:\tlearn: 0.2535191\ttotal: 6.79s\tremaining: 519ms\n",
      "929:\tlearn: 0.2535137\ttotal: 6.79s\tremaining: 511ms\n",
      "930:\tlearn: 0.2534727\ttotal: 6.8s\tremaining: 504ms\n",
      "931:\tlearn: 0.2534681\ttotal: 6.8s\tremaining: 496ms\n",
      "932:\tlearn: 0.2534501\ttotal: 6.81s\tremaining: 489ms\n",
      "933:\tlearn: 0.2534125\ttotal: 6.82s\tremaining: 482ms\n",
      "934:\tlearn: 0.2534066\ttotal: 6.82s\tremaining: 474ms\n",
      "935:\tlearn: 0.2533654\ttotal: 6.83s\tremaining: 467ms\n",
      "936:\tlearn: 0.2533624\ttotal: 6.84s\tremaining: 460ms\n",
      "937:\tlearn: 0.2533578\ttotal: 6.84s\tremaining: 452ms\n",
      "938:\tlearn: 0.2533391\ttotal: 6.85s\tremaining: 445ms\n",
      "939:\tlearn: 0.2533130\ttotal: 6.86s\tremaining: 438ms\n",
      "940:\tlearn: 0.2532746\ttotal: 6.86s\tremaining: 430ms\n",
      "941:\tlearn: 0.2532469\ttotal: 6.87s\tremaining: 423ms\n",
      "942:\tlearn: 0.2532201\ttotal: 6.88s\tremaining: 416ms\n",
      "943:\tlearn: 0.2532188\ttotal: 6.89s\tremaining: 409ms\n",
      "944:\tlearn: 0.2531868\ttotal: 6.89s\tremaining: 401ms\n",
      "945:\tlearn: 0.2531392\ttotal: 6.9s\tremaining: 394ms\n",
      "946:\tlearn: 0.2531222\ttotal: 6.91s\tremaining: 387ms\n",
      "947:\tlearn: 0.2530798\ttotal: 6.92s\tremaining: 380ms\n",
      "948:\tlearn: 0.2530737\ttotal: 6.93s\tremaining: 372ms\n",
      "949:\tlearn: 0.2530416\ttotal: 6.94s\tremaining: 365ms\n",
      "950:\tlearn: 0.2530269\ttotal: 6.94s\tremaining: 358ms\n",
      "951:\tlearn: 0.2529800\ttotal: 6.95s\tremaining: 351ms\n",
      "952:\tlearn: 0.2529563\ttotal: 6.96s\tremaining: 343ms\n",
      "953:\tlearn: 0.2529131\ttotal: 6.96s\tremaining: 336ms\n",
      "954:\tlearn: 0.2528782\ttotal: 6.97s\tremaining: 328ms\n",
      "955:\tlearn: 0.2528515\ttotal: 6.98s\tremaining: 321ms\n",
      "956:\tlearn: 0.2528062\ttotal: 6.98s\tremaining: 314ms\n",
      "957:\tlearn: 0.2527679\ttotal: 6.99s\tremaining: 307ms\n",
      "958:\tlearn: 0.2527469\ttotal: 7s\tremaining: 299ms\n",
      "959:\tlearn: 0.2527070\ttotal: 7s\tremaining: 292ms\n",
      "960:\tlearn: 0.2526846\ttotal: 7.01s\tremaining: 285ms\n",
      "961:\tlearn: 0.2526625\ttotal: 7.02s\tremaining: 277ms\n",
      "962:\tlearn: 0.2526431\ttotal: 7.03s\tremaining: 270ms\n",
      "963:\tlearn: 0.2526395\ttotal: 7.03s\tremaining: 263ms\n",
      "964:\tlearn: 0.2526053\ttotal: 7.04s\tremaining: 255ms\n",
      "965:\tlearn: 0.2525896\ttotal: 7.04s\tremaining: 248ms\n",
      "966:\tlearn: 0.2525828\ttotal: 7.05s\tremaining: 241ms\n",
      "967:\tlearn: 0.2525365\ttotal: 7.06s\tremaining: 233ms\n",
      "968:\tlearn: 0.2525049\ttotal: 7.07s\tremaining: 226ms\n",
      "969:\tlearn: 0.2524681\ttotal: 7.08s\tremaining: 219ms\n",
      "970:\tlearn: 0.2524359\ttotal: 7.08s\tremaining: 212ms\n",
      "971:\tlearn: 0.2524238\ttotal: 7.09s\tremaining: 204ms\n",
      "972:\tlearn: 0.2523812\ttotal: 7.1s\tremaining: 197ms\n",
      "973:\tlearn: 0.2523671\ttotal: 7.11s\tremaining: 190ms\n",
      "974:\tlearn: 0.2523566\ttotal: 7.12s\tremaining: 182ms\n",
      "975:\tlearn: 0.2523314\ttotal: 7.12s\tremaining: 175ms\n",
      "976:\tlearn: 0.2523141\ttotal: 7.13s\tremaining: 168ms\n",
      "977:\tlearn: 0.2522837\ttotal: 7.14s\tremaining: 161ms\n",
      "978:\tlearn: 0.2522375\ttotal: 7.14s\tremaining: 153ms\n",
      "979:\tlearn: 0.2522281\ttotal: 7.15s\tremaining: 146ms\n",
      "980:\tlearn: 0.2521941\ttotal: 7.16s\tremaining: 139ms\n",
      "981:\tlearn: 0.2521881\ttotal: 7.16s\tremaining: 131ms\n",
      "982:\tlearn: 0.2521685\ttotal: 7.17s\tremaining: 124ms\n",
      "983:\tlearn: 0.2521347\ttotal: 7.18s\tremaining: 117ms\n",
      "984:\tlearn: 0.2521153\ttotal: 7.18s\tremaining: 109ms\n",
      "985:\tlearn: 0.2520753\ttotal: 7.19s\tremaining: 102ms\n",
      "986:\tlearn: 0.2520574\ttotal: 7.2s\tremaining: 94.8ms\n",
      "987:\tlearn: 0.2520266\ttotal: 7.2s\tremaining: 87.5ms\n",
      "988:\tlearn: 0.2519850\ttotal: 7.21s\tremaining: 80.2ms\n",
      "989:\tlearn: 0.2519665\ttotal: 7.23s\tremaining: 73.1ms\n",
      "990:\tlearn: 0.2519495\ttotal: 7.24s\tremaining: 65.8ms\n",
      "991:\tlearn: 0.2519171\ttotal: 7.25s\tremaining: 58.5ms\n",
      "992:\tlearn: 0.2518649\ttotal: 7.26s\tremaining: 51.2ms\n",
      "993:\tlearn: 0.2518186\ttotal: 7.26s\tremaining: 43.9ms\n",
      "994:\tlearn: 0.2517917\ttotal: 7.27s\tremaining: 36.5ms\n",
      "995:\tlearn: 0.2517745\ttotal: 7.28s\tremaining: 29.2ms\n",
      "996:\tlearn: 0.2517615\ttotal: 7.29s\tremaining: 21.9ms\n",
      "997:\tlearn: 0.2517538\ttotal: 7.29s\tremaining: 14.6ms\n",
      "998:\tlearn: 0.2517389\ttotal: 7.3s\tremaining: 7.31ms\n",
      "999:\tlearn: 0.2517245\ttotal: 7.31s\tremaining: 0us\n"
     ]
    }
   ],
   "source": [
    "XGB=XGBClassifier()\n",
    "XGB.fit(X_train,Y_train)\n",
    "XGpred=XGB.predict(X_test)\n",
    "CAT=CatBoostClassifier()\n",
    "CAT.fit(X_train,Y_train)\n",
    "CATpred=CAT.predict(X_test)"
   ]
  },
  {
   "cell_type": "code",
   "execution_count": 69,
   "id": "1aaaf013-d031-44b1-8a57-0e471a495c6c",
   "metadata": {},
   "outputs": [
    {
     "name": "stdout",
     "output_type": "stream",
     "text": [
      "F1 score for XGBoost model :\n",
      " 0.7134296792386323\n",
      "Precision score for XGBoost model :\n",
      " 0.7719298245614035\n",
      "Recall score for XGBoost model :\n",
      " 0.6631716906946264\n",
      "Accuracy score for XGBoost model :\n",
      " 0.8750768285187461\n",
      "\n",
      "\n",
      "\n",
      "F1 score for Catboost model :\n",
      " 0.713528788413988\n",
      "Precision score for Catboost model :\n",
      " 0.7739463601532567\n",
      "Recall score for Catboost model :\n",
      " 0.6618610747051114\n",
      "Accuracy score for Catboost model :\n",
      " 0.8753841425937308\n"
     ]
    }
   ],
   "source": [
    "# Comparing various scores of the two models\n",
    "print('F1 score for XGBoost model :\\n',f1_score(Y_test,XGpred))\n",
    "print('Precision score for XGBoost model :\\n',precision_score(Y_test,XGpred))\n",
    "print('Recall score for XGBoost model :\\n',recall_score(Y_test,XGpred))\n",
    "print('Accuracy score for XGBoost model :\\n',accuracy_score(Y_test,XGpred))\n",
    "print('\\n\\n')\n",
    "print('F1 score for Catboost model :\\n',f1_score(Y_test,CATpred))\n",
    "print('Precision score for Catboost model :\\n',precision_score(Y_test,CATpred))\n",
    "print('Recall score for Catboost model :\\n',recall_score(Y_test,CATpred))\n",
    "print('Accuracy score for Catboost model :\\n',accuracy_score(Y_test,CATpred))"
   ]
  },
  {
   "cell_type": "markdown",
   "id": "1d866f38-227c-48ca-8fc7-ed528da8f4ce",
   "metadata": {},
   "source": [
    "Both models have almost similar accuracy in all aspects but XGBoost model has slightly better recall score and recall score is most important as a finencial institution me must not let any customer left out becouse of false prediction hance number of false negatives should be minimum. For this reason, we will consider Catboost Model for hyper-parameter tuning to improve accuracy. "
   ]
  },
  {
   "cell_type": "markdown",
   "id": "30eb8268-2dee-4c78-9930-90c392bcb83e",
   "metadata": {},
   "source": [
    "### Hyper parameter tuning"
   ]
  },
  {
   "cell_type": "code",
   "execution_count": 70,
   "id": "45bc2dfd-08ff-43f5-b9ca-e0afafc56a82",
   "metadata": {},
   "outputs": [],
   "source": [
    " from sklearn.model_selection import GridSearchCV\n",
    "params = {\n",
    "    'depth':[2,3,4,5],\n",
    "    'learning_rate':[0.015,0.01,0.02,0.025],\n",
    "    'iterations':[6,7,8,9]\n",
    "}"
   ]
  },
  {
   "cell_type": "code",
   "execution_count": 71,
   "id": "19fe06bf-2082-428e-888f-67d41b18b343",
   "metadata": {},
   "outputs": [],
   "source": [
    "grid_search=GridSearchCV(estimator=CatBoostClassifier(class_weights={0:1, 1:3}),param_grid=params,n_jobs=(-1),scoring='recall')"
   ]
  },
  {
   "cell_type": "code",
   "execution_count": 72,
   "id": "65015808-4b1d-4aa5-bff6-c13bb7ca5f76",
   "metadata": {
    "scrolled": true,
    "tags": []
   },
   "outputs": [
    {
     "name": "stdout",
     "output_type": "stream",
     "text": [
      "0:\tlearn: 0.6867737\ttotal: 7.32ms\tremaining: 51.2ms\n",
      "1:\tlearn: 0.6801778\ttotal: 13.6ms\tremaining: 40.8ms\n",
      "2:\tlearn: 0.6742932\ttotal: 20.8ms\tremaining: 34.7ms\n",
      "3:\tlearn: 0.6679650\ttotal: 28.4ms\tremaining: 28.4ms\n",
      "4:\tlearn: 0.6618177\ttotal: 37.3ms\tremaining: 22.4ms\n",
      "5:\tlearn: 0.6563477\ttotal: 50.1ms\tremaining: 16.7ms\n",
      "6:\tlearn: 0.6506449\ttotal: 62.1ms\tremaining: 8.87ms\n",
      "7:\tlearn: 0.6454661\ttotal: 72.9ms\tremaining: 0us\n"
     ]
    },
    {
     "data": {
      "text/plain": [
       "GridSearchCV(estimator=<catboost.core.CatBoostClassifier object at 0x000001F48049B5B0>,\n",
       "             n_jobs=-1,\n",
       "             param_grid={'depth': [2, 3, 4, 5], 'iterations': [6, 7, 8, 9],\n",
       "                         'learning_rate': [0.015, 0.01, 0.02, 0.025]},\n",
       "             scoring='recall')"
      ]
     },
     "execution_count": 72,
     "metadata": {},
     "output_type": "execute_result"
    }
   ],
   "source": [
    "grid_search.fit(X,Y)"
   ]
  },
  {
   "cell_type": "code",
   "execution_count": 73,
   "id": "67831e7a-c79e-4f14-a1ef-37d445961a3e",
   "metadata": {},
   "outputs": [
    {
     "data": {
      "text/plain": [
       "0.8946296706302176"
      ]
     },
     "execution_count": 73,
     "metadata": {},
     "output_type": "execute_result"
    }
   ],
   "source": [
    "grid_search.best_score_"
   ]
  },
  {
   "cell_type": "code",
   "execution_count": 74,
   "id": "227f5a57-1437-4106-91c8-b7d1a2071725",
   "metadata": {},
   "outputs": [
    {
     "data": {
      "text/plain": [
       "{'depth': 3, 'iterations': 8, 'learning_rate': 0.01}"
      ]
     },
     "execution_count": 74,
     "metadata": {},
     "output_type": "execute_result"
    }
   ],
   "source": [
    "grid_search.best_params_"
   ]
  },
  {
   "cell_type": "markdown",
   "id": "8508fdb9-0f09-45a1-9f5f-aa808942b6d9",
   "metadata": {},
   "source": [
    "We have succesfully improved the recall score of CatBoost Model from 66.18% to 89.46%, which is a significant boost. We will use CatBoost model with the best parameters from Grid Search for deployment."
   ]
  },
  {
   "cell_type": "code",
   "execution_count": 75,
   "id": "d1761a0b-ce87-4212-9425-d30262c0987c",
   "metadata": {},
   "outputs": [
    {
     "name": "stdout",
     "output_type": "stream",
     "text": [
      "0:\tlearn: 0.6867737\ttotal: 5.3ms\tremaining: 37.1ms\n",
      "1:\tlearn: 0.6801778\ttotal: 10.2ms\tremaining: 30.7ms\n",
      "2:\tlearn: 0.6742932\ttotal: 15.2ms\tremaining: 25.3ms\n",
      "3:\tlearn: 0.6679650\ttotal: 20ms\tremaining: 20ms\n",
      "4:\tlearn: 0.6618177\ttotal: 24.7ms\tremaining: 14.8ms\n",
      "5:\tlearn: 0.6563477\ttotal: 30ms\tremaining: 10ms\n",
      "6:\tlearn: 0.6506449\ttotal: 34.8ms\tremaining: 4.97ms\n",
      "7:\tlearn: 0.6454661\ttotal: 39.8ms\tremaining: 0us\n",
      "Model Score = 90.69462647444298 %\n"
     ]
    }
   ],
   "source": [
    "CatModel=CatBoostClassifier(class_weights={0:1, 1:3},depth=3,iterations=8,learning_rate=0.01)\n",
    "CatModel.fit(X,Y)\n",
    "preds=CatModel.predict(X_test)\n",
    "print('Model Score =',recall_score(Y_test,preds)*100,'%')"
   ]
  },
  {
   "cell_type": "markdown",
   "id": "b2016393-c944-45ce-8713-bfb61dcc1e06",
   "metadata": {},
   "source": [
    "We are gettig a score of 90.69% for test data."
   ]
  },
  {
   "cell_type": "markdown",
   "id": "5dec3aa5-a011-4346-8743-6a8f6282e60b",
   "metadata": {},
   "source": [
    "### Exporting trained model to local storage"
   ]
  },
  {
   "cell_type": "code",
   "execution_count": 76,
   "id": "5d017169-0066-49dc-91e9-d20e4d36a4fb",
   "metadata": {},
   "outputs": [],
   "source": [
    "import pickle"
   ]
  },
  {
   "cell_type": "code",
   "execution_count": 77,
   "id": "a2baff57-50df-419b-acdb-f8cc7ace5c14",
   "metadata": {},
   "outputs": [],
   "source": [
    "pickle.dump(CatModel,open('model.pkl', 'wb'))"
   ]
  },
  {
   "cell_type": "code",
   "execution_count": 78,
   "id": "3336143b-8731-4f52-8ceb-de5026bc97e1",
   "metadata": {},
   "outputs": [
    {
     "name": "stdout",
     "output_type": "stream",
     "text": [
      "Recall Score of Pickled Model = 90.69462647444298 %\n"
     ]
    }
   ],
   "source": [
    "#Checking if pickled model is predicting correctly or not\n",
    "pickled_model=pickle.load(open('model.pkl','rb'))\n",
    "preds=pickled_model.predict(X_test)\n",
    "print('Recall Score of Pickled Model =',recall_score(Y_test,preds)*100,'%')"
   ]
  },
  {
   "cell_type": "markdown",
   "id": "c5b101c2-d1b5-485b-b2ca-f43b6cae6445",
   "metadata": {},
   "source": [
    "Our pickled model is working correctly."
   ]
  }
 ],
 "metadata": {
  "kernelspec": {
   "display_name": "Python 3 (ipykernel)",
   "language": "python",
   "name": "python3"
  },
  "language_info": {
   "codemirror_mode": {
    "name": "ipython",
    "version": 3
   },
   "file_extension": ".py",
   "mimetype": "text/x-python",
   "name": "python",
   "nbconvert_exporter": "python",
   "pygments_lexer": "ipython3",
   "version": "3.9.12"
  }
 },
 "nbformat": 4,
 "nbformat_minor": 5
}
