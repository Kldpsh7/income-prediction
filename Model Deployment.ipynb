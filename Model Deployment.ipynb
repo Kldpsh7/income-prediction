{
 "cells": [
  {
   "cell_type": "code",
   "execution_count": 4,
   "id": "2a957015-7936-42d5-b6a0-46dbedeaef58",
   "metadata": {},
   "outputs": [],
   "source": [
    "#Importing required libraries"
   ]
  },
  {
   "cell_type": "code",
   "execution_count": 1,
   "id": "23c214e1-554f-4814-b6b1-b5978a7c09f0",
   "metadata": {},
   "outputs": [],
   "source": [
    "import pandas as pd\n",
    "import numpy as np\n",
    "import pickle"
   ]
  },
  {
   "cell_type": "code",
   "execution_count": 2,
   "id": "491acf15-4bcf-4b3a-b404-20a982765835",
   "metadata": {},
   "outputs": [
    {
     "name": "stdout",
     "output_type": "stream",
     "text": [
      "Collecting anvil-uplink\n",
      "  Downloading anvil_uplink-0.4.1-py2.py3-none-any.whl (87 kB)\n",
      "Collecting argparse\n",
      "  Downloading argparse-1.4.0-py2.py3-none-any.whl (23 kB)\n",
      "Requirement already satisfied: six in c:\\users\\kuldeep\\anaconda3\\lib\\site-packages (from anvil-uplink) (1.16.0)\n",
      "Collecting ws4py\n",
      "  Downloading ws4py-0.5.1.tar.gz (51 kB)\n",
      "Requirement already satisfied: future in c:\\users\\kuldeep\\anaconda3\\lib\\site-packages (from anvil-uplink) (0.18.2)\n",
      "Building wheels for collected packages: ws4py\n",
      "  Building wheel for ws4py (setup.py): started\n",
      "  Building wheel for ws4py (setup.py): finished with status 'done'\n",
      "  Created wheel for ws4py: filename=ws4py-0.5.1-py3-none-any.whl size=45227 sha256=421a87e5bb953f89da6da59d6e8a3c6f4392288c6c6193b3b98c85a70c388225\n",
      "  Stored in directory: c:\\users\\kuldeep\\appdata\\local\\pip\\cache\\wheels\\e8\\9d\\fd\\0a594a1bc8d493935d319ac40d64d79f5b4117ef4d37b1b678\n",
      "Successfully built ws4py\n",
      "Installing collected packages: ws4py, argparse, anvil-uplink\n",
      "Successfully installed anvil-uplink-0.4.1 argparse-1.4.0 ws4py-0.5.1\n"
     ]
    }
   ],
   "source": [
    "# Installing Anvil uplink to connect webapp to our python notebook.\n",
    "!pip install anvil-uplink"
   ]
  },
  {
   "cell_type": "code",
   "execution_count": 3,
   "id": "8db67ca4-2883-4cf0-ab13-62af08fbb40b",
   "metadata": {},
   "outputs": [
    {
     "name": "stdout",
     "output_type": "stream",
     "text": [
      "Connecting to wss://anvil.works/uplink\n",
      "Anvil websocket open\n",
      "Connected to \"Default environment\" as SERVER\n"
     ]
    }
   ],
   "source": [
    "# COnnecting to anvil server \n",
    "import anvil.server\n",
    "anvil.server.connect('E4OYYSRF2EZNEGEKZSPSSIRE-RC4AY4PAPGU43DRW')"
   ]
  },
  {
   "cell_type": "code",
   "execution_count": 37,
   "id": "1ed6f0f8-08ad-4614-af6b-02c167ed2b79",
   "metadata": {},
   "outputs": [],
   "source": [
    "#Creating an anvil callable function\n",
    "@anvil.server.callable\n",
    "def salary_prediction(age,capital_gain,education,marital_status,occupation,race,sex,workclass):\n",
    "    data=pd.DataFrame({'age':[age],'workclass':[workclass],'education_num':[education],'marital_status':[marital_status],\n",
    "                     'occupation':[occupation],'capital_gain':[capital_gain],'race':[race],'sex':[sex]})\n",
    "    data.rename(columns={'capital_gain':'capital_gain/loss'},inplace=True)\n",
    "    #Transforming data\n",
    "    \n",
    "    #for age \n",
    "    data.age=np.log(data.age) \n",
    "    \n",
    "    #for education_num, marital_status abd sex\n",
    "    data.replace(to_replace=['Preschool','1st-4th','5th-6th','7th-8th','9th','10th','11th','12th','HS-grad',\n",
    "                            'Some-college','Assoc-voc','Assoc-acdm','Bachelors','Masters','Prof-school',\n",
    "                            'Doctorate','Married','Not Married','Male','Female'],\n",
    "                 value=[1,2,3,4,5,6,7,8,9,10,11,12,13,14,15,16,1,0,0,1],inplace=True)\n",
    "    \n",
    "    #for workclass, race and occupation\n",
    "    data=pd.get_dummies(data,columns=['workclass','occupation','race'])\n",
    "    \n",
    "    #loading pickled model\n",
    "    model=pickle.load(open('model.pkl','rb'))\n",
    "    pred=model.predict(data)\n",
    "    salary=pred[0]\n",
    "    return salary"
   ]
  },
  {
   "cell_type": "code",
   "execution_count": null,
   "id": "9c5d96da-3f2d-42dd-84b7-7c2ff00236a4",
   "metadata": {},
   "outputs": [],
   "source": []
  },
  {
   "cell_type": "code",
   "execution_count": null,
   "id": "0e870c48-2a48-4ba1-a9b8-5212a010bb70",
   "metadata": {},
   "outputs": [],
   "source": []
  }
 ],
 "metadata": {
  "kernelspec": {
   "display_name": "Python 3 (ipykernel)",
   "language": "python",
   "name": "python3"
  },
  "language_info": {
   "codemirror_mode": {
    "name": "ipython",
    "version": 3
   },
   "file_extension": ".py",
   "mimetype": "text/x-python",
   "name": "python",
   "nbconvert_exporter": "python",
   "pygments_lexer": "ipython3",
   "version": "3.9.12"
  }
 },
 "nbformat": 4,
 "nbformat_minor": 5
}
